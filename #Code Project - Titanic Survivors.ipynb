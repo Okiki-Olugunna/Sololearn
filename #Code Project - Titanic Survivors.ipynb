{
 "cells": [
  {
   "cell_type": "markdown",
   "id": "6bcce6d0",
   "metadata": {},
   "source": [
    "#### Titanic Survivors\n",
    "\n",
    "You are working on the Titanic Survivors data set, which includes information on the passengers of the ship.\n",
    "The data is stored in a CSV file, which is already imported in the given code.\n",
    "\n",
    "You want to understand how the class of the ticket impacted the survival rate. For that, you need to find and output the mean class value for the passengers who are adults (Age >= 18), grouped by the Survived column.\n",
    "\n",
    "First, print the whole data set and try to analyze it and understand what column it holds and what they mean."
   ]
  },
  {
   "cell_type": "code",
   "execution_count": null,
   "id": "011d76db",
   "metadata": {},
   "outputs": [],
   "source": [
    "x <- read.csv('/usercode/files/titanic.csv')\n",
    "\n",
    "#print(x)\n",
    "#columns: Survived, Pclass, Sex, Age, Siblings.Spouses, Parents.Children, Fare\n",
    "\n",
    "a <- x[x$Age >= 18, ]\n",
    "#print(a)\n",
    "\n",
    "i <- tapply(a$Pclass, a$Survived, mean)\n",
    "print(i)"
   ]
  }
 ],
 "metadata": {
  "kernelspec": {
   "display_name": "R",
   "language": "R",
   "name": "ir"
  },
  "language_info": {
   "codemirror_mode": "r",
   "file_extension": ".r",
   "mimetype": "text/x-r-source",
   "name": "R",
   "pygments_lexer": "r",
   "version": "3.6.1"
  }
 },
 "nbformat": 4,
 "nbformat_minor": 5
}
