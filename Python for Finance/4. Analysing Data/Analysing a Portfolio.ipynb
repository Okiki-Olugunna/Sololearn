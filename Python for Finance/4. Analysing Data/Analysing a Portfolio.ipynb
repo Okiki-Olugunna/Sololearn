{
 "cells": [
  {
   "cell_type": "code",
   "execution_count": 1,
   "id": "35d866b6",
   "metadata": {},
   "outputs": [],
   "source": [
    "import statsmodels.api as sm\n",
    "import yfinance as yf\n",
    "import pandas as pd\n",
    "import numpy as np\n",
    "import numpy_financial as npf\n",
    "import matplotlib.pyplot as plt"
   ]
  },
  {
   "cell_type": "code",
   "execution_count": 2,
   "id": "47adad52",
   "metadata": {},
   "outputs": [
    {
     "name": "stdout",
     "output_type": "stream",
     "text": [
      "[*********************100%***********************]  4 of 4 completed\n"
     ]
    }
   ],
   "source": [
    "stocks = [\"AAPL\", \"AMZN\", \"MSFT\", \"TSLA\"]\n",
    "weights = [0.3, 0.2, 0.4, 0.1]\n",
    "\n",
    "data = yf.download(stocks, start=\"2021-01-01\")"
   ]
  },
  {
   "cell_type": "code",
   "execution_count": 5,
   "id": "bc4d32cf",
   "metadata": {},
   "outputs": [],
   "source": [
    "# daily returns\n",
    "x = data['Close'].pct_change()\n",
    "\n",
    "# portfolio return\n",
    "ret = (x * weights).sum(axis=1)\n",
    "\n",
    "# total cumulative returns for portfolio\n",
    "cumulative = (ret + 1).cumprod()"
   ]
  },
  {
   "cell_type": "code",
   "execution_count": 6,
   "id": "bebe6da0",
   "metadata": {},
   "outputs": [
    {
     "data": {
      "text/plain": [
       "<AxesSubplot:xlabel='Date'>"
      ]
     },
     "execution_count": 6,
     "metadata": {},
     "output_type": "execute_result"
    },
    {
     "data": {
      "image/png": "[encoded data removed]",
      "text/plain": [
       "<Figure size 432x288 with 1 Axes>"
      ]
     },
     "metadata": {
      "needs_background": "light"
     },
     "output_type": "display_data"
    }
   ],
   "source": [
    "cumulative.plot()"
   ]
  },
  {
   "cell_type": "code",
   "execution_count": 7,
   "id": "af37a731",
   "metadata": {},
   "outputs": [
    {
     "name": "stdout",
     "output_type": "stream",
     "text": [
      "0.013458015517538651\n"
     ]
    }
   ],
   "source": [
    "# daily volatility\n",
    "\n",
    "print(np.std(ret))"
   ]
  },
  {
   "cell_type": "code",
   "execution_count": 9,
   "id": "5c7db337",
   "metadata": {},
   "outputs": [
    {
     "name": "stdout",
     "output_type": "stream",
     "text": [
      "0.21363937319913295\n"
     ]
    }
   ],
   "source": [
    "# annual volatility (252 trading days)\n",
    "# this will give us the risk percentage of the portfolio\n",
    "\n",
    "annual_std = np.std(ret) * np.sqrt(252)\n",
    "\n",
    "print(annual_std)"
   ]
  },
  {
   "cell_type": "code",
   "execution_count": 12,
   "id": "16c55cc2",
   "metadata": {},
   "outputs": [
    {
     "name": "stdout",
     "output_type": "stream",
     "text": [
      "1.4275302447423086\n"
     ]
    }
   ],
   "source": [
    "# Sharpe ratio - risk adjusted return \n",
    "# average return / volatility\n",
    "\n",
    "sharpe = (np.mean(ret) / np.std(ret)) * np.sqrt(252)\n",
    "\n",
    "print(sharpe)"
   ]
  }
 ],
 "metadata": {
  "kernelspec": {
   "display_name": "Python 3",
   "language": "python",
   "name": "python3"
  },
  "language_info": {
   "codemirror_mode": {
    "name": "ipython",
    "version": 3
   },
   "file_extension": ".py",
   "mimetype": "text/x-python",
   "name": "python",
   "nbconvert_exporter": "python",
   "pygments_lexer": "ipython3",
   "version": "3.8.8"
  }
 },
 "nbformat": 4,
 "nbformat_minor": 5
}
