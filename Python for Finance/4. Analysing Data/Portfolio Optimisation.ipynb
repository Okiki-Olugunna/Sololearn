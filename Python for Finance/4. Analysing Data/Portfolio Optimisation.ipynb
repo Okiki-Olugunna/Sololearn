{
 "cells": [
  {
   "cell_type": "code",
   "execution_count": 1,
   "id": "4a74093a",
   "metadata": {},
   "outputs": [],
   "source": [
    "import statsmodels.api as sm\n",
    "import yfinance as yf\n",
    "import pandas as pd\n",
    "import numpy as np\n",
    "import numpy_financial as npf\n",
    "import matplotlib.pyplot as plt"
   ]
  },
  {
   "cell_type": "code",
   "execution_count": 2,
   "id": "dba52b8d",
   "metadata": {},
   "outputs": [
    {
     "name": "stdout",
     "output_type": "stream",
     "text": [
      "[*********************100%***********************]  4 of 4 completed\n"
     ]
    }
   ],
   "source": [
    "stocks = [\"AAPL\", \"AMZN\", \"MSFT\", \"TSLA\"]\n",
    "\n",
    "stocks_data = yf.download(stocks, start=\"2018-01-01\")"
   ]
  },
  {
   "cell_type": "code",
   "execution_count": 3,
   "id": "427ee76f",
   "metadata": {},
   "outputs": [
    {
     "name": "stdout",
     "output_type": "stream",
     "text": [
      "                AAPL      AMZN      MSFT      TSLA\n",
      "Date                                              \n",
      "2018-01-02       NaN       NaN       NaN       NaN\n",
      "2018-01-03 -0.000174  0.012775  0.004654 -0.010233\n",
      "2018-01-04  0.004645  0.004476  0.008801 -0.008290\n",
      "2018-01-05  0.011385  0.016163  0.012398  0.006230\n",
      "2018-01-08 -0.003714  0.014425  0.001020  0.062638\n",
      "...              ...       ...       ...       ...\n",
      "2022-01-03  0.025004  0.022118 -0.004668  0.135317\n",
      "2022-01-04 -0.012692 -0.016916 -0.017147 -0.041833\n",
      "2022-01-05 -0.026600 -0.018893 -0.038388 -0.053471\n",
      "2022-01-06 -0.016693 -0.006711 -0.007902 -0.021523\n",
      "2022-01-07  0.000988 -0.004288  0.000510 -0.035447\n",
      "\n",
      "[1013 rows x 4 columns]\n"
     ]
    }
   ],
   "source": [
    "# daily return \n",
    "\n",
    "data = stocks_data['Close']\n",
    "\n",
    "x = data.pct_change()\n",
    "print(x)"
   ]
  },
  {
   "cell_type": "code",
   "execution_count": 7,
   "id": "25ae680a",
   "metadata": {},
   "outputs": [],
   "source": [
    "p_weights = []\n",
    "p_returns = []\n",
    "p_risk = []\n",
    "p_sharpe = []"
   ]
  },
  {
   "cell_type": "code",
   "execution_count": 8,
   "id": "d96c3e2b",
   "metadata": {},
   "outputs": [],
   "source": [
    "# generating random weights for each of the stocks\n",
    "wts = np.random.uniform(size = len(x.columns))\n",
    "\n",
    "# normalising the weights so the sum of the random weights is equal to 1\n",
    "wts = wts / np.sum(wts)"
   ]
  },
  {
   "cell_type": "code",
   "execution_count": 9,
   "id": "1ca463fd",
   "metadata": {},
   "outputs": [],
   "source": [
    "# 500 portfolios\n",
    "count = 500 \n",
    "\n",
    "for k in range(0, count): \n",
    "    wts = np.random.uniform(size = len(x.columns)) \n",
    "    wts = wts/np.sum(wts) \n",
    "    p_weights.append(wts) \n",
    "\n",
    "    #returns \n",
    "    mean_ret = (x.mean() * wts).sum()*252 \n",
    "    p_returns.append(mean_ret) \n",
    "\n",
    "    #volatility \n",
    "    ret = (x * wts).sum(axis = 1) \n",
    "    annual_std = np.std(ret) * np.sqrt(252) \n",
    "    p_risk.append(annual_std) \n",
    "\n",
    "    #Sharpe ratio \n",
    "    sharpe = (np.mean(ret) / np.std(ret))*np.sqrt(252) \n",
    "    p_sharpe.append(sharpe)"
   ]
  },
  {
   "cell_type": "code",
   "execution_count": 10,
   "id": "23ed9565",
   "metadata": {},
   "outputs": [
    {
     "name": "stdout",
     "output_type": "stream",
     "text": [
      "1.575911908767426\n",
      "[0.26435608 0.01607112 0.36826293 0.35130987]\n"
     ]
    }
   ],
   "source": [
    "# finding the index of the portfolio with the maximum Sharpe ratio \n",
    "max_ind = np.argmax(p_sharpe)\n",
    "\n",
    "# max Sharpe ratio\n",
    "print(p_sharpe[max_ind])\n",
    "\n",
    "# weights \n",
    "print(p_weights[max_ind])"
   ]
  },
  {
   "cell_type": "code",
   "execution_count": 11,
   "id": "c8e6d1b2",
   "metadata": {},
   "outputs": [
    {
     "data": {
      "text/plain": [
       "<AxesSubplot:>"
      ]
     },
     "execution_count": 11,
     "metadata": {},
     "output_type": "execute_result"
    },
    {
     "data": {
      "image/png": "[encoded data removed]",
      "text/plain": [
       "<Figure size 432x288 with 1 Axes>"
      ]
     },
     "metadata": {
      "needs_background": "light"
     },
     "output_type": "display_data"
    }
   ],
   "source": [
    "# visualising the weights \n",
    "\n",
    "s = pd.Series(p_weights[max_ind], index=x.columns)\n",
    "s.plot(kind=\"bar\")"
   ]
  },
  {
   "cell_type": "code",
   "execution_count": 12,
   "id": "39df2848",
   "metadata": {},
   "outputs": [
    {
     "data": {
      "image/png": "[encoded data removed]",
      "text/plain": [
       "<Figure size 432x288 with 2 Axes>"
      ]
     },
     "metadata": {
      "needs_background": "light"
     },
     "output_type": "display_data"
    }
   ],
   "source": [
    "# plotting all 500 portfolios now - The Efficient Frontier\n",
    "\n",
    "plt.scatter(p_risk, p_returns, c=p_sharpe, cmap='plasma') \n",
    "plt.colorbar(label='Sharpe Ratio') \n",
    "\n",
    "# red star marker to show the most efficient portfolio with the best Sharpe ratio \n",
    "plt.scatter(p_risk[max_ind], p_returns[max_ind], color='r', marker='*', s=500) \n",
    "plt.show()"
   ]
  },
  {
   "cell_type": "code",
   "execution_count": null,
   "id": "74e0ab44",
   "metadata": {},
   "outputs": [],
   "source": []
  }
 ],
 "metadata": {
  "kernelspec": {
   "display_name": "Python 3",
   "language": "python",
   "name": "python3"
  },
  "language_info": {
   "codemirror_mode": {
    "name": "ipython",
    "version": 3
   },
   "file_extension": ".py",
   "mimetype": "text/x-python",
   "name": "python",
   "nbconvert_exporter": "python",
   "pygments_lexer": "ipython3",
   "version": "3.8.8"
  }
 },
 "nbformat": 4,
 "nbformat_minor": 5
}
