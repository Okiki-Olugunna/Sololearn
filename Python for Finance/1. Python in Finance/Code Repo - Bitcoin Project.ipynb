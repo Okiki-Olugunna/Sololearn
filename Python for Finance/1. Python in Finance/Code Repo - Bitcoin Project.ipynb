{
 "cells": [
  {
   "cell_type": "markdown",
   "id": "1e287bbf",
   "metadata": {},
   "source": [
    "#### Project\n",
    "\n",
    "In this project we will analyze Bitcoin prices, calculate the investment values, and analyze return rates.\n",
    "\n",
    "This project will involve multiple steps, with each step requiring a number of tasks to accomplish.\n",
    "\n",
    "We will start with easy tasks using static data, and progress to more advanced tasks that use real data we will obtain from the web.\n",
    "\n",
    "By the end of the project, we will be able to fetch Bitcoin’s real price, and analyze and create charts based on its historic values.\n",
    "\n",
    "Let's get started!\n",
    "\n",
    "Task:\n",
    "The given code includes an array that identifies Bitcoin's price as of January 1 of each year between 2018-2021.\n",
    "\n",
    "bitcoin = [3869.47, 7188.46, 22203.31, 29391.78]\n",
    "\n",
    "Create a program to calculate and output the standard deviation of the price values.\n",
    "\n",
    "Expected result:\n",
    "10513.803224771947 "
   ]
  },
  {
   "cell_type": "code",
   "execution_count": 2,
   "id": "def4b41a",
   "metadata": {},
   "outputs": [
    {
     "name": "stdout",
     "output_type": "stream",
     "text": [
      "10513.803224771947\n"
     ]
    }
   ],
   "source": [
    "import numpy as np\n",
    "import numpy_financial as npf\n",
    "\n",
    "#price for 2018-2021\n",
    "bitcoin = [3869.47, 7188.46, 22203.31, 29391.78]\n",
    "\n",
    "print(np.std(bitcoin))"
   ]
  }
 ],
 "metadata": {
  "kernelspec": {
   "display_name": "Python 3",
   "language": "python",
   "name": "python3"
  },
  "language_info": {
   "codemirror_mode": {
    "name": "ipython",
    "version": 3
   },
   "file_extension": ".py",
   "mimetype": "text/x-python",
   "name": "python",
   "nbconvert_exporter": "python",
   "pygments_lexer": "ipython3",
   "version": "3.8.8"
  }
 },
 "nbformat": 4,
 "nbformat_minor": 5
}
