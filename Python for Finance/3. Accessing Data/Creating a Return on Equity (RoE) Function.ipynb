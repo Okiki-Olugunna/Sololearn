{
 "cells": [
  {
   "cell_type": "markdown",
   "id": "bcd19937",
   "metadata": {},
   "source": [
    "#### Creating a function to calculate the RoE for a given company's ticker"
   ]
  },
  {
   "cell_type": "code",
   "execution_count": 2,
   "id": "c4dfb85f",
   "metadata": {},
   "outputs": [],
   "source": [
    "#using the yfinance package \n",
    "\n",
    "def RoE(ticker):\n",
    "    import yfinance as yf\n",
    "    data = yf.Ticker(ticker)\n",
    "    roe = data.info['returnOnEquity']\n",
    "    name = data.info['shortName']\n",
    "    print(f\"{name}: {roe}\")"
   ]
  },
  {
   "cell_type": "code",
   "execution_count": 3,
   "id": "0941fd18",
   "metadata": {},
   "outputs": [
    {
     "name": "stdout",
     "output_type": "stream",
     "text": [
      "Apple Inc.: 1.47443\n"
     ]
    }
   ],
   "source": [
    "RoE('AAPL')"
   ]
  },
  {
   "cell_type": "code",
   "execution_count": 4,
   "id": "7db87a85",
   "metadata": {},
   "outputs": [
    {
     "name": "stdout",
     "output_type": "stream",
     "text": [
      "Tesla, Inc.: 0.15641\n",
      "Amazon.com, Inc.: 0.25832\n"
     ]
    }
   ],
   "source": [
    "RoE('TSLA')\n",
    "RoE('AMZN')"
   ]
  }
 ],
 "metadata": {
  "kernelspec": {
   "display_name": "Python 3",
   "language": "python",
   "name": "python3"
  },
  "language_info": {
   "codemirror_mode": {
    "name": "ipython",
    "version": 3
   },
   "file_extension": ".py",
   "mimetype": "text/x-python",
   "name": "python",
   "nbconvert_exporter": "python",
   "pygments_lexer": "ipython3",
   "version": "3.8.8"
  }
 },
 "nbformat": 4,
 "nbformat_minor": 5
}
