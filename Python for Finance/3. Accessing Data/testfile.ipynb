{
 "cells": [
  {
   "cell_type": "code",
   "execution_count": 1,
   "id": "dcb69cee",
   "metadata": {},
   "outputs": [],
   "source": [
    "import pandas as pd"
   ]
  },
  {
   "cell_type": "code",
   "execution_count": 4,
   "id": "65e14cb8",
   "metadata": {},
   "outputs": [
    {
     "data": {
      "text/plain": [
       "count      5.000000\n",
       "mean     168.400000\n",
       "std      106.502582\n",
       "min       42.000000\n",
       "25%       80.000000\n",
       "50%      190.000000\n",
       "75%      230.000000\n",
       "max      300.000000\n",
       "dtype: float64"
      ]
     },
     "execution_count": 4,
     "metadata": {},
     "output_type": "execute_result"
    }
   ],
   "source": [
    "prices = [42, 80, 230, 300, 190]\n",
    "\n",
    "s = pd.Series(prices)\n",
    "s.describe()\n"
   ]
  },
  {
   "cell_type": "code",
   "execution_count": 9,
   "id": "16675ddf",
   "metadata": {},
   "outputs": [
    {
     "name": "stdout",
     "output_type": "stream",
     "text": [
      "         date  prices\n",
      "0  2021-12-01      42\n",
      "1  2021-12-02      80\n",
      "2  2021-12-03     230\n",
      "3  2021-12-04     300\n",
      "4  2021-12-05     190\n"
     ]
    }
   ],
   "source": [
    "data = {\n",
    "    \"date\": ['2021-12-01', '2021-12-02', '2021-12-03', '2021-12-04', '2021-12-05'],\n",
    "    \"prices\": [42, 80, 230, 300, 190]\n",
    "}\n",
    "\n",
    "df = pd.DataFrame(data)\n",
    "print(df)"
   ]
  },
  {
   "cell_type": "code",
   "execution_count": 15,
   "id": "388535d6",
   "metadata": {},
   "outputs": [
    {
     "name": "stdout",
     "output_type": "stream",
     "text": [
      "    Symbol             Security SEC filings             GICS Sector  \\\n",
      "0      MMM           3M Company     reports             Industrials   \n",
      "1      ABT  Abbott Laboratories     reports             Health Care   \n",
      "2     ABBV               AbbVie     reports             Health Care   \n",
      "3     ABMD              Abiomed     reports             Health Care   \n",
      "4      ACN            Accenture     reports  Information Technology   \n",
      "..     ...                  ...         ...                     ...   \n",
      "500    YUM          Yum! Brands     reports  Consumer Discretionary   \n",
      "501   ZBRA   Zebra Technologies     reports  Information Technology   \n",
      "502    ZBH        Zimmer Biomet     reports             Health Care   \n",
      "503   ZION        Zions Bancorp     reports              Financials   \n",
      "504    ZTS               Zoetis     reports             Health Care   \n",
      "\n",
      "                      GICS Sub-Industry    Headquarters Location  \\\n",
      "0              Industrial Conglomerates    Saint Paul, Minnesota   \n",
      "1                 Health Care Equipment  North Chicago, Illinois   \n",
      "2                       Pharmaceuticals  North Chicago, Illinois   \n",
      "3                 Health Care Equipment   Danvers, Massachusetts   \n",
      "4        IT Consulting & Other Services          Dublin, Ireland   \n",
      "..                                  ...                      ...   \n",
      "500                         Restaurants     Louisville, Kentucky   \n",
      "501  Electronic Equipment & Instruments   Lincolnshire, Illinois   \n",
      "502               Health Care Equipment          Warsaw, Indiana   \n",
      "503                      Regional Banks     Salt Lake City, Utah   \n",
      "504                     Pharmaceuticals   Parsippany, New Jersey   \n",
      "\n",
      "    Date first added      CIK      Founded  \n",
      "0         1976-08-09    66740         1902  \n",
      "1         1964-03-31     1800         1888  \n",
      "2         2012-12-31  1551152  2013 (1888)  \n",
      "3         2018-05-31   815094         1981  \n",
      "4         2011-07-06  1467373         1989  \n",
      "..               ...      ...          ...  \n",
      "500       1997-10-06  1041061         1997  \n",
      "501       2019-12-23   877212         1969  \n",
      "502       2001-08-07  1136869         1927  \n",
      "503       2001-06-22   109380         1873  \n",
      "504       2013-06-21  1555280         1952  \n",
      "\n",
      "[505 rows x 9 columns]\n"
     ]
    }
   ],
   "source": [
    "# web scraping wikipedia for the S&P 500\n",
    "\n",
    "newdata = pd.read_html('https://en.wikipedia.org/wiki/List_of_S%26P_500_companies')\n",
    "\n",
    "df = newdata[0]\n",
    "print(df)"
   ]
  },
  {
   "cell_type": "code",
   "execution_count": 16,
   "id": "1a8bc8b2",
   "metadata": {},
   "outputs": [
    {
     "name": "stdout",
     "output_type": "stream",
     "text": [
      "    Symbol             Security\n",
      "0      MMM           3M Company\n",
      "1      ABT  Abbott Laboratories\n",
      "2     ABBV               AbbVie\n",
      "3     ABMD              Abiomed\n",
      "4      ACN            Accenture\n",
      "..     ...                  ...\n",
      "500    YUM          Yum! Brands\n",
      "501   ZBRA   Zebra Technologies\n",
      "502    ZBH        Zimmer Biomet\n",
      "503   ZION        Zions Bancorp\n",
      "504    ZTS               Zoetis\n",
      "\n",
      "[505 rows x 2 columns]\n"
     ]
    }
   ],
   "source": [
    "df1 = df[['Symbol', 'Security']]\n",
    "print(df1)"
   ]
  },
  {
   "cell_type": "code",
   "execution_count": 19,
   "id": "91deb4da",
   "metadata": {},
   "outputs": [
    {
     "name": "stdout",
     "output_type": "stream",
     "text": [
      "   Symbol Security SEC filings             GICS Sector  \\\n",
      "44   AAPL    Apple     reports  Information Technology   \n",
      "\n",
      "                             GICS Sub-Industry  Headquarters Location  \\\n",
      "44  Technology Hardware, Storage & Peripherals  Cupertino, California   \n",
      "\n",
      "   Date first added     CIK Founded  \n",
      "44       1982-11-30  320193    1977  \n"
     ]
    }
   ],
   "source": [
    "# filter by company\n",
    "Apple = df[df['Security'] == 'Apple']\n",
    "print(Apple)"
   ]
  },
  {
   "cell_type": "code",
   "execution_count": 20,
   "id": "51346511",
   "metadata": {},
   "outputs": [
    {
     "name": "stdout",
     "output_type": "stream",
     "text": [
      "<class 'pandas.core.frame.DataFrame'>\n",
      "RangeIndex: 505 entries, 0 to 504\n",
      "Data columns (total 9 columns):\n",
      " #   Column                 Non-Null Count  Dtype \n",
      "---  ------                 --------------  ----- \n",
      " 0   Symbol                 505 non-null    object\n",
      " 1   Security               505 non-null    object\n",
      " 2   SEC filings            505 non-null    object\n",
      " 3   GICS Sector            505 non-null    object\n",
      " 4   GICS Sub-Industry      505 non-null    object\n",
      " 5   Headquarters Location  505 non-null    object\n",
      " 6   Date first added       457 non-null    object\n",
      " 7   CIK                    505 non-null    int64 \n",
      " 8   Founded                505 non-null    object\n",
      "dtypes: int64(1), object(8)\n",
      "memory usage: 35.6+ KB\n"
     ]
    }
   ],
   "source": [
    "#looking at all available columns \n",
    "\n",
    "df.info()"
   ]
  },
  {
   "cell_type": "code",
   "execution_count": 22,
   "id": "dc169fa4",
   "metadata": {},
   "outputs": [
    {
     "name": "stdout",
     "output_type": "stream",
     "text": [
      "                       Name                                        Title  \\\n",
      "0          Mr. Elon R. Musk          Technoking of Tesla, CEO & Director   \n",
      "1   Mr. Zachary J. Kirkhorn                         Master of Coin & CFO   \n",
      "2     Mr. Andrew D. Baglino    Sr. VP of Powertrain & Energy Engineering   \n",
      "3        Mr. Vaibhav Taneja  Corp. Controller & Chief Accounting Officer   \n",
      "4         Mr. Martin Viecha          Sr. Director for Investor Relations   \n",
      "5         Mr. Alan Prescott                                  VP of Legal   \n",
      "6           Mr. Dave Arnold        Sr. Director of Global Communications   \n",
      "7              Brian Scelfo                 Sr. Director of Corp. Devel.   \n",
      "8   Mr. Jeffrey B. Straubel                                  Sr. Advisor   \n",
      "9  Mr. Franz von Holzhausen                               Chief Designer   \n",
      "\n",
      "       Pay Exercised  Year Born  \n",
      "0      NaN       NaN     1972.0  \n",
      "1  300.76k     4.19M     1985.0  \n",
      "2  283.27k    14.86M     1981.0  \n",
      "3      NaN       NaN     1978.0  \n",
      "4      NaN       NaN        NaN  \n",
      "5      NaN       NaN        NaN  \n",
      "6      NaN       NaN        NaN  \n",
      "7      NaN       NaN        NaN  \n",
      "8      NaN       NaN     1976.0  \n",
      "9      NaN       NaN        NaN  \n"
     ]
    }
   ],
   "source": [
    "import requests\n",
    "\n",
    "url_link = 'https://finance.yahoo.com/quote/TSLA/profile' \n",
    "\n",
    "r = requests.get(url_link, headers={'User-Agent':'Mozilla/5.0 (Windows NT 10.0; Win64; x64) AppleWebKit/537.36 (KHTML, like Gecko) Chrome/91.0.4472.124 Safari/537.36'}) \n",
    "\n",
    "data1 = pd.read_html(r.text) \n",
    "print(data1[0])"
   ]
  },
  {
   "cell_type": "code",
   "execution_count": 31,
   "id": "fafaceb5",
   "metadata": {},
   "outputs": [
    {
     "name": "stdout",
     "output_type": "stream",
     "text": [
      "                       Name                                        Title  \\\n",
      "0          Mr. Elon R. Musk          Technoking of Tesla, CEO & Director   \n",
      "1   Mr. Zachary J. Kirkhorn                         Master of Coin & CFO   \n",
      "2     Mr. Andrew D. Baglino    Sr. VP of Powertrain & Energy Engineering   \n",
      "3        Mr. Vaibhav Taneja  Corp. Controller & Chief Accounting Officer   \n",
      "4         Mr. Martin Viecha          Sr. Director for Investor Relations   \n",
      "5         Mr. Alan Prescott                                  VP of Legal   \n",
      "6           Mr. Dave Arnold        Sr. Director of Global Communications   \n",
      "7              Brian Scelfo                 Sr. Director of Corp. Devel.   \n",
      "8   Mr. Jeffrey B. Straubel                                  Sr. Advisor   \n",
      "9  Mr. Franz von Holzhausen                               Chief Designer   \n",
      "\n",
      "       Pay Exercised  Year Born  \n",
      "0      NaN       NaN     1972.0  \n",
      "1  300.76k     4.19M     1985.0  \n",
      "2  283.27k    14.86M     1981.0  \n",
      "3      NaN       NaN     1978.0  \n",
      "4      NaN       NaN        NaN  \n",
      "5      NaN       NaN        NaN  \n",
      "6      NaN       NaN        NaN  \n",
      "7      NaN       NaN        NaN  \n",
      "8      NaN       NaN     1976.0  \n",
      "9      NaN       NaN        NaN  \n"
     ]
    },
    {
     "ename": "TypeError",
     "evalue": "list indices must be integers or slices, not DataFrame",
     "output_type": "error",
     "traceback": [
      "\u001b[1;31m---------------------------------------------------------------------------\u001b[0m",
      "\u001b[1;31mTypeError\u001b[0m                                 Traceback (most recent call last)",
      "\u001b[1;32m<ipython-input-31-69e3a1b6917a>\u001b[0m in \u001b[0;36m<module>\u001b[1;34m\u001b[0m\n\u001b[0;32m      5\u001b[0m \u001b[1;33m\u001b[0m\u001b[0m\n\u001b[0;32m      6\u001b[0m \u001b[1;31m# Now we can access the Avg. Estimate row from the table and plot it as a bar chart:\u001b[0m\u001b[1;33m\u001b[0m\u001b[1;33m\u001b[0m\u001b[1;33m\u001b[0m\u001b[0m\n\u001b[1;32m----> 7\u001b[1;33m \u001b[0mdata3\u001b[0m \u001b[1;33m=\u001b[0m \u001b[0mdata2\u001b[0m\u001b[1;33m[\u001b[0m\u001b[0mdata2\u001b[0m\u001b[1;33m[\u001b[0m\u001b[1;36m0\u001b[0m\u001b[1;33m]\u001b[0m \u001b[1;33m==\u001b[0m \u001b[1;34m'Avg. Estimate'\u001b[0m\u001b[1;33m]\u001b[0m\u001b[1;33m\u001b[0m\u001b[1;33m\u001b[0m\u001b[0m\n\u001b[0m\u001b[0;32m      8\u001b[0m \u001b[0mdata3\u001b[0m\u001b[1;33m.\u001b[0m\u001b[0mplot\u001b[0m\u001b[1;33m(\u001b[0m\u001b[0mkind\u001b[0m\u001b[1;33m=\u001b[0m\u001b[1;34m'bar'\u001b[0m\u001b[1;33m)\u001b[0m\u001b[1;33m\u001b[0m\u001b[1;33m\u001b[0m\u001b[0m\n",
      "\u001b[1;31mTypeError\u001b[0m: list indices must be integers or slices, not DataFrame"
     ]
    }
   ],
   "source": [
    "url_link1 = 'https://finance.yahoo.com/quote/TSLA/analysis?p=TSLA' \n",
    "\n",
    "data2 = pd.read_html(r.text) \n",
    "print(data2[0]) \n",
    "\n",
    "# Now we can access the Avg. Estimate row from the table and plot it as a bar chart:\n",
    "data3 = data2[data2['Earnings Estimate'] == 'Avg. Estimate'] \n",
    "data3.plot(kind='bar') \n"
   ]
  }
 ],
 "metadata": {
  "kernelspec": {
   "display_name": "Python 3",
   "language": "python",
   "name": "python3"
  },
  "language_info": {
   "codemirror_mode": {
    "name": "ipython",
    "version": 3
   },
   "file_extension": ".py",
   "mimetype": "text/x-python",
   "name": "python",
   "nbconvert_exporter": "python",
   "pygments_lexer": "ipython3",
   "version": "3.8.8"
  }
 },
 "nbformat": 4,
 "nbformat_minor": 5
}
