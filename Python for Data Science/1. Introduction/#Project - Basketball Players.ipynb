{
 "cells": [
  {
   "cell_type": "markdown",
   "id": "b9f2f254",
   "metadata": {},
   "source": [
    "### Project - Basketball Players\n",
    "\n",
    "The given code includes a list of heights for various basketball players.\n",
    "\n",
    "players = [180, 172, 178, 185, 190, 195, 192, 200, 210, 190]\n",
    "\n",
    "You need to calculate and output how many players are in the range of one standard deviation from the mean."
   ]
  },
  {
   "cell_type": "code",
   "execution_count": 7,
   "id": "b4e850ce",
   "metadata": {},
   "outputs": [
    {
     "name": "stdout",
     "output_type": "stream",
     "text": [
      "There are 6 players within one standard deviation (+/- 10.56) from the mean (189.2).\n"
     ]
    }
   ],
   "source": [
    "import numpy as np\n",
    "\n",
    "players = np.array([180, 172, 178, 185, 190, 195, 192, 200, 210, 190])\n",
    "\n",
    "mean = np.mean(players)\n",
    "stdev = np.std(players)\n",
    "stdev_2dp = round(stdev, 2)\n",
    "\n",
    "one_up = mean+stdev #one standard deviation above the mean \n",
    "one_down = mean-stdev #one standard deviation below the mean \n",
    "\n",
    "count = len([i for i in players if one_down <= i <= one_up])\n",
    "\n",
    "print(f\"There are {count} players within one standard deviation (+/- {stdev_2dp}) from the mean ({mean}).\")"
   ]
  }
 ],
 "metadata": {
  "kernelspec": {
   "display_name": "Python 3",
   "language": "python",
   "name": "python3"
  },
  "language_info": {
   "codemirror_mode": {
    "name": "ipython",
    "version": 3
   },
   "file_extension": ".py",
   "mimetype": "text/x-python",
   "name": "python",
   "nbconvert_exporter": "python",
   "pygments_lexer": "ipython3",
   "version": "3.8.8"
  }
 },
 "nbformat": 4,
 "nbformat_minor": 5
}
