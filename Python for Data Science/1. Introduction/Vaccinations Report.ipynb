{
 "cells": [
  {
   "cell_type": "markdown",
   "id": "999f6c5f",
   "metadata": {},
   "source": [
    "#### Vaccinations Report\n",
    "\n",
    "We have a report on the number of flu vaccinations in a class of 20 people.\n",
    "\n",
    "It has the following numbers:\n",
    "never: 5\n",
    "once: 8\n",
    "twice: 4\n",
    "3 times: 3\n",
    "\n",
    "vac_nums = [0,0,0,0,0,\n",
    "            1,1,1,1,1,1,1,1,\n",
    "            2,2,2,2,\n",
    "            3,3,3\n",
    "            ]\n",
    "\n",
    "What is the mean number of times those people have been vaccinated?\n",
    "Output the result using the print() statement."
   ]
  },
  {
   "cell_type": "code",
   "execution_count": 1,
   "id": "ac9501c1",
   "metadata": {},
   "outputs": [
    {
     "name": "stdout",
     "output_type": "stream",
     "text": [
      "1.25\n"
     ]
    }
   ],
   "source": [
    "vac_nums = [0,0,0,0,0,\n",
    "            1,1,1,1,1,1,1,1,\n",
    "            2,2,2,2,\n",
    "            3,3,3\n",
    "            ]\n",
    "\n",
    "mean_vacs = sum(vac_nums) / len(vac_nums)\n",
    "\n",
    "print(mean_vacs)"
   ]
  },
  {
   "cell_type": "code",
   "execution_count": 3,
   "id": "e836d96b",
   "metadata": {},
   "outputs": [
    {
     "name": "stdout",
     "output_type": "stream",
     "text": [
      "1.25\n"
     ]
    }
   ],
   "source": [
    "# alternatively, using numpy\n",
    "\n",
    "import numpy as np \n",
    "\n",
    "vac_nums = [0,0,0,0,0,\n",
    "            1,1,1,1,1,1,1,1,\n",
    "            2,2,2,2,\n",
    "            3,3,3\n",
    "            ]\n",
    "\n",
    "print(np.mean(vac_nums))"
   ]
  }
 ],
 "metadata": {
  "kernelspec": {
   "display_name": "Python 3",
   "language": "python",
   "name": "python3"
  },
  "language_info": {
   "codemirror_mode": {
    "name": "ipython",
    "version": 3
   },
   "file_extension": ".py",
   "mimetype": "text/x-python",
   "name": "python",
   "nbconvert_exporter": "python",
   "pygments_lexer": "ipython3",
   "version": "3.8.8"
  }
 },
 "nbformat": 4,
 "nbformat_minor": 5
}
