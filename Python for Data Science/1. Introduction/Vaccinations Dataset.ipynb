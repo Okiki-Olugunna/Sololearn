{
 "cells": [
  {
   "cell_type": "markdown",
   "id": "6948da01",
   "metadata": {},
   "source": [
    "#### Vaccinations Dataset\n",
    "\n",
    "Using the same vaccinations dataset, which includes the number of times people got the flu vaccine.\n",
    "\n",
    "The dataset contains the following numbers:\n",
    "never: 5\n",
    "once: 8\n",
    "twice: 4\n",
    "3 times: 3\n",
    "\n",
    "vac_nums = [0,0,0,0,0,\n",
    "            1,1,1,1,1,1,1,1,\n",
    "            2,2,2,2,\n",
    "            3,3,3\n",
    "            ]\n",
    "\n",
    "Calculate and output the variance."
   ]
  },
  {
   "cell_type": "code",
   "execution_count": 1,
   "id": "024c1479",
   "metadata": {},
   "outputs": [
    {
     "name": "stdout",
     "output_type": "stream",
     "text": [
      "0.9875\n"
     ]
    }
   ],
   "source": [
    "import numpy as np \n",
    "\n",
    "vac_nums = np.array([0,0,0,0,0,\n",
    "            1,1,1,1,1,1,1,1,\n",
    "            2,2,2,2,\n",
    "            3,3,3\n",
    "            ])\n",
    "\n",
    "vac_variance = np.var(vac_nums)\n",
    "\n",
    "print(vac_variance)"
   ]
  }
 ],
 "metadata": {
  "kernelspec": {
   "display_name": "Python 3",
   "language": "python",
   "name": "python3"
  },
  "language_info": {
   "codemirror_mode": {
    "name": "ipython",
    "version": 3
   },
   "file_extension": ".py",
   "mimetype": "text/x-python",
   "name": "python",
   "nbconvert_exporter": "python",
   "pygments_lexer": "ipython3",
   "version": "3.8.8"
  }
 },
 "nbformat": 4,
 "nbformat_minor": 5
}
