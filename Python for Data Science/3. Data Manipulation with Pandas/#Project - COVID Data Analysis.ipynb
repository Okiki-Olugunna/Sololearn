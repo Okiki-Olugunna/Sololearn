{
 "cells": [
  {
   "cell_type": "markdown",
   "id": "fef8e62e",
   "metadata": {},
   "source": [
    "### Project - COVID Data Analysis\n",
    "\n",
    "You are working with our COVID dataset for California, which includes the number of cases and deaths for each day of 2020.\n",
    "\n",
    "Find the day when the deaths/cases ratio was largest.\n",
    "\n",
    "To do this, you need to first calculate the deaths/cases ratio and add it as a column to the DataFrame with the name 'ratio', then find the row that corresponds to the largest value.\n",
    "\n",
    "Important: The output should be a DataFrame, containing all of the columns of the dataset for the corresponding row."
   ]
  },
  {
   "cell_type": "code",
   "execution_count": null,
   "id": "cc665115",
   "metadata": {},
   "outputs": [],
   "source": [
    "import pandas as pd\n",
    "\n",
    "df = pd.read_csv(\"/usercode/files/ca-covid.csv\")\n",
    "\n",
    "df.drop('state', axis=1, inplace=True)\n",
    "df.set_index('date', inplace=True)\n",
    "\n",
    "\n",
    "df['ratio'] = df['deaths'] / df['cases']\n",
    "\n",
    "max_ratio = df.loc[df['ratio'] == df['ratio'].max()]\n",
    "\n",
    "print(max_ratio)"
   ]
  }
 ],
 "metadata": {
  "kernelspec": {
   "display_name": "Python 3",
   "language": "python",
   "name": "python3"
  },
  "language_info": {
   "codemirror_mode": {
    "name": "ipython",
    "version": 3
   },
   "file_extension": ".py",
   "mimetype": "text/x-python",
   "name": "python",
   "nbconvert_exporter": "python",
   "pygments_lexer": "ipython3",
   "version": "3.8.8"
  }
 },
 "nbformat": 4,
 "nbformat_minor": 5
}
