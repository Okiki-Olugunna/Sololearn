{
 "cells": [
  {
   "cell_type": "markdown",
   "id": "af3e5edc",
   "metadata": {},
   "source": [
    "#### Contacts List\n",
    "\n",
    "You are given a dictionary that contains names and numbers of people.\n",
    "\n",
    "data = {\n",
    "   'name': ['James', 'Billy', 'Bob', 'Amy', 'Tom'],\n",
    "   'number': ['1234', '5678', '2222', '1111', '0909']\n",
    "}\n",
    "\n",
    "You need to create a DataFrame from the dictionary and add an index to it, which should be the name values.\n",
    "Then take a name from user input and output the row in the DataFrame, which corresponds to that row."
   ]
  },
  {
   "cell_type": "code",
   "execution_count": 1,
   "id": "233333c9",
   "metadata": {},
   "outputs": [
    {
     "name": "stdout",
     "output_type": "stream",
     "text": [
      "James\n",
      "name      James\n",
      "number     1234\n",
      "Name: James, dtype: object\n"
     ]
    }
   ],
   "source": [
    "import pandas as pd\n",
    "\n",
    "data = {\n",
    "   'name': ['James', 'Billy', 'Bob', 'Amy', 'Tom'],\n",
    "   'number': ['1234', '5678', '2222', '1111', '0909']\n",
    "}\n",
    "\n",
    "df = pd.DataFrame(data, index=data['name'])\n",
    "\n",
    "user = input()\n",
    "\n",
    "print(df.loc[user])"
   ]
  }
 ],
 "metadata": {
  "kernelspec": {
   "display_name": "Python 3",
   "language": "python",
   "name": "python3"
  },
  "language_info": {
   "codemirror_mode": {
    "name": "ipython",
    "version": 3
   },
   "file_extension": ".py",
   "mimetype": "text/x-python",
   "name": "python",
   "nbconvert_exporter": "python",
   "pygments_lexer": "ipython3",
   "version": "3.8.8"
  }
 },
 "nbformat": 4,
 "nbformat_minor": 5
}
