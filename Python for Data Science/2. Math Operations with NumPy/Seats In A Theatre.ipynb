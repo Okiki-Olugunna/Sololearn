{
 "cells": [
  {
   "cell_type": "markdown",
   "id": "43422bef",
   "metadata": {},
   "source": [
    "#### Seats In A Theatre\n",
    "\n",
    "You are given an array that represents the occupancy of seats in a movie theater. A seat marked with 1 is occupied, while one marked 0 means the seat is free.\n",
    "\n",
    "data = np.array([1, 1, 0, 0, 1, 0, 0, 0, 0, 0, 1, 1, 1, 1, 1, 1, 0, 1, 0, 1, 1, 1, 1, 0, 0, 0, 1, 1, 1, 0])\n",
    "\n",
    "However, the array is flat and 1-dimensional. Transform it into a 2-dimensional array, representing the rows of the seats.\n",
    "Each row in the theater has 5 seats and there are a total of 30 seats.\n",
    "\n",
    "Reshape the array into the corresponding shape and output the row at the given index, which is taken from user input."
   ]
  },
  {
   "cell_type": "code",
   "execution_count": 1,
   "id": "10fe6057",
   "metadata": {},
   "outputs": [
    {
     "name": "stdout",
     "output_type": "stream",
     "text": [
      "2\n",
      "[1 1 1 1 1]\n"
     ]
    }
   ],
   "source": [
    "import numpy as np\n",
    "\n",
    "data = np.array([1, 1, 0, 0, 1, 0, 0, 0, 0, 0, 1, 1, 1, 1, 1, 1, 0, 1, 0, 1, 1, 1, 1, 0, 0, 0, 1, 1, 1, 0])\n",
    "\n",
    "data = data.reshape(6, 5)\n",
    "\n",
    "row = int(input())\n",
    "\n",
    "print(data[row])"
   ]
  },
  {
   "cell_type": "code",
   "execution_count": 2,
   "id": "370197df",
   "metadata": {},
   "outputs": [
    {
     "name": "stdout",
     "output_type": "stream",
     "text": [
      "2\n",
      "[1 1 1 1 1]\n"
     ]
    }
   ],
   "source": [
    "# let's say you didn't know the math to input 6 rows into the reshape function, \n",
    "# you could use -1 -> (-1,5) <- to automatically compute the number of rows for the given data\n",
    "\n",
    "import numpy as np\n",
    "\n",
    "data = np.array([1, 1, 0, 0, 1, 0, 0, 0, 0, 0, 1, 1, 1, 1, 1, 1, 0, 1, 0, 1, 1, 1, 1, 0, 0, 0, 1, 1, 1, 0])\n",
    "\n",
    "data = data.reshape(-1, 5)\n",
    "\n",
    "row = int(input())\n",
    "\n",
    "print(data[row])"
   ]
  }
 ],
 "metadata": {
  "kernelspec": {
   "display_name": "Python 3",
   "language": "python",
   "name": "python3"
  },
  "language_info": {
   "codemirror_mode": {
    "name": "ipython",
    "version": 3
   },
   "file_extension": ".py",
   "mimetype": "text/x-python",
   "name": "python",
   "nbconvert_exporter": "python",
   "pygments_lexer": "ipython3",
   "version": "3.8.8"
  }
 },
 "nbformat": 4,
 "nbformat_minor": 5
}
