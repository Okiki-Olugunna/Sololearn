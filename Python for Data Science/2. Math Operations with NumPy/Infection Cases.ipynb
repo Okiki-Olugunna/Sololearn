{
 "cells": [
  {
   "cell_type": "markdown",
   "id": "e2808d15",
   "metadata": {},
   "source": [
    "#### Infection Cases\n",
    "\n",
    "The given array represents the daily number of infections for 30 days.\n",
    "\n",
    "data = np.array([120, 98, 150, 65, 42, 100, 190, 220, 140, 110, 88, 89, 100, 120, 50, 180, 155, 42, 89, 77, 200, 190, 125, 98, 77, 40, 39, 59, 30, 67])\n",
    "\n",
    "Find out how many days exceeded the average number of infections."
   ]
  },
  {
   "cell_type": "code",
   "execution_count": 1,
   "id": "8954568e",
   "metadata": {},
   "outputs": [
    {
     "name": "stdout",
     "output_type": "stream",
     "text": [
      "12\n"
     ]
    }
   ],
   "source": [
    "import numpy as np\n",
    "\n",
    "data = np.array([120, 98, 150, 65, 42, 100, 190, 220, 140, 110, \n",
    "                 88, 89, 100, 120, 50, 180, 155, 42, 89, 77, \n",
    "                 200, 190, 125, 98, 77, 40, 39, 59, 30, 67])\n",
    "\n",
    "average  = data.mean()     # could also use np.mean(data)\n",
    "\n",
    "above_av = data[data > average]\n",
    "\n",
    "print(above_av.size)     # could also use the len() function -> print(len(above_av))"
   ]
  }
 ],
 "metadata": {
  "kernelspec": {
   "display_name": "Python 3",
   "language": "python",
   "name": "python3"
  },
  "language_info": {
   "codemirror_mode": {
    "name": "ipython",
    "version": 3
   },
   "file_extension": ".py",
   "mimetype": "text/x-python",
   "name": "python",
   "nbconvert_exporter": "python",
   "pygments_lexer": "ipython3",
   "version": "3.8.8"
  }
 },
 "nbformat": 4,
 "nbformat_minor": 5
}
