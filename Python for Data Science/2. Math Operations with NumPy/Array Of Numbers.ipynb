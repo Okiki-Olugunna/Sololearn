{
 "cells": [
  {
   "cell_type": "markdown",
   "id": "46a8ea02",
   "metadata": {},
   "source": [
    "#### Array Of Numbers\n",
    "\n",
    "You are given a task to find all of the whole numbers below 100 that are multiples of both 3 and 5.\n",
    "\n",
    "Create an array of numbers below 100 that are multiples of both 3 and 5, and output it."
   ]
  },
  {
   "cell_type": "code",
   "execution_count": 1,
   "id": "d89d393f",
   "metadata": {},
   "outputs": [
    {
     "name": "stdout",
     "output_type": "stream",
     "text": [
      "[15 30 45 60 75 90]\n"
     ]
    }
   ],
   "source": [
    "import numpy as np \n",
    "\n",
    "x = np.arange(100)\n",
    "\n",
    "y = (x % 3 == 0) & (x % 5 == 0) & (x != 0) #the condition\n",
    "\n",
    "z = x[y]\n",
    "\n",
    "print(z)"
   ]
  },
  {
   "cell_type": "code",
   "execution_count": 2,
   "id": "defe170d",
   "metadata": {},
   "outputs": [
    {
     "name": "stdout",
     "output_type": "stream",
     "text": [
      "[15 30 45 60 75 90]\n"
     ]
    }
   ],
   "source": [
    "#instead of having to give the 'not equal to 0' condition, could just start the array at 1 -> (1, 100)\n",
    "\n",
    "import numpy as np \n",
    "\n",
    "x = np.arange(1, 100)\n",
    "\n",
    "y = (x % 3 == 0) & (x % 5 == 0)\n",
    "\n",
    "z = x[y]\n",
    "\n",
    "print(z)"
   ]
  }
 ],
 "metadata": {
  "kernelspec": {
   "display_name": "Python 3",
   "language": "python",
   "name": "python3"
  },
  "language_info": {
   "codemirror_mode": {
    "name": "ipython",
    "version": 3
   },
   "file_extension": ".py",
   "mimetype": "text/x-python",
   "name": "python",
   "nbconvert_exporter": "python",
   "pygments_lexer": "ipython3",
   "version": "3.8.8"
  }
 },
 "nbformat": 4,
 "nbformat_minor": 5
}
