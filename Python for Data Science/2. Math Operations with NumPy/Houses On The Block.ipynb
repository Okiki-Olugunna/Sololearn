{
 "cells": [
  {
   "cell_type": "markdown",
   "id": "7e3d7d9e",
   "metadata": {},
   "source": [
    "#### Houses On The Block\n",
    "\n",
    "You are given an array that holds the square footage data for houses on a particular street.\n",
    "\n",
    "data = np.array([1000, 2500, 1400, 1800, 900, 4200, 2200, 1900, 3500])\n",
    "\n",
    "A new house has just been constructed on that street.\n",
    "\n",
    "Modify your program to take the new house value as input, add it to the array, and output the array sorted in ascending order."
   ]
  },
  {
   "cell_type": "code",
   "execution_count": 1,
   "id": "4d5304de",
   "metadata": {},
   "outputs": [
    {
     "name": "stdout",
     "output_type": "stream",
     "text": [
      "1500\n",
      "[ 900 1000 1400 1500 1800 1900 2200 2500 3500 4200]\n"
     ]
    }
   ],
   "source": [
    "import numpy as np\n",
    "\n",
    "data = np.array([1000, 2500, 1400, 1800, 900, 4200, 2200, 1900, 3500])\n",
    "\n",
    "new_house_size = int(input())\n",
    "\n",
    "data = np.append(data, new_house_size)\n",
    "\n",
    "data = np.sort(data)\n",
    "\n",
    "print(data)"
   ]
  }
 ],
 "metadata": {
  "kernelspec": {
   "display_name": "Python 3",
   "language": "python",
   "name": "python3"
  },
  "language_info": {
   "codemirror_mode": {
    "name": "ipython",
    "version": 3
   },
   "file_extension": ".py",
   "mimetype": "text/x-python",
   "name": "python",
   "nbconvert_exporter": "python",
   "pygments_lexer": "ipython3",
   "version": "3.8.8"
  }
 },
 "nbformat": 4,
 "nbformat_minor": 5
}
