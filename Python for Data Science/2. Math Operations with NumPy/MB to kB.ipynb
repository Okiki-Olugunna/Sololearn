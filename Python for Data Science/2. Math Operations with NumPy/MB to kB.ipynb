{
 "cells": [
  {
   "cell_type": "markdown",
   "id": "d6e130ee",
   "metadata": {},
   "source": [
    "#### MB to kB\n",
    "\n",
    "Convert all values in the array from megabytes to kilobytes. (1 megabyte is 1024 kilobytes).\n",
    "Then, output the largest element.\n",
    "\n",
    "data_mb = np.array([6, 3, 10, 143])"
   ]
  },
  {
   "cell_type": "code",
   "execution_count": 2,
   "id": "d5f46575",
   "metadata": {},
   "outputs": [
    {
     "name": "stdout",
     "output_type": "stream",
     "text": [
      "146432\n"
     ]
    }
   ],
   "source": [
    "import numpy as np\n",
    "\n",
    "data_mb = np.array([6, 3, 10, 143])\n",
    "\n",
    "data_kb = data_mb * 1024\n",
    "\n",
    "print(data_kb.max())"
   ]
  }
 ],
 "metadata": {
  "kernelspec": {
   "display_name": "Python 3",
   "language": "python",
   "name": "python3"
  },
  "language_info": {
   "codemirror_mode": {
    "name": "ipython",
    "version": 3
   },
   "file_extension": ".py",
   "mimetype": "text/x-python",
   "name": "python",
   "nbconvert_exporter": "python",
   "pygments_lexer": "ipython3",
   "version": "3.8.8"
  }
 },
 "nbformat": 4,
 "nbformat_minor": 5
}
