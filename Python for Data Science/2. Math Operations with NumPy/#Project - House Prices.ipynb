{
 "cells": [
  {
   "cell_type": "markdown",
   "id": "7a42050d",
   "metadata": {},
   "source": [
    "### Project - House Prices\n",
    "\n",
    "You are given an array that represents house prices.\n",
    "\n",
    "data = np.array([150000, 125000, 320000, 540000, 200000, 120000, 160000, 230000, 280000, 290000, 300000, 500000, 420000, 100000, 150000, 280000])\n",
    "\n",
    "Calculate and output the percentage of houses that are within one standard deviation from the mean."
   ]
  },
  {
   "cell_type": "code",
   "execution_count": 3,
   "id": "95c01295",
   "metadata": {},
   "outputs": [
    {
     "name": "stdout",
     "output_type": "stream",
     "text": [
      "62.5% of house prices are within one standard deviation from the mean of 260312.5.\n"
     ]
    }
   ],
   "source": [
    "import numpy as np \n",
    "\n",
    "data = np.array([150000, 125000, 320000, 540000, 200000, 120000, 160000, 230000, \n",
    "                 280000, 290000, 300000, 500000, 420000, 100000, 150000, 280000])\n",
    "\n",
    "mean = np.mean(data)\n",
    "stdev = np.std(data)\n",
    "\n",
    "one_stdev_up = mean + stdev\n",
    "one_stdev_down = mean - stdev\n",
    "\n",
    "percent = len([i for i in  data if one_stdev_down <= i <= one_stdev_up]) / data.size * 100  #could use len(data) here as well\n",
    " \n",
    "print(f\"{percent}% of house prices are within one standard deviation from the mean of {mean}.\")"
   ]
  },
  {
   "cell_type": "code",
   "execution_count": 5,
   "id": "6e4140a4",
   "metadata": {},
   "outputs": [
    {
     "name": "stdout",
     "output_type": "stream",
     "text": [
      "62.5% of house prices are within one standard deviation from the mean of 260312.5.\n"
     ]
    }
   ],
   "source": [
    "# alternative - shorter\n",
    "\n",
    "mean = np.mean(data)\n",
    "stdev = np.std(data)\n",
    "\n",
    "one_stdev_up, one_stdev_down = mean + stdev, mean - stdev\n",
    "\n",
    "within_one_std = data[(one_stdev_down <= data) & (data <= one_stdev_up)]\n",
    "\n",
    "percent = len(within_one_std) / len(data) * 100\n",
    "\n",
    "print(f\"{percent}% of house prices are within one standard deviation from the mean of {mean}.\")"
   ]
  }
 ],
 "metadata": {
  "kernelspec": {
   "display_name": "Python 3",
   "language": "python",
   "name": "python3"
  },
  "language_info": {
   "codemirror_mode": {
    "name": "ipython",
    "version": 3
   },
   "file_extension": ".py",
   "mimetype": "text/x-python",
   "name": "python",
   "nbconvert_exporter": "python",
   "pygments_lexer": "ipython3",
   "version": "3.8.8"
  }
 },
 "nbformat": 4,
 "nbformat_minor": 5
}
