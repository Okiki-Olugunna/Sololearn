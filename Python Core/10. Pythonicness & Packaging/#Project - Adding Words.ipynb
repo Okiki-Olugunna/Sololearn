{
 "cells": [
  {
   "cell_type": "markdown",
   "id": "88e00e43",
   "metadata": {},
   "source": [
    "### Project - Adding Words\n",
    "\n",
    "You need to write a function that takes multiple words as its argument and returns a concatenated version of those words separated by dashes (-).\n",
    "\n",
    "The function should be able to take a varying number of words as the argument.\n",
    "\n",
    "Sample Input:\n",
    "\n",
    "this\n",
    "\n",
    "is\n",
    "\n",
    "great\n",
    "\n",
    "Sample Output:\n",
    "this-is-great"
   ]
  },
  {
   "cell_type": "code",
   "execution_count": 1,
   "id": "c799168b",
   "metadata": {},
   "outputs": [
    {
     "name": "stdout",
     "output_type": "stream",
     "text": [
      "I-love-Python-!\n"
     ]
    }
   ],
   "source": [
    "def concatenate(*args):\n",
    "    return \"-\".join(args)\n",
    "\n",
    "print(concatenate(\"I\", \"love\", \"Python\", \"!\"))"
   ]
  }
 ],
 "metadata": {
  "kernelspec": {
   "display_name": "Python 3",
   "language": "python",
   "name": "python3"
  },
  "language_info": {
   "codemirror_mode": {
    "name": "ipython",
    "version": 3
   },
   "file_extension": ".py",
   "mimetype": "text/x-python",
   "name": "python",
   "nbconvert_exporter": "python",
   "pygments_lexer": "ipython3",
   "version": "3.8.8"
  }
 },
 "nbformat": 4,
 "nbformat_minor": 5
}
