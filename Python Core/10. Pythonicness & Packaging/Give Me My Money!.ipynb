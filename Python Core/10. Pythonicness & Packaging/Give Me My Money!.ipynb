{
 "cells": [
  {
   "cell_type": "markdown",
   "id": "ad791bdc",
   "metadata": {},
   "source": [
    "#### Give Me My Money!\n",
    "\n",
    "You are given a program for a bank card withdrawal system: it takes the account and the amount that the user wants to withdraw, then outputs the remaining money. If the requested cash is greater than the balance, the program outputs \"Error\".\n",
    "\n",
    "balance = int(input())\n",
    "to_cash = int(input())\n",
    "\n",
    "#change the code\n",
    "money_left = balance-to_cash if to_cash<=balance else \"Error\"\n",
    "\n",
    "print(money_left)\n",
    "\n",
    "The bank wants to set a minimal value of 500 for withdrawal. \n",
    "Modernize the program so that it will output the same \"Error\" if the requested money is less than $500.\n",
    "\n",
    "Sample Input:\n",
    "\n",
    "4500\n",
    "\n",
    "300\n",
    "\n",
    "Sample Output:\n",
    "Error"
   ]
  },
  {
   "cell_type": "code",
   "execution_count": 1,
   "id": "ad54ac9d",
   "metadata": {},
   "outputs": [
    {
     "name": "stdout",
     "output_type": "stream",
     "text": [
      "4500\n",
      "300\n",
      "Error\n"
     ]
    }
   ],
   "source": [
    "balance = int(input())\n",
    "to_cash = int(input())\n",
    "\n",
    "\n",
    "money_left = balance-to_cash if to_cash>=500 and to_cash<=balance else \"Error\"\n",
    "\n",
    "print(money_left)"
   ]
  }
 ],
 "metadata": {
  "kernelspec": {
   "display_name": "Python 3",
   "language": "python",
   "name": "python3"
  },
  "language_info": {
   "codemirror_mode": {
    "name": "ipython",
    "version": 3
   },
   "file_extension": ".py",
   "mimetype": "text/x-python",
   "name": "python",
   "nbconvert_exporter": "python",
   "pygments_lexer": "ipython3",
   "version": "3.8.8"
  }
 },
 "nbformat": 4,
 "nbformat_minor": 5
}
