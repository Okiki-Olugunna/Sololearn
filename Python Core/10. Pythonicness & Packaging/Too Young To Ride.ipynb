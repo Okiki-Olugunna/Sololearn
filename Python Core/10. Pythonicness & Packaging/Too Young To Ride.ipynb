{
 "cells": [
  {
   "cell_type": "markdown",
   "id": "be4212e6",
   "metadata": {},
   "source": [
    "#### Too Young To Ride\n",
    "\n",
    "\n",
    "The carousel is designed for 3 people who are each at least 16 years old.\n",
    "You are given a program that takes all 3 passengers' ages as inputs and inserts them in a list. \n",
    "\n",
    "ages = []\n",
    "i = 0\n",
    "while i<3:\n",
    "   age = int(input())\n",
    "   ages.append(age)\n",
    "   i+=1\n",
    "   \n",
    "else:\n",
    "\n",
    "Complete the program so that if it finds a value less than 16, it breaks the loop and outputs \"Too young!\".\n",
    "If the age requirement is satisfied, the program outputs \"Get ready!\".\n",
    "\n",
    "Sample Input:\n",
    "\n",
    "18\n",
    "\n",
    "26\n",
    "\n",
    "19\n",
    "\n",
    "Sample Output:\n",
    "Get ready!"
   ]
  },
  {
   "cell_type": "code",
   "execution_count": 1,
   "id": "cc18c36f",
   "metadata": {},
   "outputs": [
    {
     "name": "stdout",
     "output_type": "stream",
     "text": [
      "16\n",
      "26\n",
      "29\n",
      "Get ready!\n"
     ]
    }
   ],
   "source": [
    "ages = []\n",
    "\n",
    "i = 0\n",
    "\n",
    "while i<3:\n",
    "   age = int(input())\n",
    "   if age >= 16:\n",
    "      ages.append(age)\n",
    "      i+=1\n",
    "   else:\n",
    "      print(\"Too young!\")\n",
    "      break\n",
    "\n",
    "else:\n",
    "   print(\"Get ready!\")"
   ]
  },
  {
   "cell_type": "markdown",
   "id": "39f3f9ba",
   "metadata": {},
   "source": [
    "#### Too young:"
   ]
  },
  {
   "cell_type": "code",
   "execution_count": 2,
   "id": "f63de3e6",
   "metadata": {},
   "outputs": [
    {
     "name": "stdout",
     "output_type": "stream",
     "text": [
      "18\n",
      "14\n",
      "Too young!\n"
     ]
    }
   ],
   "source": [
    "ages = []\n",
    "\n",
    "i = 0\n",
    "\n",
    "while i<3:\n",
    "   age = int(input())\n",
    "   if age >= 16:\n",
    "      ages.append(age)\n",
    "      i+=1\n",
    "   else:\n",
    "      print(\"Too young!\")\n",
    "      break\n",
    "\n",
    "else:\n",
    "   print(\"Get ready!\")"
   ]
  }
 ],
 "metadata": {
  "kernelspec": {
   "display_name": "Python 3",
   "language": "python",
   "name": "python3"
  },
  "language_info": {
   "codemirror_mode": {
    "name": "ipython",
    "version": 3
   },
   "file_extension": ".py",
   "mimetype": "text/x-python",
   "name": "python",
   "nbconvert_exporter": "python",
   "pygments_lexer": "ipython3",
   "version": "3.8.8"
  }
 },
 "nbformat": 4,
 "nbformat_minor": 5
}
