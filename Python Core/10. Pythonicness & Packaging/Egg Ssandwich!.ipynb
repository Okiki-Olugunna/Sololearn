{
 "cells": [
  {
   "cell_type": "markdown",
   "id": "ffc124b8",
   "metadata": {},
   "source": [
    "#### Egg Ssandwich!\n",
    "\n",
    "You are given a function for a hotel booking service. \n",
    "The First argument is the number of people staying in the hotel room, the second is the number of days, and the third is for breakfast option choice.\n",
    "\n",
    "def book(people, days, breakfast):\n",
    "\tprint(\"People:\", people)\n",
    "\tprint(\"Days:\", days)\n",
    "\tprint(\"Breakfast:\", breakfast)\n",
    "\n",
    "book(5,3, \"Peanut Butter Bites\")\n",
    "book(4,5)\n",
    "\n",
    "Taking into account that visitors do not always mention their breakfast choice, we need to set the \"Egg Sandwiches\" option as the default.\n",
    "\n",
    "Complete the function so that the given code works correctly."
   ]
  },
  {
   "cell_type": "code",
   "execution_count": 1,
   "id": "dfdca384",
   "metadata": {},
   "outputs": [
    {
     "name": "stdout",
     "output_type": "stream",
     "text": [
      "People: 5\n",
      "Days: 3\n",
      "Breakfast: Peanut Butter Bites\n",
      "People: 4\n",
      "Days: 5\n",
      "Breakfast: Egg Sandwiches\n"
     ]
    }
   ],
   "source": [
    "def book(people, days, breakfast=\"Egg Sandwiches\"):\n",
    "    print(\"People:\", people)\n",
    "    print(\"Days:\", days)\n",
    "    print(\"Breakfast:\", breakfast)\n",
    "\n",
    "book(5,3, \"Peanut Butter Bites\")\n",
    "book(4,5)"
   ]
  }
 ],
 "metadata": {
  "kernelspec": {
   "display_name": "Python 3",
   "language": "python",
   "name": "python3"
  },
  "language_info": {
   "codemirror_mode": {
    "name": "ipython",
    "version": 3
   },
   "file_extension": ".py",
   "mimetype": "text/x-python",
   "name": "python",
   "nbconvert_exporter": "python",
   "pygments_lexer": "ipython3",
   "version": "3.8.8"
  }
 },
 "nbformat": 4,
 "nbformat_minor": 5
}
