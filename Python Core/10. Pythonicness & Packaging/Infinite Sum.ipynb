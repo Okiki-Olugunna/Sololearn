{
 "cells": [
  {
   "cell_type": "markdown",
   "id": "849c7727",
   "metadata": {},
   "source": [
    "#### Infinite Sum\n",
    "\n",
    "We are given a function that takes 2 arguments and returns their sum.\n",
    "\n",
    "def adder(x, y):\n",
    "    print(x+y)\n",
    "\n",
    "adder(2, 3)\n",
    "adder(2, 3, 4)\n",
    "adder(1, 2, 3, 4, 5)\n",
    "\n",
    "But we get an error when we want to sum more than 2 numbers. Change the function and complete the code so that the function sums as many numbers as are input."
   ]
  },
  {
   "cell_type": "code",
   "execution_count": 1,
   "id": "dca236b2",
   "metadata": {},
   "outputs": [
    {
     "name": "stdout",
     "output_type": "stream",
     "text": [
      "5\n",
      "9\n",
      "15\n"
     ]
    }
   ],
   "source": [
    "def adder(x, *args):\n",
    "    args = sum(args)\n",
    "    print(x + args)\n",
    "\n",
    "adder(2, 3)\n",
    "adder(2, 3, 4)\n",
    "adder(1, 2, 3, 4, 5)"
   ]
  },
  {
   "cell_type": "code",
   "execution_count": 2,
   "id": "9f08fd25",
   "metadata": {},
   "outputs": [
    {
     "name": "stdout",
     "output_type": "stream",
     "text": [
      "5\n",
      "9\n",
      "15\n"
     ]
    }
   ],
   "source": [
    "def adder(*args):                         # can also use *args without a first a named first argument\n",
    "    args = sum(args)\n",
    "    print(args)\n",
    "\n",
    "adder(2, 3)\n",
    "adder(2, 3, 4)\n",
    "adder(1, 2, 3, 4, 5)"
   ]
  }
 ],
 "metadata": {
  "kernelspec": {
   "display_name": "Python 3",
   "language": "python",
   "name": "python3"
  },
  "language_info": {
   "codemirror_mode": {
    "name": "ipython",
    "version": 3
   },
   "file_extension": ".py",
   "mimetype": "text/x-python",
   "name": "python",
   "nbconvert_exporter": "python",
   "pygments_lexer": "ipython3",
   "version": "3.8.8"
  }
 },
 "nbformat": 4,
 "nbformat_minor": 5
}
