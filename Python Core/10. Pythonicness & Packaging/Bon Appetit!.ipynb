{
 "cells": [
  {
   "cell_type": "markdown",
   "id": "2c18d7c1",
   "metadata": {},
   "source": [
    "#### Bon Appetit!\n",
    "\n",
    "To order a restaurant dish online, the user should enter the code of desired dish, which contains only digits. \n",
    "\n",
    "Write a program that will take the code as input, and output \"Enter only digits\" if it contains non-digit symbols, and output \"Order accepted\" if it doesn't.\n",
    "\n",
    "If the ordering process went well, the program also should output \"Bon appetit\".\n",
    "\n",
    "Sample Input:\n",
    "1437\n",
    "\n",
    "Sample Output:\n",
    "\n",
    "Order accepted\n",
    "\n",
    "Bon appetit"
   ]
  },
  {
   "cell_type": "code",
   "execution_count": 1,
   "id": "13a43359",
   "metadata": {},
   "outputs": [
    {
     "name": "stdout",
     "output_type": "stream",
     "text": [
      "1437\n",
      "Order accepted\n",
      "Bon appetit\n"
     ]
    }
   ],
   "source": [
    "desired_dish_code = input()\n",
    "\n",
    "try:\n",
    "    int(desired_dish_code)\n",
    "    print(\"Order accepted\")\n",
    "\n",
    "except ValueError:\n",
    "    print(\"Enter only digits\")\n",
    "\n",
    "else:\n",
    "    print(\"Bon appetit\")"
   ]
  }
 ],
 "metadata": {
  "kernelspec": {
   "display_name": "Python 3",
   "language": "python",
   "name": "python3"
  },
  "language_info": {
   "codemirror_mode": {
    "name": "ipython",
    "version": 3
   },
   "file_extension": ".py",
   "mimetype": "text/x-python",
   "name": "python",
   "nbconvert_exporter": "python",
   "pygments_lexer": "ipython3",
   "version": "3.8.8"
  }
 },
 "nbformat": 4,
 "nbformat_minor": 5
}
