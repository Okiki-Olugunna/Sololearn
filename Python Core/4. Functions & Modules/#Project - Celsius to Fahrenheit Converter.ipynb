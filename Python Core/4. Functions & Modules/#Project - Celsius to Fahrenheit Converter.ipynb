{
 "cells": [
  {
   "cell_type": "markdown",
   "id": "1495e018",
   "metadata": {},
   "source": [
    "### Project - Celsius to Fahrenheit Converter\n",
    "\n",
    "You are making a Celsius to Fahrenheit converter.\n",
    "\n",
    "Write a function to take the Celsius value as an argument and return the corresponding Fahrenheit value.\n",
    "\n",
    "Sample Input:\n",
    "36\n",
    "\n",
    "Sample Output:\n",
    "96.8\n",
    "\n",
    "The following equation is used to calculate the Fahrenheit value: 9/5 * celsius + 32"
   ]
  },
  {
   "cell_type": "code",
   "execution_count": 1,
   "id": "675e8600",
   "metadata": {},
   "outputs": [
    {
     "name": "stdout",
     "output_type": "stream",
     "text": [
      "36\n",
      "96.8\n"
     ]
    }
   ],
   "source": [
    "celsius = int(input())\n",
    "\n",
    "def convert(c):\n",
    "    return (9/5) * c + 32\n",
    "    \n",
    "fahrenheit = convert(celsius)\n",
    "print(fahrenheit)"
   ]
  }
 ],
 "metadata": {
  "kernelspec": {
   "display_name": "Python 3",
   "language": "python",
   "name": "python3"
  },
  "language_info": {
   "codemirror_mode": {
    "name": "ipython",
    "version": 3
   },
   "file_extension": ".py",
   "mimetype": "text/x-python",
   "name": "python",
   "nbconvert_exporter": "python",
   "pygments_lexer": "ipython3",
   "version": "3.8.8"
  }
 },
 "nbformat": 4,
 "nbformat_minor": 5
}
