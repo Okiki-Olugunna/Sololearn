{
 "cells": [
  {
   "cell_type": "markdown",
   "id": "9b80b8f7",
   "metadata": {},
   "source": [
    "#### Hash Generator\n",
    "\n",
    "We are creating our own social network application and need to have a hashtag generator program.\n",
    "Complete the program to output the input text starting with the hashtag (#).\n",
    "Also, if the user entered several words, the program should delete the spaces between them.\n",
    "\n",
    "s = input()\n",
    "\n",
    "def hashtagGen(text):\n",
    "\t\n",
    "\treturn\n",
    "\n",
    "print(hashtagGen(s))\n",
    "\n",
    "Sample Input:\n",
    "code sleep eat repeat\n",
    "\n",
    "Sample Output:\n",
    "#codesleepeatrepeat"
   ]
  },
  {
   "cell_type": "code",
   "execution_count": 1,
   "id": "b72b2b6c",
   "metadata": {},
   "outputs": [
    {
     "name": "stdout",
     "output_type": "stream",
     "text": [
      "code sleep eat repeat\n",
      "#codesleepeatrepeat\n"
     ]
    }
   ],
   "source": [
    "s = input()\n",
    "\n",
    "def hashtagGen(text):\n",
    "    h = \"#\"\n",
    "    s_list = list(s)\n",
    "    s_list.insert(0, h)\n",
    "    hash = \"\".join(s_list)\n",
    "    return hash.replace(\" \", \"\")\n",
    "\n",
    "print(hashtagGen(s))"
   ]
  }
 ],
 "metadata": {
  "kernelspec": {
   "display_name": "Python 3",
   "language": "python",
   "name": "python3"
  },
  "language_info": {
   "codemirror_mode": {
    "name": "ipython",
    "version": 3
   },
   "file_extension": ".py",
   "mimetype": "text/x-python",
   "name": "python",
   "nbconvert_exporter": "python",
   "pygments_lexer": "ipython3",
   "version": "3.8.8"
  }
 },
 "nbformat": 4,
 "nbformat_minor": 5
}
