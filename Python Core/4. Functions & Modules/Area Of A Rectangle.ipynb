{
 "cells": [
  {
   "cell_type": "markdown",
   "id": "40213250",
   "metadata": {},
   "source": [
    "#### Area Of A Rectangle\n",
    "\n",
    "We need to calculate the area of the rectangle.\n",
    "Complete and call the function to output the area of the rectangle, taking 2 arguments as length and width. If sides are equal, the function should also show \"Square\" as the second output.\n",
    "\n",
    "Sample Input 1:\n",
    "\n",
    "7\n",
    "\n",
    "4\n",
    "\n",
    "Sample Output 1:\n",
    "28"
   ]
  },
  {
   "cell_type": "code",
   "execution_count": 1,
   "id": "3bc5dff6",
   "metadata": {},
   "outputs": [
    {
     "name": "stdout",
     "output_type": "stream",
     "text": [
      "7\n",
      "4\n",
      "28\n"
     ]
    }
   ],
   "source": [
    "length = int(input())\n",
    "width = int(input())\n",
    "\n",
    "def area(length, width):\n",
    "    print(length * width)\n",
    "    if length == width:\n",
    "        print(\"Square\")\n",
    "\n",
    "area(length, width)"
   ]
  }
 ],
 "metadata": {
  "kernelspec": {
   "display_name": "Python 3",
   "language": "python",
   "name": "python3"
  },
  "language_info": {
   "codemirror_mode": {
    "name": "ipython",
    "version": 3
   },
   "file_extension": ".py",
   "mimetype": "text/x-python",
   "name": "python",
   "nbconvert_exporter": "python",
   "pygments_lexer": "ipython3",
   "version": "3.8.8"
  }
 },
 "nbformat": 4,
 "nbformat_minor": 5
}
