{
 "cells": [
  {
   "cell_type": "markdown",
   "id": "848d6a0c",
   "metadata": {},
   "source": [
    "#### Matching passwords\n",
    "\n",
    "You are given a program with two inputs: one as password and the second one as password repeat. \n",
    "\n",
    "password = input()\n",
    "repeat = input()\n",
    "\n",
    "def validate(text1, text2):\n",
    "\n",
    "Complete and call the given function to output \"Correct\" if password and repeat are equal, and output \"Wrong\", if they are not.\n",
    "\n",
    "Sample Input:\n",
    "\n",
    "nfs1598\n",
    "\n",
    "nfs1598\n",
    "\n",
    "Sample Output:\n",
    "Correct"
   ]
  },
  {
   "cell_type": "code",
   "execution_count": 1,
   "id": "1ec52e6c",
   "metadata": {},
   "outputs": [
    {
     "name": "stdout",
     "output_type": "stream",
     "text": [
      "nfs1598\n",
      "nfs1598\n",
      "Correct\n"
     ]
    }
   ],
   "source": [
    "password = input()\n",
    "repeat = input()\n",
    "\n",
    "def validate(text1, text2):\n",
    "    if password == repeat:\n",
    "        print(\"Correct\")\n",
    "    else:\n",
    "        print(\"Wrong\")\n",
    "\n",
    "validate(password, repeat)"
   ]
  }
 ],
 "metadata": {
  "kernelspec": {
   "display_name": "Python 3",
   "language": "python",
   "name": "python3"
  },
  "language_info": {
   "codemirror_mode": {
    "name": "ipython",
    "version": 3
   },
   "file_extension": ".py",
   "mimetype": "text/x-python",
   "name": "python",
   "nbconvert_exporter": "python",
   "pygments_lexer": "ipython3",
   "version": "3.8.8"
  }
 },
 "nbformat": 4,
 "nbformat_minor": 5
}
