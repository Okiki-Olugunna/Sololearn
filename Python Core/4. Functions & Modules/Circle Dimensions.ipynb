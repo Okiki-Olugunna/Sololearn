{
 "cells": [
  {
   "cell_type": "markdown",
   "id": "1f6fa812",
   "metadata": {},
   "source": [
    "#### Circle Dimensions\n",
    "\n",
    "You are given a program that takes the radius of a circle as the input.\n",
    "Complete the code to calculate the circle's perimeter and output the result.\n",
    "\n",
    "radius = int(input())\n",
    "\t\n",
    "perim = \n",
    "\n",
    "print(round(perim, 2))\n",
    "\n",
    "Remember, the perimeter of a circle = 2*pi*radius\n",
    "\n",
    "Sample Input:\n",
    "5\n",
    "\n",
    "Sample Output:\n",
    "31.42\n",
    "\n",
    "Hint:\n",
    "You need to import the pi constant from the math module to perform the calculation."
   ]
  },
  {
   "cell_type": "code",
   "execution_count": 1,
   "id": "7a77f9a8",
   "metadata": {},
   "outputs": [
    {
     "name": "stdout",
     "output_type": "stream",
     "text": [
      "5\n",
      "31.42\n"
     ]
    }
   ],
   "source": [
    "from math import pi\n",
    "\n",
    "radius = int(input())\n",
    "\n",
    "perim = 2 * pi * radius\n",
    "\n",
    "print(round(perim, 2))"
   ]
  }
 ],
 "metadata": {
  "kernelspec": {
   "display_name": "Python 3",
   "language": "python",
   "name": "python3"
  },
  "language_info": {
   "codemirror_mode": {
    "name": "ipython",
    "version": 3
   },
   "file_extension": ".py",
   "mimetype": "text/x-python",
   "name": "python",
   "nbconvert_exporter": "python",
   "pygments_lexer": "ipython3",
   "version": "3.8.8"
  }
 },
 "nbformat": 4,
 "nbformat_minor": 5
}
