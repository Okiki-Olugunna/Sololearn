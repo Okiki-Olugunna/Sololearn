{
 "cells": [
  {
   "cell_type": "markdown",
   "id": "6a1ac83a",
   "metadata": {},
   "source": [
    "#### No Dice? No Problem\n",
    "\n",
    "Two friends want to play backgammon, but have lost the dice.\n",
    "\n",
    "Create a program to replace the dice. When the program is run, it should roll the dice and output the result of each die.\n",
    "\n",
    "Hint:\n",
    "Use random.randint() function to generate random values in the range of 1 to 6 for each dice.\n",
    "\n",
    "You will see a random.seed(int(input())) line in sample code. It initializes the pseudorandom number generator and, in this case, ensures functionality of test cases."
   ]
  },
  {
   "cell_type": "code",
   "execution_count": null,
   "id": "e005b173",
   "metadata": {},
   "outputs": [],
   "source": [
    "import random\n",
    "random.seed(int(input()))\n",
    "\n",
    "\n",
    "dice1 = random.randint(1,6)\n",
    "dice2 = random.randint(1,6)\n",
    "\n",
    "print(dice1)\n",
    "print(dice2)"
   ]
  }
 ],
 "metadata": {
  "kernelspec": {
   "display_name": "Python 3",
   "language": "python",
   "name": "python3"
  },
  "language_info": {
   "codemirror_mode": {
    "name": "ipython",
    "version": 3
   },
   "file_extension": ".py",
   "mimetype": "text/x-python",
   "name": "python",
   "nbconvert_exporter": "python",
   "pygments_lexer": "ipython3",
   "version": "3.8.8"
  }
 },
 "nbformat": 4,
 "nbformat_minor": 5
}
