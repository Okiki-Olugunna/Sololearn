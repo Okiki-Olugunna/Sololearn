{
 "cells": [
  {
   "cell_type": "markdown",
   "id": "b6a7f137",
   "metadata": {},
   "source": [
    "#### Welcome, SoloLearner!\n",
    "\n",
    "We have a function that outputs \"Welcome, user\" as it is called. We want to make it more personalized, so redesign the given function so that it will take the given input as the name of the user and output the welcome message with it.\n",
    "\n",
    "def welcome_message():\n",
    "\tname = input()\n",
    "\tprint(\"Welcome, user\")\n",
    "\n",
    "Sample Input:\n",
    "Tommy\n",
    "\n",
    "Sample Output:\n",
    "Welcome, Tommy"
   ]
  },
  {
   "cell_type": "code",
   "execution_count": 1,
   "id": "a527156f",
   "metadata": {},
   "outputs": [
    {
     "name": "stdout",
     "output_type": "stream",
     "text": [
      "Okiki\n",
      "Welcome, Okiki\n"
     ]
    }
   ],
   "source": [
    "def welcome_message():\n",
    "    name = input()\n",
    "    print(f\"Welcome, {name}\")\n",
    "\n",
    "welcome_message()"
   ]
  }
 ],
 "metadata": {
  "kernelspec": {
   "display_name": "Python 3",
   "language": "python",
   "name": "python3"
  },
  "language_info": {
   "codemirror_mode": {
    "name": "ipython",
    "version": 3
   },
   "file_extension": ".py",
   "mimetype": "text/x-python",
   "name": "python",
   "nbconvert_exporter": "python",
   "pygments_lexer": "ipython3",
   "version": "3.8.8"
  }
 },
 "nbformat": 4,
 "nbformat_minor": 5
}
