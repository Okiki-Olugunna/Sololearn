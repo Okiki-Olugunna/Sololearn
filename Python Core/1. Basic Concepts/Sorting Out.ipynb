{
 "cells": [
  {
   "cell_type": "markdown",
   "id": "0d6bc904",
   "metadata": {},
   "source": [
    "#### Sorting Out\n",
    "\n",
    "We need to pack 142 toys in boxes. Each box holds 15 toys.\n",
    "\n",
    "Task:\n",
    "Write a program to calculate and output how many toys will be left after packing.\n",
    "\n",
    "Hint:\n",
    "Find the remainder from dividing 142 and 15."
   ]
  },
  {
   "cell_type": "code",
   "execution_count": 1,
   "id": "386ab092",
   "metadata": {},
   "outputs": [
    {
     "name": "stdout",
     "output_type": "stream",
     "text": [
      "7\n"
     ]
    }
   ],
   "source": [
    "toys = 142\n",
    "\n",
    "capacity = 15\n",
    "\n",
    "print(toys % capacity)"
   ]
  }
 ],
 "metadata": {
  "kernelspec": {
   "display_name": "Python 3",
   "language": "python",
   "name": "python3"
  },
  "language_info": {
   "codemirror_mode": {
    "name": "ipython",
    "version": 3
   },
   "file_extension": ".py",
   "mimetype": "text/x-python",
   "name": "python",
   "nbconvert_exporter": "python",
   "pygments_lexer": "ipython3",
   "version": "3.8.8"
  }
 },
 "nbformat": 4,
 "nbformat_minor": 5
}
