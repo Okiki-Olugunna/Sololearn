{
 "cells": [
  {
   "cell_type": "markdown",
   "id": "081f1231",
   "metadata": {},
   "source": [
    "#### Brain Freeze!\n",
    "\n",
    "Today is a holiday at the children's camp, so all the children will be served ice cream.\n",
    "There are 68 children in the group, and each child should get 2 scoops of ice cream.\n",
    "\n",
    "Task:\n",
    "Write a program to calculate and output the total number of ice cream scoops we need."
   ]
  },
  {
   "cell_type": "code",
   "execution_count": 1,
   "id": "af01b164",
   "metadata": {},
   "outputs": [
    {
     "name": "stdout",
     "output_type": "stream",
     "text": [
      "136\n"
     ]
    }
   ],
   "source": [
    "children = 68\n",
    "\n",
    "scoops = 2\n",
    "\n",
    "total_scoops_needed = children * scoops\n",
    "\n",
    "print(total_scoops_needed)"
   ]
  }
 ],
 "metadata": {
  "kernelspec": {
   "display_name": "Python 3",
   "language": "python",
   "name": "python3"
  },
  "language_info": {
   "codemirror_mode": {
    "name": "ipython",
    "version": 3
   },
   "file_extension": ".py",
   "mimetype": "text/x-python",
   "name": "python",
   "nbconvert_exporter": "python",
   "pygments_lexer": "ipython3",
   "version": "3.8.8"
  }
 },
 "nbformat": 4,
 "nbformat_minor": 5
}
