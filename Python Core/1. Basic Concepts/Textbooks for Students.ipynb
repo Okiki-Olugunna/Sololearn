{
 "cells": [
  {
   "cell_type": "markdown",
   "id": "3385c087",
   "metadata": {},
   "source": [
    "#### Textbooks for Students\n",
    "\n",
    "We need to distribute textbooks to students.\n",
    "There are 37 pupils in the class and each one should get 2 textbooks. The total number of books available for distribution is 76.\n",
    "\n",
    "Task:\n",
    "Write a program to calculate and output how many books will be left after the distribution.\n",
    "\n",
    "Hint:\n",
    "You just need to find the remainder from dividing 76 and total number of needed books (37*2), then print the result."
   ]
  },
  {
   "cell_type": "code",
   "execution_count": 2,
   "id": "730c181b",
   "metadata": {},
   "outputs": [
    {
     "name": "stdout",
     "output_type": "stream",
     "text": [
      "2\n"
     ]
    }
   ],
   "source": [
    "pupils = 37\n",
    "should_receive = 2\n",
    "total_books = 76\n",
    "\n",
    "print(total_books % (pupils * should_receive))"
   ]
  }
 ],
 "metadata": {
  "kernelspec": {
   "display_name": "Python 3",
   "language": "python",
   "name": "python3"
  },
  "language_info": {
   "codemirror_mode": {
    "name": "ipython",
    "version": 3
   },
   "file_extension": ".py",
   "mimetype": "text/x-python",
   "name": "python",
   "nbconvert_exporter": "python",
   "pygments_lexer": "ipython3",
   "version": "3.8.8"
  }
 },
 "nbformat": 4,
 "nbformat_minor": 5
}
