{
 "cells": [
  {
   "cell_type": "markdown",
   "id": "93a56ff0",
   "metadata": {},
   "source": [
    "#### How Many Miles?\n",
    "\n",
    "Calculate and output the number of miles in 1000 kilometers.\n",
    "\n",
    "Hint:\n",
    "One mile is 1.6 kilometers, so find the quotient of 1000 and 1.6."
   ]
  },
  {
   "cell_type": "code",
   "execution_count": 1,
   "id": "c8ba66f9",
   "metadata": {},
   "outputs": [
    {
     "name": "stdout",
     "output_type": "stream",
     "text": [
      "624.0\n"
     ]
    }
   ],
   "source": [
    "km = 1000\n",
    "\n",
    "conversion = 1.6\n",
    "\n",
    "print(km // conversion)"
   ]
  }
 ],
 "metadata": {
  "kernelspec": {
   "display_name": "Python 3",
   "language": "python",
   "name": "python3"
  },
  "language_info": {
   "codemirror_mode": {
    "name": "ipython",
    "version": 3
   },
   "file_extension": ".py",
   "mimetype": "text/x-python",
   "name": "python",
   "nbconvert_exporter": "python",
   "pygments_lexer": "ipython3",
   "version": "3.8.8"
  }
 },
 "nbformat": 4,
 "nbformat_minor": 5
}
