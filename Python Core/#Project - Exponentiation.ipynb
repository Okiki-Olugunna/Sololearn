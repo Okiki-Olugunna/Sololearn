{
 "cells": [
  {
   "cell_type": "markdown",
   "id": "9fd27f6c",
   "metadata": {},
   "source": [
    "#### Project - Exponentiation\n",
    "\n",
    "Exponentiation is the raising of one number to the power of another.\n",
    "This operation is performed using two asterisks **.\n",
    "\n",
    "Let's use exponentiation to solve a known problem.\n",
    "You are offered a choice of either $1.000.000 or $0.01 (one penny) doubled every day for 30 days (the resulting amount is doubled every day).\n",
    "\n",
    "Task:\n",
    "Write a program to calculate the amount that will result from the doubling to understand which choice results in a larger amount.\n",
    "\n",
    "Hint:\n",
    "Let's see how exponentiation can be useful to perform the calculation.\n",
    "For example, if we want to calculate how much money we will have on the 5th day, we can use this expression: 0.01*(2**5) = 0.32 dollars (multiply the penny by 2 raised to the power of 5)."
   ]
  },
  {
   "cell_type": "code",
   "execution_count": 1,
   "id": "3ca2a319",
   "metadata": {},
   "outputs": [
    {
     "name": "stdout",
     "output_type": "stream",
     "text": [
      "10737418.24\n"
     ]
    }
   ],
   "source": [
    "start = 0.01\n",
    "\n",
    "end = (start)*(2**30)\n",
    "\n",
    "print(end)"
   ]
  }
 ],
 "metadata": {
  "kernelspec": {
   "display_name": "Python 3",
   "language": "python",
   "name": "python3"
  },
  "language_info": {
   "codemirror_mode": {
    "name": "ipython",
    "version": 3
   },
   "file_extension": ".py",
   "mimetype": "text/x-python",
   "name": "python",
   "nbconvert_exporter": "python",
   "pygments_lexer": "ipython3",
   "version": "3.8.8"
  }
 },
 "nbformat": 4,
 "nbformat_minor": 5
}
