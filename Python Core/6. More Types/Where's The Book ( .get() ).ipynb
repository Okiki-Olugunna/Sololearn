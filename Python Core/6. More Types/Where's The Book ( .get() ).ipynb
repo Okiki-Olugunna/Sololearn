{
 "cells": [
  {
   "cell_type": "markdown",
   "id": "eecaf52f",
   "metadata": {},
   "source": [
    "#### Where's The Book?\n",
    "\n",
    "You can use the .get() method to find keys in a dictionary, and use a second parameter to return a default value, in case the key is not found.\n",
    "\n",
    "books = {\n",
    "    \"Life of Pi\": \"Adventure Fiction\", \n",
    "    \"The Three Musketeers\": \"Historical Adventure\",\n",
    "    \"Watchmen\": \"Comics\", \n",
    "    \"Bird Box\": \"Horror\",\n",
    "    \"Harry Potter\":\"Fantasy Fiction\",\n",
    "    \"Good Omens\": \"Comedy\"\n",
    "}\n",
    "\n",
    "book = input()\n",
    "\n",
    "#change this part to use the .get() method\n",
    "if(book in books):\n",
    "    print(books[book])\n",
    "else:\n",
    "    print(\"Not Found\")\n",
    "\n",
    "Rewrite the given code to use the .get() method instead of the if/else statements.\n",
    "Also, change the output to \"Book not found\", when the book is not found."
   ]
  },
  {
   "cell_type": "code",
   "execution_count": 1,
   "id": "06c3fec9",
   "metadata": {},
   "outputs": [
    {
     "name": "stdout",
     "output_type": "stream",
     "text": [
      "Bird Box\n",
      "Horror\n"
     ]
    }
   ],
   "source": [
    "books = {\n",
    "    \"Life of Pi\": \"Adventure Fiction\", \n",
    "    \"The Three Musketeers\": \"Historical Adventure\",\n",
    "    \"Watchmen\": \"Comics\", \n",
    "    \"Bird Box\": \"Horror\",\n",
    "    \"Harry Potter\":\"Fantasy Fiction\",\n",
    "    \"Good Omens\": \"Comedy\"\n",
    "}\n",
    "\n",
    "\n",
    "book = input()\n",
    "\n",
    "print(books.get(book, \"Book not found\"))"
   ]
  },
  {
   "cell_type": "code",
   "execution_count": 2,
   "id": "d3b148d1",
   "metadata": {},
   "outputs": [
    {
     "name": "stdout",
     "output_type": "stream",
     "text": [
      "The Intelligent Investor\n",
      "Book not found\n"
     ]
    }
   ],
   "source": [
    "books = {\n",
    "    \"Life of Pi\": \"Adventure Fiction\", \n",
    "    \"The Three Musketeers\": \"Historical Adventure\",\n",
    "    \"Watchmen\": \"Comics\", \n",
    "    \"Bird Box\": \"Horror\",\n",
    "    \"Harry Potter\":\"Fantasy Fiction\",\n",
    "    \"Good Omens\": \"Comedy\"\n",
    "}\n",
    "\n",
    "\n",
    "book = input()\n",
    "\n",
    "print(books.get(book, \"Book not found\"))"
   ]
  }
 ],
 "metadata": {
  "kernelspec": {
   "display_name": "Python 3",
   "language": "python",
   "name": "python3"
  },
  "language_info": {
   "codemirror_mode": {
    "name": "ipython",
    "version": 3
   },
   "file_extension": ".py",
   "mimetype": "text/x-python",
   "name": "python",
   "nbconvert_exporter": "python",
   "pygments_lexer": "ipython3",
   "version": "3.8.8"
  }
 },
 "nbformat": 4,
 "nbformat_minor": 5
}
