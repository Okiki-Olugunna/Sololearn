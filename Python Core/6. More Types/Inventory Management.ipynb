{
 "cells": [
  {
   "cell_type": "markdown",
   "id": "8b4f144d",
   "metadata": {},
   "source": [
    "#### Inventory Management\n",
    "\n",
    "Dictionaries can be used to store key:value pairs.\n",
    "\n",
    "You have been asked to create an inventory management program for a store. You use a dictionary to track all of the store's inventory along with how many of each item the store has.\n",
    "\n",
    "store = {\"Orange\": 2, \"Watermelon\": 0, \"Apple\": 8, \"Banana\": 42} \n",
    "\n",
    "Complete the provided code to output the number of apples present in the store."
   ]
  },
  {
   "cell_type": "code",
   "execution_count": 1,
   "id": "791e8c79",
   "metadata": {},
   "outputs": [
    {
     "name": "stdout",
     "output_type": "stream",
     "text": [
      "8\n"
     ]
    }
   ],
   "source": [
    "store = {\"Orange\": 2, \"Watermelon\": 0, \"Apple\": 8, \"Banana\": 42}\n",
    "\n",
    "print(store[\"Apple\"])"
   ]
  }
 ],
 "metadata": {
  "kernelspec": {
   "display_name": "Python 3",
   "language": "python",
   "name": "python3"
  },
  "language_info": {
   "codemirror_mode": {
    "name": "ipython",
    "version": 3
   },
   "file_extension": ".py",
   "mimetype": "text/x-python",
   "name": "python",
   "nbconvert_exporter": "python",
   "pygments_lexer": "ipython3",
   "version": "3.8.8"
  }
 },
 "nbformat": 4,
 "nbformat_minor": 5
}
