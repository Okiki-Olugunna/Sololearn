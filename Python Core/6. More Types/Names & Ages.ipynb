{
 "cells": [
  {
   "cell_type": "markdown",
   "id": "a75cde64",
   "metadata": {},
   "source": [
    "#### Names & Ages\n",
    "\n",
    "The .format() method provides an easy way to format strings.\n",
    "Take as input a name and an age, and generate the output \"name is age years old\".\n",
    "\n",
    "Sample Input:\n",
    "\n",
    "James\n",
    "\n",
    "42\n",
    "\n",
    "Sample Output:\n",
    "\n",
    "James is 42 years old"
   ]
  },
  {
   "cell_type": "code",
   "execution_count": 1,
   "id": "fe56c7ca",
   "metadata": {},
   "outputs": [
    {
     "name": "stdout",
     "output_type": "stream",
     "text": [
      "James\n",
      "42\n",
      "James is 42 years old\n"
     ]
    }
   ],
   "source": [
    "name = input()\n",
    "age = input()\n",
    "\n",
    "#could do it like this: print(\"{0} is {1} years old\".format(name, age))\n",
    "\n",
    "#but it's better and more efficient to use f-strings:\n",
    "print(f\"{name} is {age} years old\")"
   ]
  }
 ],
 "metadata": {
  "kernelspec": {
   "display_name": "Python 3",
   "language": "python",
   "name": "python3"
  },
  "language_info": {
   "codemirror_mode": {
    "name": "ipython",
    "version": 3
   },
   "file_extension": ".py",
   "mimetype": "text/x-python",
   "name": "python",
   "nbconvert_exporter": "python",
   "pygments_lexer": "ipython3",
   "version": "3.8.8"
  }
 },
 "nbformat": 4,
 "nbformat_minor": 5
}
