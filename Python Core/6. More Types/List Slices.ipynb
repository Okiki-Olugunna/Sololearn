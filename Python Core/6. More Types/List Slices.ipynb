{
 "cells": [
  {
   "cell_type": "markdown",
   "id": "b485a655",
   "metadata": {},
   "source": [
    "#### List Slices\n",
    "\n",
    "Write a program that takes a list as input and outputs the last element of that list.\n",
    "\n",
    "The input list can be of any size."
   ]
  },
  {
   "cell_type": "code",
   "execution_count": 1,
   "id": "d08709c3",
   "metadata": {},
   "outputs": [
    {
     "name": "stdout",
     "output_type": "stream",
     "text": [
      "This is a list\n",
      "list\n"
     ]
    }
   ],
   "source": [
    "a_list = input()\n",
    "\n",
    "x = a_list.split() #to make sure it's the last \"element\" not the last character\n",
    "\n",
    "print(x[-1])"
   ]
  }
 ],
 "metadata": {
  "kernelspec": {
   "display_name": "Python 3",
   "language": "python",
   "name": "python3"
  },
  "language_info": {
   "codemirror_mode": {
    "name": "ipython",
    "version": 3
   },
   "file_extension": ".py",
   "mimetype": "text/x-python",
   "name": "python",
   "nbconvert_exporter": "python",
   "pygments_lexer": "ipython3",
   "version": "3.8.8"
  }
 },
 "nbformat": 4,
 "nbformat_minor": 5
}
