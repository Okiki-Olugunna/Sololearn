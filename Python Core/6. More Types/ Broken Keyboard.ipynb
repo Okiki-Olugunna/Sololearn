{
 "cells": [
  {
   "cell_type": "markdown",
   "id": "fe5af5fb",
   "metadata": {},
   "source": [
    "#### Broken Keyboard\n",
    "\n",
    "Your friend sent you a message, however his keyboard is broken and types a # instead of a space.\n",
    "\n",
    "Replace all of the # characters with spaces and output the result."
   ]
  },
  {
   "cell_type": "code",
   "execution_count": 1,
   "id": "3e868f7b",
   "metadata": {},
   "outputs": [
    {
     "name": "stdout",
     "output_type": "stream",
     "text": [
      "Yo#bro,#what's#it#like#learning#python?\n",
      "Yo bro, what's it like learning python?\n"
     ]
    }
   ],
   "source": [
    "message = input()\n",
    "\n",
    "fixed = message.replace(\"#\", \" \")\n",
    "\n",
    "print(fixed)"
   ]
  }
 ],
 "metadata": {
  "kernelspec": {
   "display_name": "Python 3",
   "language": "python",
   "name": "python3"
  },
  "language_info": {
   "codemirror_mode": {
    "name": "ipython",
    "version": 3
   },
   "file_extension": ".py",
   "mimetype": "text/x-python",
   "name": "python",
   "nbconvert_exporter": "python",
   "pygments_lexer": "ipython3",
   "version": "3.8.8"
  }
 },
 "nbformat": 4,
 "nbformat_minor": 5
}
