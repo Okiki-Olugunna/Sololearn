{
 "cells": [
  {
   "cell_type": "markdown",
   "id": "97fc448b",
   "metadata": {},
   "source": [
    "#### Library Management\n",
    "\n",
    "A library management program has a dictionary of books with their corresponding genres.\n",
    "\n",
    "books = {\n",
    "    \"Life of Pi\": \"Adventure Fiction\", \n",
    "    \"The Three Musketeers\": \"Historical Adventure\",\n",
    "    \"Watchmen\": \"Comics\", \n",
    "    \"Bird Box\": \"Horror\",\n",
    "    \"Harry Potter\":\"Fantasy Fiction\",\n",
    "    \"Good Omens\": \"Comedy\"\n",
    "}\n",
    "\n",
    "Take a book name as input and output the genre.\n",
    "If the book is not present in the dictionary, output \"Not found\"."
   ]
  },
  {
   "cell_type": "code",
   "execution_count": 1,
   "id": "2bfae538",
   "metadata": {},
   "outputs": [
    {
     "name": "stdout",
     "output_type": "stream",
     "text": [
      "Life of Pi\n",
      "Adventure Fiction\n"
     ]
    }
   ],
   "source": [
    "books = {\n",
    "    \"Life of Pi\": \"Adventure Fiction\", \n",
    "    \"The Three Musketeers\": \"Historical Adventure\",\n",
    "    \"Watchmen\": \"Comics\", \n",
    "    \"Bird Box\": \"Horror\",\n",
    "    \"Harry Potter\":\"Fantasy Fiction\",\n",
    "    \"Good Omens\": \"Comedy\"\n",
    "}\n",
    "\n",
    "\n",
    "book = input()\n",
    "\n",
    "if book in books:\n",
    "    print(books[book])\n",
    "else:\n",
    "    print(\"Not found\")"
   ]
  }
 ],
 "metadata": {
  "kernelspec": {
   "display_name": "Python 3",
   "language": "python",
   "name": "python3"
  },
  "language_info": {
   "codemirror_mode": {
    "name": "ipython",
    "version": 3
   },
   "file_extension": ".py",
   "mimetype": "text/x-python",
   "name": "python",
   "nbconvert_exporter": "python",
   "pygments_lexer": "ipython3",
   "version": "3.8.8"
  }
 },
 "nbformat": 4,
 "nbformat_minor": 5
}
