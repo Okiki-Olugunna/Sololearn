{
 "cells": [
  {
   "cell_type": "markdown",
   "id": "4050db34",
   "metadata": {},
   "source": [
    "#### List Of Multiples \n",
    "\n",
    "Write a program to take a number as input, and output a list of all the numbers below that number, that are a multiple of both, 3 and 5.\n",
    "\n",
    "Sample Input:\n",
    "42\n",
    "\n",
    "Sample Output:\n",
    "[0, 15, 30]\n",
    "\n",
    "Use a list comprehension to generate the list of numbers that satisfy the condition."
   ]
  },
  {
   "cell_type": "code",
   "execution_count": 1,
   "id": "ae108602",
   "metadata": {},
   "outputs": [
    {
     "name": "stdout",
     "output_type": "stream",
     "text": [
      "42\n",
      "[0, 15, 30]\n"
     ]
    }
   ],
   "source": [
    "number = int(input())\n",
    "\n",
    "number_list = [i for i in range(number) if i % 3 == 0 if i % 5 == 0]\n",
    "\n",
    "print(number_list)"
   ]
  }
 ],
 "metadata": {
  "kernelspec": {
   "display_name": "Python 3",
   "language": "python",
   "name": "python3"
  },
  "language_info": {
   "codemirror_mode": {
    "name": "ipython",
    "version": 3
   },
   "file_extension": ".py",
   "mimetype": "text/x-python",
   "name": "python",
   "nbconvert_exporter": "python",
   "pygments_lexer": "ipython3",
   "version": "3.8.8"
  }
 },
 "nbformat": 4,
 "nbformat_minor": 5
}
