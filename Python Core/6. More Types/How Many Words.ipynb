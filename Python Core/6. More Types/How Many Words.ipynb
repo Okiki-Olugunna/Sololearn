{
 "cells": [
  {
   "cell_type": "markdown",
   "id": "ccf0c0d3",
   "metadata": {},
   "source": [
    "#### How Many Words?\n",
    "\n",
    "\n",
    "Given text as input, output the number of words it contains.\n",
    "\n",
    "Sample Input:\n",
    "hello world\n",
    "\n",
    "Sample Output:\n",
    "2"
   ]
  },
  {
   "cell_type": "code",
   "execution_count": 1,
   "id": "44490d02",
   "metadata": {},
   "outputs": [
    {
     "name": "stdout",
     "output_type": "stream",
     "text": [
      "this is a really random text I'm using to test the code\n",
      "12\n"
     ]
    }
   ],
   "source": [
    "text = input()\n",
    "\n",
    "print( len(text.split()) )"
   ]
  },
  {
   "cell_type": "code",
   "execution_count": 2,
   "id": "728442f5",
   "metadata": {},
   "outputs": [
    {
     "name": "stdout",
     "output_type": "stream",
     "text": [
      "hello world\n",
      "2\n"
     ]
    }
   ],
   "source": [
    "text = input()\n",
    "\n",
    "print( len(text.split()) )"
   ]
  }
 ],
 "metadata": {
  "kernelspec": {
   "display_name": "Python 3",
   "language": "python",
   "name": "python3"
  },
  "language_info": {
   "codemirror_mode": {
    "name": "ipython",
    "version": 3
   },
   "file_extension": ".py",
   "mimetype": "text/x-python",
   "name": "python",
   "nbconvert_exporter": "python",
   "pygments_lexer": "ipython3",
   "version": "3.8.8"
  }
 },
 "nbformat": 4,
 "nbformat_minor": 5
}
