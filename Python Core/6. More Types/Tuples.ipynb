{
 "cells": [
  {
   "cell_type": "markdown",
   "id": "89b22865",
   "metadata": {},
   "source": [
    "#### Tuples\n",
    "\n",
    "You are given coordinates of 2 points and need to find the straight line distance between them.\n",
    "\n",
    "The coordinates are provided in a tuple, for example:\n",
    "\n",
    "p = (8, 11) \n",
    "\n",
    "The first value represents the x coordinate, while the second value represents the y coordinate of the point p.\n",
    "\n",
    "Complete the provided code to calculate and output the distance between the two given points.\n",
    "\n",
    "import math\n",
    "\n",
    "p1 = (23, -88)\n",
    "p2 = (6, 42)\n",
    "\n",
    "The linear distance is the square root of the square of the horizontal distance plus the square of the vertical distance between two points.\n",
    "\n",
    "The math.sqrt() function can be used to calculate the square root."
   ]
  },
  {
   "cell_type": "code",
   "execution_count": 1,
   "id": "fea818d2",
   "metadata": {},
   "outputs": [
    {
     "name": "stdout",
     "output_type": "stream",
     "text": [
      "131.10682667199293\n"
     ]
    }
   ],
   "source": [
    "import math\n",
    "\n",
    "p1 = (23, -88)\n",
    "p2 = (6, 42)\n",
    "\n",
    "linear_distance = math.sqrt( \n",
    "                (p1[0] - p2[0]) **2 + (p1[1] - p2[1]) **2\n",
    "                )\n",
    "\n",
    "print(linear_distance)"
   ]
  }
 ],
 "metadata": {
  "kernelspec": {
   "display_name": "Python 3",
   "language": "python",
   "name": "python3"
  },
  "language_info": {
   "codemirror_mode": {
    "name": "ipython",
    "version": 3
   },
   "file_extension": ".py",
   "mimetype": "text/x-python",
   "name": "python",
   "nbconvert_exporter": "python",
   "pygments_lexer": "ipython3",
   "version": "3.8.8"
  }
 },
 "nbformat": 4,
 "nbformat_minor": 5
}
