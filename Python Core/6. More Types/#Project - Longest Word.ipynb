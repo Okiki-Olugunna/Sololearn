{
 "cells": [
  {
   "cell_type": "markdown",
   "id": "7b213b6a",
   "metadata": {},
   "source": [
    "### Project - Longest Word\n",
    "\n",
    "Given a text as input, find and output the longest word.\n",
    "\n",
    "Sample Input:\n",
    "\n",
    "this is an awesome text\n",
    "\n",
    "Sample Output:\n",
    "\n",
    "awesome"
   ]
  },
  {
   "cell_type": "code",
   "execution_count": 1,
   "id": "03faad4d",
   "metadata": {},
   "outputs": [
    {
     "name": "stdout",
     "output_type": "stream",
     "text": [
      "I am generating a sentence of varied length just to make sure this is correct. Don't forget to utilise gargantuan idioms!\n",
      "generating\n"
     ]
    }
   ],
   "source": [
    "text = input()\n",
    "\n",
    "# print(text) gives us all of the text\n",
    "# text.split( ) turns our string into a list of different strings\n",
    "# len( text.split() ) will give the length of the list \n",
    "# but could iterate through the list then make an if statement based on the length\n",
    "\n",
    "\n",
    "listed_form = text.split()\n",
    "\n",
    "longest_word = listed_form[0]\n",
    "\n",
    "for i in listed_form:\n",
    "    if len(i) > len(longest_word):\n",
    "        longest_word = i\n",
    "print(longest_word)"
   ]
  },
  {
   "cell_type": "code",
   "execution_count": 3,
   "id": "4ea8ae42",
   "metadata": {},
   "outputs": [
    {
     "name": "stdout",
     "output_type": "stream",
     "text": [
      "This is an awesome text\n",
      "Your longest word is 'awesome'\n"
     ]
    }
   ],
   "source": [
    "text = input()\n",
    "\n",
    "listed_form = text.split()\n",
    "\n",
    "longest_word = listed_form[0]\n",
    "\n",
    "for i in listed_form:\n",
    "    if len(i) > len(longest_word):\n",
    "        longest_word = i\n",
    "print(f\"Your longest word is '{longest_word}'\")           # making it clearer what the output is"
   ]
  }
 ],
 "metadata": {
  "kernelspec": {
   "display_name": "Python 3",
   "language": "python",
   "name": "python3"
  },
  "language_info": {
   "codemirror_mode": {
    "name": "ipython",
    "version": 3
   },
   "file_extension": ".py",
   "mimetype": "text/x-python",
   "name": "python",
   "nbconvert_exporter": "python",
   "pygments_lexer": "ipython3",
   "version": "3.8.8"
  }
 },
 "nbformat": 4,
 "nbformat_minor": 5
}
