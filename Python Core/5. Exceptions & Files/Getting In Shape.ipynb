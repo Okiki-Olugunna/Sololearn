{
 "cells": [
  {
   "cell_type": "markdown",
   "id": "17ce1301",
   "metadata": {},
   "source": [
    "#### Getting In Shape\n",
    "\n",
    "Tom has done pull ups every day and recorded his results. He recorded each day's results in a new line, so that each line represents each day he has done pull ups.\n",
    "\n",
    "Create a program that takes n number as input and outputs the n-th days result (starting from 0).\n",
    "\n",
    "Sample Input:\n",
    "\n",
    "4\n",
    "\n",
    "Sample Output:\n",
    "\n",
    "Day 4, 9 pull ups"
   ]
  },
  {
   "cell_type": "code",
   "execution_count": null,
   "id": "9fb1ce90",
   "metadata": {},
   "outputs": [],
   "source": [
    "file = open(\"/usercode/files/pull_ups.txt\")\n",
    "\n",
    "n = int(input())\n",
    "\n",
    "print(file.readlines()[n])\n",
    "\n",
    "file.close()"
   ]
  }
 ],
 "metadata": {
  "kernelspec": {
   "display_name": "Python 3",
   "language": "python",
   "name": "python3"
  },
  "language_info": {
   "codemirror_mode": {
    "name": "ipython",
    "version": 3
   },
   "file_extension": ".py",
   "mimetype": "text/x-python",
   "name": "python",
   "nbconvert_exporter": "python",
   "pygments_lexer": "ipython3",
   "version": "3.8.8"
  }
 },
 "nbformat": 4,
 "nbformat_minor": 5
}
