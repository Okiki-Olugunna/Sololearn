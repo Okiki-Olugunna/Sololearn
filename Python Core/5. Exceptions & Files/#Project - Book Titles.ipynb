{
 "cells": [
  {
   "cell_type": "markdown",
   "id": "929c004f",
   "metadata": {},
   "source": [
    "### Project - Book Titles\n",
    "\n",
    "You have been asked to make a special book categorization program, which assigns each book a special code based on its title.\n",
    "The code is equal to the first letter of the book, followed by the number of characters in the title.For example, for the book \"Harry Potter\", the code would be: H12, as it contains 12 characters (including the space).\n",
    "\n",
    "You are provided a books.txt file, which includes the book titles, each one written on a separate line.\n",
    "Read the title one by one and output the code for each book on a separate line.\n",
    "\n",
    "\n",
    "file = open(\"/usercode/files/books.txt\", \"r\")\n",
    "\n",
    "#your code goes here\n",
    "\n",
    "file.close()\n",
    "\n",
    "\n",
    "\n",
    "For example, if the books.txt file contains:\n",
    "\n",
    "Some book\n",
    "\n",
    "Another book\n",
    "\n",
    "Your program should output:\n",
    "\n",
    "S9\n",
    "\n",
    "A12\n",
    "\n",
    "_Also, remember that all lines, except the last one, contain a \\n at the end, which should not be included in the character count._"
   ]
  },
  {
   "cell_type": "code",
   "execution_count": null,
   "id": "3f3266bb",
   "metadata": {},
   "outputs": [],
   "source": [
    "file = open(\"/usercode/files/books.txt\", \"r\")\n",
    "\n",
    "\n",
    "for i in file.readlines():\n",
    "    special_code = \"\"               #creating an empty string at the start of each loop\n",
    "    x = i[0]                        #using the first character of the word\n",
    "    y = len(i)                      #getting the length\n",
    "    if \"\\n\" in i:                   #some lines have \"\\n\" in their lines, which shouldn't be calculated in the length\n",
    "        y -= 1\n",
    "    special_code += x + str(y)      #concatenating the first character and length\n",
    "    print(special_code)\n",
    "\n",
    "\n",
    "file.close()"
   ]
  }
 ],
 "metadata": {
  "kernelspec": {
   "display_name": "Python 3",
   "language": "python",
   "name": "python3"
  },
  "language_info": {
   "codemirror_mode": {
    "name": "ipython",
    "version": 3
   },
   "file_extension": ".py",
   "mimetype": "text/x-python",
   "name": "python",
   "nbconvert_exporter": "python",
   "pygments_lexer": "ipython3",
   "version": "3.8.8"
  }
 },
 "nbformat": 4,
 "nbformat_minor": 5
}
