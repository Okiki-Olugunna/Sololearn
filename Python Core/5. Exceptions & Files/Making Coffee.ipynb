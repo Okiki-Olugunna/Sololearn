{
 "cells": [
  {
   "cell_type": "markdown",
   "id": "6bc7448b",
   "metadata": {},
   "source": [
    "#### Making Coffee \n",
    "\n",
    "A coffee vending machine makes 5 types of coffee:\n",
    "\n",
    "coffee = [\"Café Latte\", \"Caffe Americano\", \"Espresso\", \"Cappuccino\", \"Macchiato\"] \n",
    "\n",
    "Each coffee option has its own number, starting with 0. Write a program that will take a number from the customer as input from the customer and serve the corresponding coffee type. If the customer enters a number that is out of the accepted range, the program should output \"Invalid number\". Regardless of coffee option result, the program should output \"Have a good day\" at the end.\n",
    "\n",
    "Sample Input:\n",
    "7\n",
    "\n",
    "Sample Output:\n",
    "\n",
    "Invalid number\n",
    "\n",
    "Have a good day"
   ]
  },
  {
   "cell_type": "code",
   "execution_count": 1,
   "id": "b7611e36",
   "metadata": {},
   "outputs": [
    {
     "name": "stdout",
     "output_type": "stream",
     "text": [
      "7\n",
      "Invalid number\n",
      "Have a good day\n"
     ]
    }
   ],
   "source": [
    "coffee = [\"Café Latte\", \"Caffe Americano\", \"Espresso\", \"Cappuccino\", \"Macchiato\"]\n",
    "\n",
    "customer_choice = int(input())\n",
    "\n",
    "try:\n",
    "    print(coffee[customer_choice])\n",
    "\n",
    "except:\n",
    "    print(\"Invalid number\")\n",
    "\n",
    "finally:\n",
    "    print(\"Have a good day\")"
   ]
  },
  {
   "cell_type": "code",
   "execution_count": 2,
   "id": "c302c3db",
   "metadata": {},
   "outputs": [
    {
     "name": "stdout",
     "output_type": "stream",
     "text": [
      "3\n",
      "Cappuccino\n",
      "Have a good day\n"
     ]
    }
   ],
   "source": [
    "coffee = [\"Café Latte\", \"Caffe Americano\", \"Espresso\", \"Cappuccino\", \"Macchiato\"]\n",
    "\n",
    "customer_choice = int(input())\n",
    "\n",
    "try:\n",
    "    print(coffee[customer_choice])\n",
    "\n",
    "except:\n",
    "    print(\"Invalid number\")\n",
    "\n",
    "finally:\n",
    "    print(\"Have a good day\")"
   ]
  }
 ],
 "metadata": {
  "kernelspec": {
   "display_name": "Python 3",
   "language": "python",
   "name": "python3"
  },
  "language_info": {
   "codemirror_mode": {
    "name": "ipython",
    "version": 3
   },
   "file_extension": ".py",
   "mimetype": "text/x-python",
   "name": "python",
   "nbconvert_exporter": "python",
   "pygments_lexer": "ipython3",
   "version": "3.8.8"
  }
 },
 "nbformat": 4,
 "nbformat_minor": 5
}
