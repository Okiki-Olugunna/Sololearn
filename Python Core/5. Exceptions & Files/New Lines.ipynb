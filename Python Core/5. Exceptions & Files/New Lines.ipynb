{
 "cells": [
  {
   "cell_type": "markdown",
   "id": "20de3c56",
   "metadata": {},
   "source": [
    "#### New Lines\n",
    "\n",
    "You are given the following list:\n",
    "\n",
    "names = [\"John\", \"Oscar\", \"Jacob\"] \n",
    "\n",
    "file = open(\"names.txt\", \"w+\")\n",
    "#write down the names into the file\n",
    "\n",
    "file.close()\n",
    "\n",
    "file= open(\"names.txt\", \"r\")\n",
    "#output the content of file in console\n",
    "\n",
    "\n",
    "file.close()\n",
    "\n",
    "\n",
    "Complete the program to create a file where you write the names from the list, each on a new line, and separately output them.\n",
    "\n",
    "Output:\n",
    "\n",
    "John\n",
    "\n",
    "Oscar\n",
    "\n",
    "Jacob"
   ]
  },
  {
   "cell_type": "code",
   "execution_count": 1,
   "id": "fa20b590",
   "metadata": {},
   "outputs": [
    {
     "name": "stdout",
     "output_type": "stream",
     "text": [
      "John\n",
      "Oscar\n",
      "Jacob\n",
      "\n"
     ]
    }
   ],
   "source": [
    "names = [\"John\", \"Oscar\", \"Jacob\"]\n",
    "\n",
    "\n",
    "file = open(\"names.txt\", \"w+\")\n",
    "\n",
    "for i in names:\n",
    "    file.write(i + \"\\n\")\n",
    "\n",
    "file.close()\n",
    "\n",
    "\n",
    "file = open(\"names.txt\", \"r\")\n",
    "\n",
    "print(file.read())\n",
    "\n",
    "\n",
    "file.close()"
   ]
  }
 ],
 "metadata": {
  "kernelspec": {
   "display_name": "Python 3",
   "language": "python",
   "name": "python3"
  },
  "language_info": {
   "codemirror_mode": {
    "name": "ipython",
    "version": 3
   },
   "file_extension": ".py",
   "mimetype": "text/x-python",
   "name": "python",
   "nbconvert_exporter": "python",
   "pygments_lexer": "ipython3",
   "version": "3.8.8"
  }
 },
 "nbformat": 4,
 "nbformat_minor": 5
}
