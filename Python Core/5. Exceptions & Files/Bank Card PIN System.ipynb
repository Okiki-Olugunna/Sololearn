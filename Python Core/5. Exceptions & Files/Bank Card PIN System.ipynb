{
 "cells": [
  {
   "cell_type": "markdown",
   "id": "1a32ffc1",
   "metadata": {},
   "source": [
    "#### Bank Card PIN System\n",
    "\n",
    "We need to create a program that allows users to create their own PIN codes for their bank cards. Each PIN code consists of digits. \n",
    "\n",
    "pin = input()\n",
    "try:\n",
    "\n",
    "except ValueError:\n",
    "\t\n",
    "\n",
    "Complete the program so that when the user enters a character, the program stops and outputs \"Please enter a number\" and when the user enters only digits, the program outputs \"PIN code is created\".\n",
    "\n",
    "Sample Input:\n",
    "44a5\n",
    "\n",
    "Sample Output:\n",
    "Please enter a number"
   ]
  },
  {
   "cell_type": "code",
   "execution_count": 1,
   "id": "d93426ce",
   "metadata": {},
   "outputs": [
    {
     "name": "stdout",
     "output_type": "stream",
     "text": [
      "1234\n",
      "PIN code is created\n"
     ]
    }
   ],
   "source": [
    "pin = input()\n",
    "\n",
    "try:\n",
    "    int(pin)\n",
    "    print(\"PIN code is created\")\n",
    "\n",
    "except ValueError:\n",
    "    print(\"Please enter a number\")"
   ]
  },
  {
   "cell_type": "code",
   "execution_count": 2,
   "id": "0e678c6b",
   "metadata": {},
   "outputs": [
    {
     "name": "stdout",
     "output_type": "stream",
     "text": [
      "44a5\n",
      "Please enter a number\n"
     ]
    }
   ],
   "source": [
    "pin = input()\n",
    "\n",
    "try:\n",
    "    int(pin)\n",
    "    print(\"PIN code is created\")\n",
    "\n",
    "except ValueError:\n",
    "    print(\"Please enter a number\")"
   ]
  }
 ],
 "metadata": {
  "kernelspec": {
   "display_name": "Python 3",
   "language": "python",
   "name": "python3"
  },
  "language_info": {
   "codemirror_mode": {
    "name": "ipython",
    "version": 3
   },
   "file_extension": ".py",
   "mimetype": "text/x-python",
   "name": "python",
   "nbconvert_exporter": "python",
   "pygments_lexer": "ipython3",
   "version": "3.8.8"
  }
 },
 "nbformat": 4,
 "nbformat_minor": 5
}
