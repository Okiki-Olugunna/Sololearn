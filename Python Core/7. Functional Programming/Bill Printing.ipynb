{
 "cells": [
  {
   "cell_type": "markdown",
   "id": "268e86fc",
   "metadata": {},
   "source": [
    "#### Bill Printing\n",
    "\n",
    "You are working on a restaurant software, which has a function to print the bill.\n",
    "\n",
    "def decor(func):\n",
    "    def wrap():\n",
    "        #your code goes here\n",
    "\n",
    "    return wrap\n",
    "\n",
    "\n",
    "def print_bill():\n",
    "    print(\"BILL DATA GOES HERE\")\n",
    "\n",
    "print_bill();\n",
    "\n",
    "You need to add a decorator, which adds 3 hashtags before and after the bill data, so that the start and end of the printed bill can be identified.\n",
    "\n",
    "Add a decorator to the code that adds ### before and after the print_bill() method."
   ]
  },
  {
   "cell_type": "code",
   "execution_count": 1,
   "id": "33281245",
   "metadata": {},
   "outputs": [
    {
     "name": "stdout",
     "output_type": "stream",
     "text": [
      "###\n",
      "BILL DATA GOES HERE\n",
      "###\n"
     ]
    }
   ],
   "source": [
    "def decor(func):\n",
    "    def wrap():\n",
    "        print(\"###\")\n",
    "        func()\n",
    "        print(\"###\")\n",
    "    return wrap\n",
    "\n",
    "\n",
    "def print_bill():\n",
    "    print(\"BILL DATA GOES HERE\")\n",
    "\n",
    "new_bill = decor(print_bill)\n",
    "\n",
    "new_bill()"
   ]
  }
 ],
 "metadata": {
  "kernelspec": {
   "display_name": "Python 3",
   "language": "python",
   "name": "python3"
  },
  "language_info": {
   "codemirror_mode": {
    "name": "ipython",
    "version": 3
   },
   "file_extension": ".py",
   "mimetype": "text/x-python",
   "name": "python",
   "nbconvert_exporter": "python",
   "pygments_lexer": "ipython3",
   "version": "3.8.8"
  }
 },
 "nbformat": 4,
 "nbformat_minor": 5
}
