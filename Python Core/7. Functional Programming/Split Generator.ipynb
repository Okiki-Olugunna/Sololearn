{
 "cells": [
  {
   "cell_type": "markdown",
   "id": "ba683a83",
   "metadata": {},
   "source": [
    "#### Split Generator\n",
    "\n",
    "Given a string as input, create a generator function that splits the string into separate words and outputs the resulting list.\n",
    "\n",
    "Sample Input:\n",
    "\n",
    "This is some text\n",
    "\n",
    "Sample Output:\n",
    "\n",
    "['This', 'is', 'some', 'text']"
   ]
  },
  {
   "cell_type": "code",
   "execution_count": 1,
   "id": "14259ea6",
   "metadata": {},
   "outputs": [
    {
     "name": "stdout",
     "output_type": "stream",
     "text": [
      "This is some text\n",
      "['This', 'is', 'some', 'text']\n"
     ]
    }
   ],
   "source": [
    "text = input()\n",
    "\n",
    "def words():\n",
    "    x = text.split()\n",
    "    for i in x:\n",
    "        yield i\n",
    "\n",
    "print(list(words()))"
   ]
  }
 ],
 "metadata": {
  "kernelspec": {
   "display_name": "Python 3",
   "language": "python",
   "name": "python3"
  },
  "language_info": {
   "codemirror_mode": {
    "name": "ipython",
    "version": 3
   },
   "file_extension": ".py",
   "mimetype": "text/x-python",
   "name": "python",
   "nbconvert_exporter": "python",
   "pygments_lexer": "ipython3",
   "version": "3.8.8"
  }
 },
 "nbformat": 4,
 "nbformat_minor": 5
}
