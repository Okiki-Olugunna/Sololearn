{
 "cells": [
  {
   "cell_type": "markdown",
   "id": "db15f11b",
   "metadata": {},
   "source": [
    "#### Ordering\n",
    "\n",
    "You are given a list of items, and need to find all the possible orders of the items.\n",
    "\n",
    "items = ['x', 'y']\n",
    "\n",
    "The output should be a list, containing all possible orders.\n",
    "\n",
    "Sample Input:\n",
    "\n",
    "['a', 'b']\n",
    "\n",
    "Sample Output:\n",
    "\n",
    "[('a', 'b'), ('b', 'a')]\n",
    "\n",
    "The itertools module contains many useful functions that can achieve the above mentioned task."
   ]
  },
  {
   "cell_type": "code",
   "execution_count": 1,
   "id": "03889bdc",
   "metadata": {},
   "outputs": [
    {
     "name": "stdout",
     "output_type": "stream",
     "text": [
      "[('x', 'y'), ('y', 'x')]\n"
     ]
    }
   ],
   "source": [
    "from itertools import permutations\n",
    "\n",
    "items = ['x', 'y']\n",
    "\n",
    "all_combos = list(permutations(items))\n",
    "\n",
    "print(all_combos)"
   ]
  }
 ],
 "metadata": {
  "kernelspec": {
   "display_name": "Python 3",
   "language": "python",
   "name": "python3"
  },
  "language_info": {
   "codemirror_mode": {
    "name": "ipython",
    "version": 3
   },
   "file_extension": ".py",
   "mimetype": "text/x-python",
   "name": "python",
   "nbconvert_exporter": "python",
   "pygments_lexer": "ipython3",
   "version": "3.8.8"
  }
 },
 "nbformat": 4,
 "nbformat_minor": 5
}
