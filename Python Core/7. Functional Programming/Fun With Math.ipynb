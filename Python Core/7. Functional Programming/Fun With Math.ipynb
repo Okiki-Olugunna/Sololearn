{
 "cells": [
  {
   "cell_type": "markdown",
   "id": "e890b4a4",
   "metadata": {},
   "source": [
    "#### Fun With Math\n",
    "\n",
    "The provided code uses recursion to calculate the sum of all items in the input list.\n",
    "\n",
    "def calc(list):\n",
    "    if len(list)==0:\n",
    "        return 0\n",
    "    else:\n",
    "        return list[0] + calc(list[1:]) \n",
    "\n",
    "list = [1, 3, 4, 2, 5]\n",
    "x = calc(list)        \n",
    "print(x)\n",
    "\n",
    "Change the code to calculate and output the sum of the squares of all the list items."
   ]
  },
  {
   "cell_type": "code",
   "execution_count": 1,
   "id": "53731bfa",
   "metadata": {},
   "outputs": [
    {
     "name": "stdout",
     "output_type": "stream",
     "text": [
      "55\n"
     ]
    }
   ],
   "source": [
    "def calc(list):\n",
    "    if len(list)==0:\n",
    "        return 0\n",
    "    else:\n",
    "        return (list[0]**2) + calc(list[1:])\n",
    "\n",
    "list = [1, 3, 4, 2, 5]\n",
    "\n",
    "x = calc(list)        \n",
    "\n",
    "print(x)"
   ]
  }
 ],
 "metadata": {
  "kernelspec": {
   "display_name": "Python 3",
   "language": "python",
   "name": "python3"
  },
  "language_info": {
   "codemirror_mode": {
    "name": "ipython",
    "version": 3
   },
   "file_extension": ".py",
   "mimetype": "text/x-python",
   "name": "python",
   "nbconvert_exporter": "python",
   "pygments_lexer": "ipython3",
   "version": "3.8.8"
  }
 },
 "nbformat": 4,
 "nbformat_minor": 5
}
