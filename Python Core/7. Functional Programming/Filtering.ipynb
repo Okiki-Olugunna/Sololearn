{
 "cells": [
  {
   "cell_type": "markdown",
   "id": "7a931c3e",
   "metadata": {},
   "source": [
    "#### Filtering\n",
    "\n",
    "\n",
    "Given a list of names, \n",
    "\n",
    "names = [\"David\", \"John\", \"Annabelle\", \"Johnathan\", \"Veronica\"]\n",
    "\n",
    "Output a list that contains only the names that consist of more than 5 characters.\n"
   ]
  },
  {
   "cell_type": "code",
   "execution_count": 1,
   "id": "45f271a1",
   "metadata": {},
   "outputs": [
    {
     "name": "stdout",
     "output_type": "stream",
     "text": [
      "['Annabelle', 'Johnathan', 'Veronica']\n"
     ]
    }
   ],
   "source": [
    "names = [\"David\", \"John\", \"Annabelle\", \"Johnathan\", \"Veronica\"]\n",
    "\n",
    "shortlist = list(filter(lambda x: len(x) > 5, names))\n",
    "\n",
    "print(shortlist)"
   ]
  }
 ],
 "metadata": {
  "kernelspec": {
   "display_name": "Python 3",
   "language": "python",
   "name": "python3"
  },
  "language_info": {
   "codemirror_mode": {
    "name": "ipython",
    "version": 3
   },
   "file_extension": ".py",
   "mimetype": "text/x-python",
   "name": "python",
   "nbconvert_exporter": "python",
   "pygments_lexer": "ipython3",
   "version": "3.8.8"
  }
 },
 "nbformat": 4,
 "nbformat_minor": 5
}
