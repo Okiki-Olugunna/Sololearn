{
 "cells": [
  {
   "cell_type": "markdown",
   "id": "218a2bdb",
   "metadata": {},
   "source": [
    "#### How Old Will They Be?\n",
    "\n",
    "Given a list of birth years, calculate how old these people will be in the year 2050, and output the resulting list.\n",
    "\n",
    "birth_years = [1995, 2004, 2019, 1988, 1977, 1902]\n",
    "\n",
    "Recall, the map function allows you to apply a given function to all items of a list.\n",
    "\n",
    "For example, a person born in 1995 will be 55 in the year 2050. So, to calculate the ages, you need to subtract the birth year from 2050.\n",
    "\n",
    "Remember, you need to explicitly convert the result of the map function to a list."
   ]
  },
  {
   "cell_type": "code",
   "execution_count": 1,
   "id": "da05a3af",
   "metadata": {},
   "outputs": [
    {
     "name": "stdout",
     "output_type": "stream",
     "text": [
      "[55, 46, 31, 62, 73, 148]\n"
     ]
    }
   ],
   "source": [
    "birth_years = [1995, 2004, 2019, 1988, 1977, 1902]\n",
    "\n",
    "future_age = list(map(lambda x: 2050 - x, birth_years))\n",
    "\n",
    "print(future_age)"
   ]
  }
 ],
 "metadata": {
  "kernelspec": {
   "display_name": "Python 3",
   "language": "python",
   "name": "python3"
  },
  "language_info": {
   "codemirror_mode": {
    "name": "ipython",
    "version": 3
   },
   "file_extension": ".py",
   "mimetype": "text/x-python",
   "name": "python",
   "nbconvert_exporter": "python",
   "pygments_lexer": "ipython3",
   "version": "3.8.8"
  }
 },
 "nbformat": 4,
 "nbformat_minor": 5
}
