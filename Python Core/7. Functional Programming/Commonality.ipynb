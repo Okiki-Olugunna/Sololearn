{
 "cells": [
  {
   "cell_type": "markdown",
   "id": "563499be",
   "metadata": {},
   "source": [
    "#### Commonality\n",
    "\n",
    "Sets are created using curly braces and they hold unique values.\n",
    "\n",
    "Given two sets, \n",
    "\n",
    "set1 = {2, 4, 5, 6}  \n",
    "set2 = {4, 6, 7, 8, 11, 42, 2}  \n",
    "\n",
    "find and output all the elements that are common to both sets.\n",
    "\n",
    "\n",
    "For example, for the following sets:\n",
    "{'a', 'b', 'c'}\n",
    "{'c', 'd', 'e'}\n",
    "\n",
    "The output should be {'c'}, as it is present in both sets.\n",
    "\n",
    "The output should be a set, containing the common elements."
   ]
  },
  {
   "cell_type": "code",
   "execution_count": 1,
   "id": "70dbd398",
   "metadata": {},
   "outputs": [
    {
     "name": "stdout",
     "output_type": "stream",
     "text": [
      "{2, 4, 6}\n"
     ]
    }
   ],
   "source": [
    "set1 = {2, 4, 5, 6}  \n",
    "set2 = {4, 6, 7, 8, 11, 42, 2}  \n",
    "\n",
    "print(set1 & set2)"
   ]
  }
 ],
 "metadata": {
  "kernelspec": {
   "display_name": "Python 3",
   "language": "python",
   "name": "python3"
  },
  "language_info": {
   "codemirror_mode": {
    "name": "ipython",
    "version": 3
   },
   "file_extension": ".py",
   "mimetype": "text/x-python",
   "name": "python",
   "nbconvert_exporter": "python",
   "pygments_lexer": "ipython3",
   "version": "3.8.8"
  }
 },
 "nbformat": 4,
 "nbformat_minor": 5
}
