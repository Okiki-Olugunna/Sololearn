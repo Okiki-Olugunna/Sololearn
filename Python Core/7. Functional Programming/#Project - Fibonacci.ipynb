{
 "cells": [
  {
   "cell_type": "markdown",
   "id": "1d5f6c17",
   "metadata": {},
   "source": [
    "#### Project - Fibonacci\n",
    "\n",
    "\n",
    "The Fibonacci sequence is one of the most famous formulas in mathematics.\n",
    "Each number in the sequence is the sum of the two numbers that precede it.\n",
    "For example, here is the Fibonacci sequence for 10 numbers, starting from 0: 0,1,1,2,3,5,8,13,21,34.\n",
    "\n",
    "Write a program to take N positive numbers as input, and recursively calculate and output the first N numbers of the Fibonacci sequence (starting from 0).\n",
    "\n",
    "Sample Input:\n",
    "6\n",
    "\n",
    "Sample Output:\n",
    "\n",
    "0\n",
    "\n",
    "1\n",
    "\n",
    "1\n",
    "\n",
    "2\n",
    "\n",
    "3\n",
    "\n",
    "5\n",
    "\n",
    "If you are making the Fibonacci sequence for n numbers, you should use n<=1 condition as the base case."
   ]
  },
  {
   "cell_type": "code",
   "execution_count": 1,
   "id": "3b3a4c6b",
   "metadata": {},
   "outputs": [
    {
     "name": "stdout",
     "output_type": "stream",
     "text": [
      "6\n",
      "0\n",
      "1\n",
      "1\n",
      "2\n",
      "3\n",
      "5\n"
     ]
    }
   ],
   "source": [
    "num = int(input())\n",
    "\n",
    "\n",
    "def fibonacci(n):\n",
    "    x = 0\n",
    "    y = 1\n",
    "    for i in range(n):\n",
    "        print(x)\n",
    "        x, y = y, x + y\n",
    "\n",
    "fibonacci(num)"
   ]
  }
 ],
 "metadata": {
  "kernelspec": {
   "display_name": "Python 3",
   "language": "python",
   "name": "python3"
  },
  "language_info": {
   "codemirror_mode": {
    "name": "ipython",
    "version": 3
   },
   "file_extension": ".py",
   "mimetype": "text/x-python",
   "name": "python",
   "nbconvert_exporter": "python",
   "pygments_lexer": "ipython3",
   "version": "3.8.8"
  }
 },
 "nbformat": 4,
 "nbformat_minor": 5
}
