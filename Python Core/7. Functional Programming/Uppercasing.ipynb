{
 "cells": [
  {
   "cell_type": "markdown",
   "id": "14dce303",
   "metadata": {},
   "source": [
    "#### Uppercasing\n",
    "\n",
    "\n",
    "You are given code that takes input and prints it as a simple row of text.\n",
    "\n",
    "text = input()\n",
    "\n",
    "def uppercase_decorator(func):\n",
    "    def wrapper(text):\n",
    "        #your code goes here\n",
    "\n",
    "    return wrapper\n",
    "    \n",
    "@uppercase_decorator    \n",
    "def display_text(text):\n",
    "    return(text)\n",
    "    \n",
    "print(display_text(text))\n",
    "\n",
    "\n",
    "Add the uppercase_decorator to make the text uppercase."
   ]
  },
  {
   "cell_type": "code",
   "execution_count": 1,
   "id": "965100f1",
   "metadata": {},
   "outputs": [
    {
     "name": "stdout",
     "output_type": "stream",
     "text": [
      "hi there\n",
      "HI THERE\n"
     ]
    }
   ],
   "source": [
    "text = input()\n",
    "\n",
    "def uppercase_decorator(func):\n",
    "    def wrapper(text):\n",
    "        print(text.upper())\n",
    "    return wrapper\n",
    "    \n",
    "@uppercase_decorator    \n",
    "def display_text(text):\n",
    "    return(text)\n",
    "    \n",
    "display_text(text)"
   ]
  }
 ],
 "metadata": {
  "kernelspec": {
   "display_name": "Python 3",
   "language": "python",
   "name": "python3"
  },
  "language_info": {
   "codemirror_mode": {
    "name": "ipython",
    "version": 3
   },
   "file_extension": ".py",
   "mimetype": "text/x-python",
   "name": "python",
   "nbconvert_exporter": "python",
   "pygments_lexer": "ipython3",
   "version": "3.8.8"
  }
 },
 "nbformat": 4,
 "nbformat_minor": 5
}
