{
 "cells": [
  {
   "cell_type": "markdown",
   "id": "e6caa9ca",
   "metadata": {},
   "source": [
    "#### Lambdas\n",
    "\n",
    "The given code takes a number as input and uses a lambda function to calculate its double and output the result.\n",
    "\n",
    "\n",
    "x = int(input())\n",
    "\n",
    "y = (lambda z:z*2)(x)\n",
    "\n",
    "print(y)\n",
    "\n",
    "\n",
    "\n",
    "Change the code to calculate the cube of the input and output it.\n",
    "\n",
    "Sample Input:\n",
    "\n",
    "3\n",
    "\n",
    "Sample Output:\n",
    "\n",
    "27"
   ]
  },
  {
   "cell_type": "code",
   "execution_count": 1,
   "id": "0c6f09d6",
   "metadata": {},
   "outputs": [
    {
     "name": "stdout",
     "output_type": "stream",
     "text": [
      "3\n",
      "27\n"
     ]
    }
   ],
   "source": [
    "x = int(input())\n",
    "\n",
    "y = (lambda z:z**3)(x)\n",
    "\n",
    "print(y)"
   ]
  }
 ],
 "metadata": {
  "kernelspec": {
   "display_name": "Python 3",
   "language": "python",
   "name": "python3"
  },
  "language_info": {
   "codemirror_mode": {
    "name": "ipython",
    "version": 3
   },
   "file_extension": ".py",
   "mimetype": "text/x-python",
   "name": "python",
   "nbconvert_exporter": "python",
   "pygments_lexer": "ipython3",
   "version": "3.8.8"
  }
 },
 "nbformat": 4,
 "nbformat_minor": 5
}
