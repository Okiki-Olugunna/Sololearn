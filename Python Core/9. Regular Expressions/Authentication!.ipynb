{
 "cells": [
  {
   "cell_type": "markdown",
   "id": "8128ea42",
   "metadata": {},
   "source": [
    "#### Authentication!\n",
    "\n",
    "Let's imagine we are creating our own authentication system.\n",
    "\n",
    "Create a program that takes a password as input and returns \"Password created\" if\n",
    "- it has at least one uppercase character\n",
    "- it has at least one number\n",
    "\n",
    "The Program should output \"Wrong format\" if requirements above are not met.\n",
    "\n",
    "Sample Input:\n",
    "Hal44gb8\n",
    "\n",
    "Sample Output:\n",
    "Password created"
   ]
  },
  {
   "cell_type": "code",
   "execution_count": 1,
   "id": "f36cf01b",
   "metadata": {},
   "outputs": [
    {
     "name": "stdout",
     "output_type": "stream",
     "text": [
      "Hal44gb8\n",
      "Password created\n"
     ]
    }
   ],
   "source": [
    "import re\n",
    "\n",
    "password = input()\n",
    "\n",
    "if re.search(\"[A-Z][0-9]*\", password):\n",
    "    print(\"Password created\")\n",
    "else:\n",
    "    print(\"Wrong format\")"
   ]
  }
 ],
 "metadata": {
  "kernelspec": {
   "display_name": "Python 3",
   "language": "python",
   "name": "python3"
  },
  "language_info": {
   "codemirror_mode": {
    "name": "ipython",
    "version": 3
   },
   "file_extension": ".py",
   "mimetype": "text/x-python",
   "name": "python",
   "nbconvert_exporter": "python",
   "pygments_lexer": "ipython3",
   "version": "3.8.8"
  }
 },
 "nbformat": 4,
 "nbformat_minor": 5
}
