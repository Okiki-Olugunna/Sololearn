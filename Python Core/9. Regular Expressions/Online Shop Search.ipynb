{
 "cells": [
  {
   "cell_type": "markdown",
   "id": "ad956c2d",
   "metadata": {},
   "source": [
    "#### Online Shop Search\n",
    "\n",
    "All the products in online shop have their own ID. Every ID consists of 4 symbols:\n",
    "- The first symbol: an uppercase character\n",
    "- The second symbol: an uppercase character\n",
    "- The third symbol: a digit\n",
    "- The forth symbol: a digit\n",
    "\n",
    "Write a program for a search tool, that will take the ID as input and output \"Searching\" if the format is correct, and \"Wrong format\", if it's not.\n",
    "\n",
    "Sample Input:\n",
    "LG17\n",
    "\n",
    "Sample Output:\n",
    "Searching"
   ]
  },
  {
   "cell_type": "code",
   "execution_count": 1,
   "id": "1eb0156f",
   "metadata": {},
   "outputs": [
    {
     "name": "stdout",
     "output_type": "stream",
     "text": [
      "LG17\n",
      "Searching\n"
     ]
    }
   ],
   "source": [
    "import re\n",
    "\n",
    "ID = input()\n",
    "\n",
    "\n",
    "if re.search(\"[A-Z][A-Z][0-9][0-9]$\", ID):    #can also work with re.match()\n",
    "    print(\"Searching\")\n",
    "else:\n",
    "    print(\"Wrong format\")"
   ]
  }
 ],
 "metadata": {
  "kernelspec": {
   "display_name": "Python 3",
   "language": "python",
   "name": "python3"
  },
  "language_info": {
   "codemirror_mode": {
    "name": "ipython",
    "version": 3
   },
   "file_extension": ".py",
   "mimetype": "text/x-python",
   "name": "python",
   "nbconvert_exporter": "python",
   "pygments_lexer": "ipython3",
   "version": "3.8.8"
  }
 },
 "nbformat": 4,
 "nbformat_minor": 5
}
