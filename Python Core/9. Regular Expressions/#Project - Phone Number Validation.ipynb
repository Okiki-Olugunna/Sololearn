{
 "cells": [
  {
   "cell_type": "markdown",
   "id": "3294f366",
   "metadata": {},
   "source": [
    "### Project - Phone Number Validation\n",
    "\n",
    "Imagine you are given a number, and need to check if it is a valid phone number.\n",
    "\n",
    "A valid phone number has exactly 8 digits and starts with 1, 8 or 9.\n",
    "\n",
    "Output \"Valid\" if the number is valid and \"Invalid\", if it is not.\n",
    "\n",
    "Sample Input:\n",
    "81239870\n",
    "\n",
    "Sample Output:\n",
    "Valid"
   ]
  },
  {
   "cell_type": "code",
   "execution_count": 1,
   "id": "ed6fdac9",
   "metadata": {},
   "outputs": [
    {
     "name": "stdout",
     "output_type": "stream",
     "text": [
      "81239870\n",
      "Valid\n"
     ]
    }
   ],
   "source": [
    "import re\n",
    "\n",
    "\n",
    "phone_number = input()\n",
    "\n",
    "valid_format = r\"[189][0-9]{7,7}$\"\n",
    "\n",
    "\n",
    "if re.match(valid_format, phone_number):\n",
    "    print(\"Valid\")\n",
    "else:\n",
    "    print(\"Invalid\")"
   ]
  }
 ],
 "metadata": {
  "kernelspec": {
   "display_name": "Python 3",
   "language": "python",
   "name": "python3"
  },
  "language_info": {
   "codemirror_mode": {
    "name": "ipython",
    "version": 3
   },
   "file_extension": ".py",
   "mimetype": "text/x-python",
   "name": "python",
   "nbconvert_exporter": "python",
   "pygments_lexer": "ipython3",
   "version": "3.8.8"
  }
 },
 "nbformat": 4,
 "nbformat_minor": 5
}
