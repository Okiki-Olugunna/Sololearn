{
 "cells": [
  {
   "cell_type": "markdown",
   "id": "8173abbb",
   "metadata": {},
   "source": [
    "#### Always Do Your Best!\n",
    "\n",
    "Given the quote:\n",
    "\n",
    "quote = \"Always do your best. Your best is going to change from moment to moment; it will be different when you are healthy as opposed to sick. Under any circumstance, simply do your best, and you will avoid self-judgment, self-abuse and regret\"\n",
    "\n",
    "\n",
    "Complete the program so that it will take a word as input and output the number of times that word appears in the quote.\n",
    "\n",
    "Sample Input:\n",
    "best\n",
    "\n",
    "Sample Output:\n",
    "3"
   ]
  },
  {
   "cell_type": "code",
   "execution_count": 1,
   "id": "28d999ab",
   "metadata": {},
   "outputs": [
    {
     "name": "stdout",
     "output_type": "stream",
     "text": [
      "best\n",
      "3\n"
     ]
    }
   ],
   "source": [
    "import re\n",
    "\n",
    "quote = \"Always do your best. Your best is going to change from moment to moment; it will be different when you are healthy as opposed to sick. Under any circumstance, simply do your best, and you will avoid self-judgment, self-abuse and regret\"\n",
    "\n",
    "word = input()\n",
    "\n",
    "how_many = len(re.findall(word, quote))\n",
    "\n",
    "print(how_many)"
   ]
  }
 ],
 "metadata": {
  "kernelspec": {
   "display_name": "Python 3",
   "language": "python",
   "name": "python3"
  },
  "language_info": {
   "codemirror_mode": {
    "name": "ipython",
    "version": 3
   },
   "file_extension": ".py",
   "mimetype": "text/x-python",
   "name": "python",
   "nbconvert_exporter": "python",
   "pygments_lexer": "ipython3",
   "version": "3.8.8"
  }
 },
 "nbformat": 4,
 "nbformat_minor": 5
}
