{
 "cells": [
  {
   "cell_type": "markdown",
   "id": "bda227f0",
   "metadata": {},
   "source": [
    "#### Word Games\n",
    "\n",
    "You are playing a word game with your friends, and are asked for a word starting with \"gl\".\n",
    "Write a program that takes the word as input and outputs \"Match\" if it starts with required characters, and \"No match\" if it doesn't.\n",
    "\n",
    "Sample Input:\n",
    "glue\n",
    "\n",
    "Sample Output:\n",
    "Match"
   ]
  },
  {
   "cell_type": "code",
   "execution_count": 1,
   "id": "19d509c7",
   "metadata": {},
   "outputs": [
    {
     "name": "stdout",
     "output_type": "stream",
     "text": [
      "glue\n",
      "Match\n"
     ]
    }
   ],
   "source": [
    "import re\n",
    "word = input()\n",
    "\n",
    "if re.match(\"gl\", word):\n",
    "    print(\"Match\")\n",
    "else:\n",
    "    print(\"No match\")"
   ]
  }
 ],
 "metadata": {
  "kernelspec": {
   "display_name": "Python 3",
   "language": "python",
   "name": "python3"
  },
  "language_info": {
   "codemirror_mode": {
    "name": "ipython",
    "version": 3
   },
   "file_extension": ".py",
   "mimetype": "text/x-python",
   "name": "python",
   "nbconvert_exporter": "python",
   "pygments_lexer": "ipython3",
   "version": "3.8.8"
  }
 },
 "nbformat": 4,
 "nbformat_minor": 5
}
