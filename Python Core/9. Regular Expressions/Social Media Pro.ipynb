{
 "cells": [
  {
   "cell_type": "markdown",
   "id": "b325e89e",
   "metadata": {},
   "source": [
    "#### Social Media Pro\n",
    "\n",
    "You are a social media marketing specialist doing research on social networks.\n",
    "Write a program for your research that will take text as input and output all of the hashtags in it separately.\n",
    "\n",
    "Sample Input:\n",
    "\n",
    "No #pressure, no #diamonds\n",
    "\n",
    "Sample Output:\n",
    "\n",
    "#pressure\n",
    "\n",
    "#diamonds"
   ]
  },
  {
   "cell_type": "code",
   "execution_count": 1,
   "id": "3b487f41",
   "metadata": {},
   "outputs": [
    {
     "name": "stdout",
     "output_type": "stream",
     "text": [
      "no #pressure, no #diamonds\n",
      "#pressure\n",
      "#diamonds\n"
     ]
    }
   ],
   "source": [
    "import re\n",
    "\n",
    "text = input()\n",
    "\n",
    "hashtags = re.findall(r\"#\\w+\", text)\n",
    "\n",
    "for i in hashtags:\n",
    "    print(i)"
   ]
  }
 ],
 "metadata": {
  "kernelspec": {
   "display_name": "Python 3",
   "language": "python",
   "name": "python3"
  },
  "language_info": {
   "codemirror_mode": {
    "name": "ipython",
    "version": 3
   },
   "file_extension": ".py",
   "mimetype": "text/x-python",
   "name": "python",
   "nbconvert_exporter": "python",
   "pygments_lexer": "ipython3",
   "version": "3.8.8"
  }
 },
 "nbformat": 4,
 "nbformat_minor": 5
}
