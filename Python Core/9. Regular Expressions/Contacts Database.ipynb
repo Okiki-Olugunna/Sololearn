{
 "cells": [
  {
   "cell_type": "markdown",
   "id": "b648be47",
   "metadata": {},
   "source": [
    "#### Contacts Database\n",
    "\n",
    "We need to create a number formatting system for a contacts database.\n",
    "\n",
    "Create a program that will take the phone number as input, and if the number starts with \"00\", replace them with \"+\".\n",
    "The number should be printed after formatting.\n",
    "\n",
    "Sample Input:\n",
    "0014665611\n",
    "\n",
    "Sample Output:\n",
    "+14665611\n",
    "\n",
    "Notice that here you shouldn't convert the input string to integer, because you will work with symbols."
   ]
  },
  {
   "cell_type": "code",
   "execution_count": 2,
   "id": "093f8f3d",
   "metadata": {},
   "outputs": [
    {
     "name": "stdout",
     "output_type": "stream",
     "text": [
      "0014665611\n",
      "+14665611\n"
     ]
    }
   ],
   "source": [
    "import re\n",
    "\n",
    "phone_number = input()\n",
    "\n",
    "if re.match(\"00\", phone_number):\n",
    "    print(re.sub(\"00\", \"+\", phone_number))\n",
    "else:\n",
    "    print(phone_number)"
   ]
  },
  {
   "cell_type": "code",
   "execution_count": 3,
   "id": "169e2492",
   "metadata": {},
   "outputs": [
    {
     "name": "stdout",
     "output_type": "stream",
     "text": [
      "00156720058\n",
      "+156720058\n"
     ]
    }
   ],
   "source": [
    "import re\n",
    "\n",
    "phone_number = input()\n",
    "\n",
    "if re.match(\"00\", phone_number):\n",
    "    print(re.sub(\"00\", \"+\", phone_number, count=1)) # added the count 1 to only change the first occurence of \"00\" \n",
    "                                                    # in case someone's number has \"00\" in the middle somewhere\n",
    "else:\n",
    "    print(phone_number)"
   ]
  }
 ],
 "metadata": {
  "kernelspec": {
   "display_name": "Python 3",
   "language": "python",
   "name": "python3"
  },
  "language_info": {
   "codemirror_mode": {
    "name": "ipython",
    "version": 3
   },
   "file_extension": ".py",
   "mimetype": "text/x-python",
   "name": "python",
   "nbconvert_exporter": "python",
   "pygments_lexer": "ipython3",
   "version": "3.8.8"
  }
 },
 "nbformat": 4,
 "nbformat_minor": 5
}
