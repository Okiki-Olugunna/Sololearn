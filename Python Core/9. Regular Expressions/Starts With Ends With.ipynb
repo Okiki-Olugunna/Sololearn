{
 "cells": [
  {
   "cell_type": "markdown",
   "id": "6dff4e01",
   "metadata": {},
   "source": [
    "#### Starts With Ends With\n",
    "\n",
    "Write a program that takes a word as input, and outputs \"Match\" if the word has 4 letters, starts with \"m\" and ends with \"e\".\n",
    "The program should output \"No match\" if these mentioned requirements aren't satisfied.\n",
    "\n",
    "Sample Input:\n",
    "mine\n",
    "\n",
    "Sample Output:\n",
    "Match"
   ]
  },
  {
   "cell_type": "code",
   "execution_count": 1,
   "id": "817f8c38",
   "metadata": {},
   "outputs": [
    {
     "name": "stdout",
     "output_type": "stream",
     "text": [
      "mine\n",
      "Match\n"
     ]
    }
   ],
   "source": [
    "import re \n",
    "\n",
    "word = input()\n",
    "\n",
    "if re.match(\"^m..e$\", word):\n",
    "    print(\"Match\")\n",
    "else:\n",
    "    print(\"No match\")"
   ]
  }
 ],
 "metadata": {
  "kernelspec": {
   "display_name": "Python 3",
   "language": "python",
   "name": "python3"
  },
  "language_info": {
   "codemirror_mode": {
    "name": "ipython",
    "version": 3
   },
   "file_extension": ".py",
   "mimetype": "text/x-python",
   "name": "python",
   "nbconvert_exporter": "python",
   "pygments_lexer": "ipython3",
   "version": "3.8.8"
  }
 },
 "nbformat": 4,
 "nbformat_minor": 5
}
