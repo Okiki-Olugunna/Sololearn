{
 "cells": [
  {
   "cell_type": "markdown",
   "id": "40e31925",
   "metadata": {},
   "source": [
    "#### Iteration\n",
    "\n",
    "for loops allow you to easily iterate through lists.\n",
    "\n",
    "Given a list of numbers, output their sum.\n",
    "\n",
    "list = [1, 2, 3, 4, 5, 6, 7, 8, 9]\n",
    "\n",
    "Sample Input:\n",
    "1, 3, 7, 5\n",
    "\n",
    "Sample Output:\n",
    "16"
   ]
  },
  {
   "cell_type": "code",
   "execution_count": 1,
   "id": "9d422f53",
   "metadata": {},
   "outputs": [
    {
     "name": "stdout",
     "output_type": "stream",
     "text": [
      "45\n"
     ]
    }
   ],
   "source": [
    "list = [1, 2, 3, 4, 5, 6, 7, 8, 9]\n",
    "\n",
    "sum = 0\n",
    "\n",
    "for i in list:\n",
    "    sum += i\n",
    "print(sum)"
   ]
  }
 ],
 "metadata": {
  "kernelspec": {
   "display_name": "Python 3",
   "language": "python",
   "name": "python3"
  },
  "language_info": {
   "codemirror_mode": {
    "name": "ipython",
    "version": 3
   },
   "file_extension": ".py",
   "mimetype": "text/x-python",
   "name": "python",
   "nbconvert_exporter": "python",
   "pygments_lexer": "ipython3",
   "version": "3.8.8"
  }
 },
 "nbformat": 4,
 "nbformat_minor": 5
}
