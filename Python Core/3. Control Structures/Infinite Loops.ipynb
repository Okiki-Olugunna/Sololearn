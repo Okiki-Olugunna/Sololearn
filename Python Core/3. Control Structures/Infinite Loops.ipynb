{
 "cells": [
  {
   "cell_type": "markdown",
   "id": "01893ed4",
   "metadata": {},
   "source": [
    "#### Infinite Loops \n",
    "\n",
    "The given code uses an infinite loop to continuously take user input.\n",
    "During each iteration, the user input is added to the items list.\n",
    "\n",
    "items = [ ]\n",
    "\n",
    "while True:\n",
    "\n",
    "    n = int(input())\n",
    "    \n",
    "    items.append(n)\n",
    "    \n",
    "\n",
    "Change the code to end the loop when the user enters 0.\n",
    "Output the resulted list after the while loop ends.\n",
    "\n",
    "Sample Input:\n",
    "\n",
    "1\n",
    "\n",
    "2\n",
    "\n",
    "3\n",
    "\n",
    "0\n",
    "\n",
    "Sample Output:\n",
    "[1, 2, 3]\n",
    "\n",
    "Do not add the 0 to the list."
   ]
  },
  {
   "cell_type": "code",
   "execution_count": 1,
   "id": "ffc83def",
   "metadata": {},
   "outputs": [
    {
     "name": "stdout",
     "output_type": "stream",
     "text": [
      "1\n",
      "2\n",
      "3\n",
      "0\n",
      "[1, 2, 3]\n"
     ]
    }
   ],
   "source": [
    "items = []\n",
    "\n",
    "while True:\n",
    "    n = int(input())\n",
    "    if n == 0:\n",
    "        break\n",
    "    else: \n",
    "        items.append(n)\n",
    "\n",
    "print(items)"
   ]
  }
 ],
 "metadata": {
  "kernelspec": {
   "display_name": "Python 3",
   "language": "python",
   "name": "python3"
  },
  "language_info": {
   "codemirror_mode": {
    "name": "ipython",
    "version": 3
   },
   "file_extension": ".py",
   "mimetype": "text/x-python",
   "name": "python",
   "nbconvert_exporter": "python",
   "pygments_lexer": "ipython3",
   "version": "3.8.8"
  }
 },
 "nbformat": 4,
 "nbformat_minor": 5
}
