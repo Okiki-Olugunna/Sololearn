{
 "cells": [
  {
   "cell_type": "markdown",
   "id": "fdac5979",
   "metadata": {},
   "source": [
    "#### Free Stuff!\n",
    "\n",
    "A shop is running a promotion today! If an item's price is an odd number, you get that item for free!\n",
    "\n",
    "You use a list to store the prices of all items in the shopping cart.\n",
    "The given code uses a while loop to iterate over the list, calculates the price of all the items in the list, and output the result.\n",
    "\n",
    "items = [23, 555, 666, 123, 128, 4242, 990]\n",
    "\n",
    "sum = 0\n",
    "n = 0\n",
    "\n",
    "while n < len(items):\n",
    "\n",
    "    num = items[n]\n",
    "    n += 1\n",
    "    \n",
    "    sum += num\n",
    "    \n",
    "print(sum)\n",
    "\n",
    "Change the code to skip the odd prices, calculate the sum of only the even prices and outputs the result."
   ]
  },
  {
   "cell_type": "code",
   "execution_count": 1,
   "id": "83d56d51",
   "metadata": {},
   "outputs": [
    {
     "name": "stdout",
     "output_type": "stream",
     "text": [
      "6026\n"
     ]
    }
   ],
   "source": [
    "items = [23, 555, 666, 123, 128, 4242, 990]\n",
    "\n",
    "sum = 0\n",
    "n = 0\n",
    "\n",
    "while n < len(items):\n",
    "    item_price = items[n]\n",
    "    n += 1\n",
    "    if (item_price % 2) != 0:\n",
    "        continue\n",
    "    sum += item_price\n",
    "    \n",
    "print(sum)"
   ]
  }
 ],
 "metadata": {
  "kernelspec": {
   "display_name": "Python 3",
   "language": "python",
   "name": "python3"
  },
  "language_info": {
   "codemirror_mode": {
    "name": "ipython",
    "version": 3
   },
   "file_extension": ".py",
   "mimetype": "text/x-python",
   "name": "python",
   "nbconvert_exporter": "python",
   "pygments_lexer": "ipython3",
   "version": "3.8.8"
  }
 },
 "nbformat": 4,
 "nbformat_minor": 5
}
