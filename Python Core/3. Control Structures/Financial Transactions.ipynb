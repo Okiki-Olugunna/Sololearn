{
 "cells": [
  {
   "cell_type": "markdown",
   "id": "ee4311dd",
   "metadata": {},
   "source": [
    "#### Financial Transactions\n",
    "\n",
    "Using an ATM, customers can access their bank deposits or credit accounts to do a variety of financial transactions.\n",
    "You serve ATMs that accept only Visa and Amex bank cards.\n",
    "The given program takes the type of a bank card as input.\n",
    "\n",
    "Task:\n",
    "Complete the program to output \"accepted\" if the card is Visa or Amex.\n",
    "Don't output anything otherwise.\n",
    "\n",
    "Sample Input:\n",
    "Amex\n",
    "\n",
    "Sample Output:\n",
    "accepted"
   ]
  },
  {
   "cell_type": "code",
   "execution_count": null,
   "id": "9b18568e",
   "metadata": {},
   "outputs": [],
   "source": [
    "bank_card = input()\n",
    "\n",
    "if (bank_card == \"Visa\") or (bank_card == \"Amex\"):\n",
    "    print(\"accepted\")"
   ]
  }
 ],
 "metadata": {
  "kernelspec": {
   "display_name": "Python 3",
   "language": "python",
   "name": "python3"
  },
  "language_info": {
   "codemirror_mode": {
    "name": "ipython",
    "version": 3
   },
   "file_extension": ".py",
   "mimetype": "text/x-python",
   "name": "python",
   "nbconvert_exporter": "python",
   "pygments_lexer": "ipython3",
   "version": "3.8.8"
  }
 },
 "nbformat": 4,
 "nbformat_minor": 5
}
