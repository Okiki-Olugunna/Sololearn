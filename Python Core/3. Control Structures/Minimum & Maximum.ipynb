{
 "cells": [
  {
   "cell_type": "markdown",
   "id": "27ab5363",
   "metadata": {},
   "source": [
    "#### Minimum & Maximum\n",
    "\n",
    "You are given a list:\n",
    "\n",
    "numbers = [14, 5, 6, 8, 17, 28]  \n",
    "\n",
    "Write a program that will calculate and output the sum of maximum and minimum items of the given list."
   ]
  },
  {
   "cell_type": "code",
   "execution_count": 1,
   "id": "45ff68bb",
   "metadata": {},
   "outputs": [
    {
     "name": "stdout",
     "output_type": "stream",
     "text": [
      "33\n"
     ]
    }
   ],
   "source": [
    "numbers = [14,5,6,8,17,28] \n",
    "\n",
    "\n",
    "calc = max(numbers) + min(numbers)\n",
    "\n",
    "print(calc)"
   ]
  }
 ],
 "metadata": {
  "kernelspec": {
   "display_name": "Python 3",
   "language": "python",
   "name": "python3"
  },
  "language_info": {
   "codemirror_mode": {
    "name": "ipython",
    "version": 3
   },
   "file_extension": ".py",
   "mimetype": "text/x-python",
   "name": "python",
   "nbconvert_exporter": "python",
   "pygments_lexer": "ipython3",
   "version": "3.8.8"
  }
 },
 "nbformat": 4,
 "nbformat_minor": 5
}
