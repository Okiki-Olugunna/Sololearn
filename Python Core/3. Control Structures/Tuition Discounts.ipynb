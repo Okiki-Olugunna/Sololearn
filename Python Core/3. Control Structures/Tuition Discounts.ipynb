{
 "cells": [
  {
   "cell_type": "markdown",
   "id": "a36d4a5f",
   "metadata": {},
   "source": [
    "#### Tuition Discounts\n",
    "\n",
    "The university gives students discounts on tuition fees depending on their performance:\n",
    "- 90-100 => 50%\n",
    "- 80-89 => 30%\n",
    "- 70-79 => 10%\n",
    "- 0-69 => 0%\n",
    "\n",
    "Write a program that will take the scores from the first and second semesters, then calculate the average score, and output the discount, depending on the score.\n",
    "\n",
    "Sample Input:\n",
    "\n",
    "67\n",
    "\n",
    "83\n",
    "\n",
    "Sample Output:\n",
    "10\n",
    "\n",
    "Explanation:\n",
    "Average of 67 and 83 is 75, which is in range of 70 to 79 and gets a 10% discount. Do not include the % symbol in the output."
   ]
  },
  {
   "cell_type": "code",
   "execution_count": null,
   "id": "381c1970",
   "metadata": {},
   "outputs": [],
   "source": [
    "score1 = int(input())\n",
    "score2 = int(input())\n",
    "\n",
    "import statistics \n",
    "average = statistics.mean([score1, score2])\n",
    "\n",
    "if (90 <= average <= 100):\n",
    "    print(50)\n",
    "elif (80 <= average <= 89):\n",
    "    print(30)\n",
    "elif (70 <= average <= 79):\n",
    "    print(10)\n",
    "else:\n",
    "    print(0)"
   ]
  }
 ],
 "metadata": {
  "kernelspec": {
   "display_name": "Python 3",
   "language": "python",
   "name": "python3"
  },
  "language_info": {
   "codemirror_mode": {
    "name": "ipython",
    "version": 3
   },
   "file_extension": ".py",
   "mimetype": "text/x-python",
   "name": "python",
   "nbconvert_exporter": "python",
   "pygments_lexer": "ipython3",
   "version": "3.8.8"
  }
 },
 "nbformat": 4,
 "nbformat_minor": 5
}
