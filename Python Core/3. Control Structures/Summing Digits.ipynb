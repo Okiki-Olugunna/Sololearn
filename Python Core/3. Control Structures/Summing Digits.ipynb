{
 "cells": [
  {
   "cell_type": "markdown",
   "id": "96bc01c2",
   "metadata": {},
   "source": [
    "#### Summing Digits\n",
    "\n",
    "The given program calculates and outputs the number of digits in a given number using a while loop.\n",
    "\n",
    "n = int(input())\n",
    "length = 0\n",
    "while n > 0:\n",
    "    n //= 10\n",
    "    length += 1\n",
    "    \n",
    "print(length) \n",
    "\n",
    "During each iteration, the loop uses floor division to divide the given number by 10, thus dropping one digit.\n",
    "The process continues until the number has no more digits (n>0).\n",
    "\n",
    "You need to change the code to calculate and output the sum of all digits of the input number.\n",
    "\n",
    "Sample Input:\n",
    "643\n",
    "\n",
    "Sample Output:\n",
    "13\n",
    "\n",
    "Explanation:\n",
    "The sum of the digits of 643 is 6+4+3 = 13."
   ]
  },
  {
   "cell_type": "code",
   "execution_count": 1,
   "id": "292821f2",
   "metadata": {},
   "outputs": [
    {
     "name": "stdout",
     "output_type": "stream",
     "text": [
      "643\n",
      "13\n"
     ]
    }
   ],
   "source": [
    "number = int(input())\n",
    "\n",
    "sum = 0\n",
    "\n",
    "while number > 0:\n",
    "   last_digit = number % 10\n",
    "   sum += last_digit\n",
    "   number = number // 10 \n",
    "\n",
    "print(sum)"
   ]
  },
  {
   "cell_type": "code",
   "execution_count": 2,
   "id": "21e0bb92",
   "metadata": {},
   "outputs": [
    {
     "name": "stdout",
     "output_type": "stream",
     "text": [
      "643\n",
      "13\n"
     ]
    }
   ],
   "source": [
    "#cleaner:\n",
    "\n",
    "number = int(input())\n",
    "\n",
    "sum = 0\n",
    "\n",
    "while number > 0:\n",
    "   last_digit = number % 10\n",
    "   sum += last_digit\n",
    "   number //= 10 \n",
    "\n",
    "print(sum)"
   ]
  }
 ],
 "metadata": {
  "kernelspec": {
   "display_name": "Python 3",
   "language": "python",
   "name": "python3"
  },
  "language_info": {
   "codemirror_mode": {
    "name": "ipython",
    "version": 3
   },
   "file_extension": ".py",
   "mimetype": "text/x-python",
   "name": "python",
   "nbconvert_exporter": "python",
   "pygments_lexer": "ipython3",
   "version": "3.8.8"
  }
 },
 "nbformat": 4,
 "nbformat_minor": 5
}
