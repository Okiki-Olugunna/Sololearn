{
 "cells": [
  {
   "cell_type": "markdown",
   "id": "cec22fc4",
   "metadata": {},
   "source": [
    "#### Humidity Level\n",
    "\n",
    "\n",
    "The comfortable relative humidity for humans is between 40% and 60%.\n",
    "The given program takes the percent of humidity as input.\n",
    "\n",
    "humidity = int(input())\n",
    "\n",
    "Task:\n",
    "Complete the code to output \"norm\" if the taken percent of humidity is in the range of 40 and 60 inclusive.\n",
    "Don't output anything otherwise.\n",
    "\n",
    "Sample Input:\n",
    "45\n",
    "\n",
    "Sample Output:\n",
    "\n",
    "norm"
   ]
  },
  {
   "cell_type": "code",
   "execution_count": null,
   "id": "07fef2a6",
   "metadata": {},
   "outputs": [],
   "source": [
    "humidity = int(input())\n",
    "\n",
    "if (40) <= humidity <= (60):\n",
    "    print(\"norm\")"
   ]
  },
  {
   "cell_type": "code",
   "execution_count": null,
   "id": "643b176e",
   "metadata": {},
   "outputs": [],
   "source": [
    "# could also do:\n",
    "\n",
    "humidity = int(input())\n",
    "\n",
    "if humidity in range(40, 61):\n",
    "    print(\"norm\")"
   ]
  }
 ],
 "metadata": {
  "kernelspec": {
   "display_name": "Python 3",
   "language": "python",
   "name": "python3"
  },
  "language_info": {
   "codemirror_mode": {
    "name": "ipython",
    "version": 3
   },
   "file_extension": ".py",
   "mimetype": "text/x-python",
   "name": "python",
   "nbconvert_exporter": "python",
   "pygments_lexer": "ipython3",
   "version": "3.8.8"
  }
 },
 "nbformat": 4,
 "nbformat_minor": 5
}
