{
 "cells": [
  {
   "cell_type": "markdown",
   "id": "fb8c557a",
   "metadata": {},
   "source": [
    "#### Let's Do Some Magic\n",
    "\n",
    "You have a magic box that doubles the count of items you put, in every day.\n",
    "The given program takes the initial count of the items and the number of days as input.\n",
    "\n",
    "items = int(input())\n",
    "\n",
    "days = int(input())\n",
    "\n",
    "Task:\n",
    "Write a program to calculate and output items' count on the last day.\n",
    "\n",
    "Sample Input:\n",
    "\n",
    "3\n",
    "\n",
    "2\n",
    "\n",
    "Sample Output:\n",
    "12\n",
    "\n",
    "Explanation:\n",
    "\n",
    "Day 1: 6 (3*2)\n",
    "\n",
    "Day 2: 12 (6*2)"
   ]
  },
  {
   "cell_type": "code",
   "execution_count": 1,
   "id": "7691633c",
   "metadata": {},
   "outputs": [
    {
     "name": "stdout",
     "output_type": "stream",
     "text": [
      "3\n",
      "2\n",
      "12\n"
     ]
    }
   ],
   "source": [
    "items = int(input())\n",
    "days = int(input())\n",
    "\n",
    "\n",
    "days_in = 1 \n",
    "\n",
    "while days_in <= days:\n",
    "    items *= 2\n",
    "    days_in += 1\n",
    "\n",
    "print(items)"
   ]
  }
 ],
 "metadata": {
  "kernelspec": {
   "display_name": "Python 3",
   "language": "python",
   "name": "python3"
  },
  "language_info": {
   "codemirror_mode": {
    "name": "ipython",
    "version": 3
   },
   "file_extension": ".py",
   "mimetype": "text/x-python",
   "name": "python",
   "nbconvert_exporter": "python",
   "pygments_lexer": "ipython3",
   "version": "3.8.8"
  }
 },
 "nbformat": 4,
 "nbformat_minor": 5
}
