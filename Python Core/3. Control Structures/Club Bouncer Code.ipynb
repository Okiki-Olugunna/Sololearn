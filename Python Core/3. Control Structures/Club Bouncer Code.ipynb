{
 "cells": [
  {
   "cell_type": "markdown",
   "id": "eabb7544",
   "metadata": {},
   "source": [
    "#### Club Bouncer Code\n",
    "\n",
    "Write a program to control entrance to a club.\n",
    "Only people who are 18 or older are allowed to enter the club.\n",
    "The given program takes the age and the name of the person who tries to enter. Complete the program to output \"Welcome\" followed by the name of the person if they are allowed to enter the club, and \"Sorry\" if they are younger than the allowed age.\n",
    "\n",
    "Sample Input:\n",
    "\n",
    "24\n",
    "\n",
    "James\n",
    "\n",
    "Sample Output:\n",
    "Welcome James"
   ]
  },
  {
   "cell_type": "code",
   "execution_count": null,
   "id": "7b6e2d56",
   "metadata": {},
   "outputs": [],
   "source": [
    "age = int(input())\n",
    "\n",
    "name = input()\n",
    "\n",
    "\n",
    "if (age >= 18):\n",
    "    print(f\"Welcome {name}\")\n",
    "else:\n",
    "    print(\"Sorry\")"
   ]
  }
 ],
 "metadata": {
  "kernelspec": {
   "display_name": "Python 3",
   "language": "python",
   "name": "python3"
  },
  "language_info": {
   "codemirror_mode": {
    "name": "ipython",
    "version": 3
   },
   "file_extension": ".py",
   "mimetype": "text/x-python",
   "name": "python",
   "nbconvert_exporter": "python",
   "pygments_lexer": "ipython3",
   "version": "3.8.8"
  }
 },
 "nbformat": 4,
 "nbformat_minor": 5
}
