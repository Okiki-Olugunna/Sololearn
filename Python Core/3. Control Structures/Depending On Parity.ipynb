{
 "cells": [
  {
   "cell_type": "markdown",
   "id": "09efc77f",
   "metadata": {},
   "source": [
    "#### Depending On Parity\n",
    "\n",
    "Write a program that takes a number as input and\n",
    "- returns its double, if the number is even\n",
    "- returns its triple, if the number is odd\n",
    "- returns 0, if number is 0\n",
    "\n",
    "Sample Input:\n",
    "1\n",
    "\n",
    "Sample Output:\n",
    "3"
   ]
  },
  {
   "cell_type": "code",
   "execution_count": null,
   "id": "3d84dc63",
   "metadata": {},
   "outputs": [],
   "source": [
    "number = int(input())\n",
    "\n",
    "if (number % 2) == 0:\n",
    "    print(number*2)\n",
    "elif (number == 0):\n",
    "    print(0)\n",
    "else:\n",
    "    print(number*3)"
   ]
  },
  {
   "cell_type": "code",
   "execution_count": null,
   "id": "3be8dfe3",
   "metadata": {},
   "outputs": [],
   "source": [
    "# could also do it like this:\n",
    "\n",
    "number = int(input())\n",
    "\n",
    "if (number % 2) == 0:\n",
    "    print(number*2)\n",
    "elif (number == 0):\n",
    "    print(0)\n",
    "elif (number % 2) != 0:\n",
    "    print(number*3)"
   ]
  }
 ],
 "metadata": {
  "kernelspec": {
   "display_name": "Python 3",
   "language": "python",
   "name": "python3"
  },
  "language_info": {
   "codemirror_mode": {
    "name": "ipython",
    "version": 3
   },
   "file_extension": ".py",
   "mimetype": "text/x-python",
   "name": "python",
   "nbconvert_exporter": "python",
   "pygments_lexer": "ipython3",
   "version": "3.8.8"
  }
 },
 "nbformat": 4,
 "nbformat_minor": 5
}
