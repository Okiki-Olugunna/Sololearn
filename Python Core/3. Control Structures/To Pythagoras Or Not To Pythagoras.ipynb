{
 "cells": [
  {
   "cell_type": "markdown",
   "id": "847d0d88",
   "metadata": {},
   "source": [
    "#### To Pythagoras Or Not To Pythagoras\n",
    "\n",
    "Pythagoras theorem says: In a right-angled triangle, the square of the hypotenuse side is equal to the sum of squares of the other two sides.\n",
    "\n",
    "Write a program that takes lengths of triangle sides as inputs, and output whether our triangle is right-angled or not. If the triangle is right-angled, the program should output \"Right-angled\", and \"Not right-angled\" if it's not.\n",
    "\n",
    "Sample Input:\n",
    "\n",
    "3\n",
    "\n",
    "4\n",
    "\n",
    "7\n",
    "\n",
    "Sample Output:\n",
    "Not right-angled\n",
    "\n",
    "Take the 3rd input as the longest side, which will represent the hypotenuse if the triangle is right-angled."
   ]
  },
  {
   "cell_type": "code",
   "execution_count": null,
   "id": "5dfb7b24",
   "metadata": {},
   "outputs": [],
   "source": [
    "side1 = int(input())\n",
    "side2 = int(input())\n",
    "side3 = int(input())\n",
    "\n",
    "if (side3**2) == (side1**2 + side2**2):\n",
    "    print(\"Right-angled\")\n",
    "else:\n",
    "    print(\"Not right-angled\")"
   ]
  }
 ],
 "metadata": {
  "kernelspec": {
   "display_name": "Python 3",
   "language": "python",
   "name": "python3"
  },
  "language_info": {
   "codemirror_mode": {
    "name": "ipython",
    "version": 3
   },
   "file_extension": ".py",
   "mimetype": "text/x-python",
   "name": "python",
   "nbconvert_exporter": "python",
   "pygments_lexer": "ipython3",
   "version": "3.8.8"
  }
 },
 "nbformat": 4,
 "nbformat_minor": 5
}
