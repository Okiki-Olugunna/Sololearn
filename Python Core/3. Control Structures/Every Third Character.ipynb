{
 "cells": [
  {
   "cell_type": "markdown",
   "id": "3e8fd747",
   "metadata": {},
   "source": [
    "#### Every Third Character\n",
    "\n",
    "Remember, strings can be indexed like lists.\n",
    "\n",
    "Write a program that takes an input string and outputs the 3rd character of the string.\n",
    "\n",
    "Sample Input:\n",
    "Hello\n",
    "\n",
    "Sample Output:\n",
    "l"
   ]
  },
  {
   "cell_type": "code",
   "execution_count": 1,
   "id": "34eadcd2",
   "metadata": {},
   "outputs": [
    {
     "name": "stdout",
     "output_type": "stream",
     "text": [
      "Hello\n",
      "l\n"
     ]
    }
   ],
   "source": [
    "random_string = input()\n",
    "\n",
    "print(random_string[2])"
   ]
  }
 ],
 "metadata": {
  "kernelspec": {
   "display_name": "Python 3",
   "language": "python",
   "name": "python3"
  },
  "language_info": {
   "codemirror_mode": {
    "name": "ipython",
    "version": 3
   },
   "file_extension": ".py",
   "mimetype": "text/x-python",
   "name": "python",
   "nbconvert_exporter": "python",
   "pygments_lexer": "ipython3",
   "version": "3.8.8"
  }
 },
 "nbformat": 4,
 "nbformat_minor": 5
}
