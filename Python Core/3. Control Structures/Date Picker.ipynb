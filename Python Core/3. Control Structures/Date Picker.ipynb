{
 "cells": [
  {
   "cell_type": "markdown",
   "id": "ebe4ccbe",
   "metadata": {},
   "source": [
    "#### Date Picker\n",
    "\n",
    "You are making a date picker for a website and need to output all the years in a given period.\n",
    "Write a program that takes two integers as input and outputs the range of numbers between the two inputs as a list.\n",
    "The output sequence should start with the first input number and end with the second input number, without including it.\n",
    "\n",
    "Sample Input:\n",
    "\n",
    "2005\n",
    "\n",
    "2011\n",
    "\n",
    "Sample Output:\n",
    "[2005, 2006, 2007, 2008, 2009, 2010]"
   ]
  },
  {
   "cell_type": "code",
   "execution_count": 1,
   "id": "0e37477d",
   "metadata": {},
   "outputs": [
    {
     "name": "stdout",
     "output_type": "stream",
     "text": [
      "2005\n",
      "2011\n",
      "[2005, 2006, 2007, 2008, 2009, 2010]\n"
     ]
    }
   ],
   "source": [
    "number1 = int(input())\n",
    "number2 = int(input())\n",
    "\n",
    "x = list(range(number1, number2))\n",
    "\n",
    "print(x)"
   ]
  }
 ],
 "metadata": {
  "kernelspec": {
   "display_name": "Python 3",
   "language": "python",
   "name": "python3"
  },
  "language_info": {
   "codemirror_mode": {
    "name": "ipython",
    "version": 3
   },
   "file_extension": ".py",
   "mimetype": "text/x-python",
   "name": "python",
   "nbconvert_exporter": "python",
   "pygments_lexer": "ipython3",
   "version": "3.8.8"
  }
 },
 "nbformat": 4,
 "nbformat_minor": 5
}
