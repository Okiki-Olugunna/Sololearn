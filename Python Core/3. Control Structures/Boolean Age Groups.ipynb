{
 "cells": [
  {
   "cell_type": "markdown",
   "id": "136589b7",
   "metadata": {},
   "source": [
    "#### Boolean Age Groups\n",
    "\n",
    "Given the age of a person as input, you need to output their age group.\n",
    "Here are the age groups you need to handle:\n",
    "- Child: 0 to 11\n",
    "- Teen: 12 to 17\n",
    "- Adult: 18 to 64\n",
    "- Senior: 65+\n",
    "\n",
    "Sample Input:\n",
    "42\n",
    "\n",
    "Sample Output:\n",
    "Adult"
   ]
  },
  {
   "cell_type": "code",
   "execution_count": null,
   "id": "8ca33b1e",
   "metadata": {},
   "outputs": [],
   "source": [
    "age = int(input())\n",
    "\n",
    "if (0 <= age <= 11):\n",
    "    print(\"Child\")\n",
    "elif (12 <= age <= 17):\n",
    "    print(\"Teen\")\n",
    "elif (18 <= age <= 64):\n",
    "    print(\"Adult\")\n",
    "else:\n",
    "    print(\"Senior\")"
   ]
  }
 ],
 "metadata": {
  "kernelspec": {
   "display_name": "Python 3",
   "language": "python",
   "name": "python3"
  },
  "language_info": {
   "codemirror_mode": {
    "name": "ipython",
    "version": 3
   },
   "file_extension": ".py",
   "mimetype": "text/x-python",
   "name": "python",
   "nbconvert_exporter": "python",
   "pygments_lexer": "ipython3",
   "version": "3.8.8"
  }
 },
 "nbformat": 4,
 "nbformat_minor": 5
}
