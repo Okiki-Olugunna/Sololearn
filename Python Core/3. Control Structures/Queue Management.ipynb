{
 "cells": [
  {
   "cell_type": "markdown",
   "id": "c7702d81",
   "metadata": {},
   "source": [
    "#### Queue Management\n",
    "\n",
    "You are working on a queue management program.\n",
    "The queue is represented by a list.\n",
    "\n",
    "queue = [\"John\", \"James\", \"Amy\"]\n",
    "\n",
    "Write a program to take an input, add it to the end of the queue and output the resulting list."
   ]
  },
  {
   "cell_type": "code",
   "execution_count": 3,
   "id": "95fabd74",
   "metadata": {},
   "outputs": [
    {
     "name": "stdout",
     "output_type": "stream",
     "text": [
      "Matthew\n",
      "['John', 'James', 'Amy', 'Matthew']\n"
     ]
    }
   ],
   "source": [
    "queue = [\"John\", \"James\", \"Amy\"]\n",
    "\n",
    "\n",
    "name = queue.append(input())\n",
    "\n",
    "print(queue)"
   ]
  }
 ],
 "metadata": {
  "kernelspec": {
   "display_name": "Python 3",
   "language": "python",
   "name": "python3"
  },
  "language_info": {
   "codemirror_mode": {
    "name": "ipython",
    "version": 3
   },
   "file_extension": ".py",
   "mimetype": "text/x-python",
   "name": "python",
   "nbconvert_exporter": "python",
   "pygments_lexer": "ipython3",
   "version": "3.8.8"
  }
 },
 "nbformat": 4,
 "nbformat_minor": 5
}
