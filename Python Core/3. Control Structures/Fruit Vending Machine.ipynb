{
 "cells": [
  {
   "cell_type": "markdown",
   "id": "01262497",
   "metadata": {},
   "source": [
    "#### Fruit Vending Machine\n",
    "\n",
    "Imagine a vending machine that sells fruits. Each fruit has its own number, starting from 0.\n",
    "Write a program for the vending machine, which will take n number as input from the customer and return the fruit with that index.\n",
    "\n",
    "fruits = [\"apple\", \"cherry\", \"banana\", \"kiwi\", \"lemon\", \"pear\", \"peach\", \"avocado\"] \n",
    "\n",
    "If n< 0 or n>7 (the index of last fruit), the program outputs \"Wrong number\".\n",
    "\n",
    "Sample Input:\n",
    "2\n",
    "\n",
    "Sample Output:\n",
    "banana"
   ]
  },
  {
   "cell_type": "code",
   "execution_count": null,
   "id": "f81c3b5b",
   "metadata": {},
   "outputs": [],
   "source": [
    "fruits = [\"apple\", \"cherry\", \"banana\", \"kiwi\", \"lemon\", \"pear\", \"peach\", \"avocado\"]\n",
    "\n",
    "number = int(input())\n",
    "\n",
    "if 0 <= number <= 7:\n",
    "    print(fruits[number])\n",
    "else:\n",
    "    print(\"Wrong number\")"
   ]
  }
 ],
 "metadata": {
  "kernelspec": {
   "display_name": "Python 3",
   "language": "python",
   "name": "python3"
  },
  "language_info": {
   "codemirror_mode": {
    "name": "ipython",
    "version": 3
   },
   "file_extension": ".py",
   "mimetype": "text/x-python",
   "name": "python",
   "nbconvert_exporter": "python",
   "pygments_lexer": "ipython3",
   "version": "3.8.8"
  }
 },
 "nbformat": 4,
 "nbformat_minor": 5
}
