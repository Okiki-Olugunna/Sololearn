{
 "cells": [
  {
   "cell_type": "markdown",
   "id": "f46cf4cb",
   "metadata": {},
   "source": [
    "#### Store is Closed\n",
    "\n",
    "You need to create a program that outputs whether a store is Open or Closed, based on the hour and the day of the week.\n",
    "The store is open on all days from 10 to 21, except Saturday and Sunday.\n",
    "You need to take the hour and the day of the week as input.\n",
    "The day of the week is represented as an integer (1 for Monday, 2 for Tuesday, etc.)\n",
    "\n",
    "Sample Input:\n",
    "\n",
    "15\n",
    "\n",
    "4\n",
    "\n",
    "Sample Output:\n",
    "Open"
   ]
  },
  {
   "cell_type": "code",
   "execution_count": null,
   "id": "6d06472e",
   "metadata": {},
   "outputs": [],
   "source": [
    "hour = int(input())\n",
    "day = int(input())\n",
    "\n",
    "if (10 <= hour <= 21) and (1 <= day <= 5):\n",
    "    print(\"Open\")\n",
    "else:\n",
    "    print(\"Closed\")"
   ]
  }
 ],
 "metadata": {
  "kernelspec": {
   "display_name": "Python 3",
   "language": "python",
   "name": "python3"
  },
  "language_info": {
   "codemirror_mode": {
    "name": "ipython",
    "version": 3
   },
   "file_extension": ".py",
   "mimetype": "text/x-python",
   "name": "python",
   "nbconvert_exporter": "python",
   "pygments_lexer": "ipython3",
   "version": "3.8.8"
  }
 },
 "nbformat": 4,
 "nbformat_minor": 5
}
