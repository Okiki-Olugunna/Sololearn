{
 "cells": [
  {
   "cell_type": "markdown",
   "id": "86bc4127",
   "metadata": {},
   "source": [
    "#### Build A Search Engine\n",
    "\n",
    "You are building a search system and need to search for the character 'a' in an input string.\n",
    "Output \"Match\" if 'a' is found in the string, and \"No match\" if it's not.\n",
    "\n",
    "Sample Input:\n",
    "great\n",
    "\n",
    "Sample Output:\n",
    "Match"
   ]
  },
  {
   "cell_type": "code",
   "execution_count": 2,
   "id": "342d1d2c",
   "metadata": {},
   "outputs": [
    {
     "name": "stdout",
     "output_type": "stream",
     "text": [
      "great\n",
      "Match\n"
     ]
    }
   ],
   "source": [
    "search = input()\n",
    "\n",
    "if \"a\" in search:\n",
    "    print(\"Match\")\n",
    "else:\n",
    "    print(\"No match\")"
   ]
  }
 ],
 "metadata": {
  "kernelspec": {
   "display_name": "Python 3",
   "language": "python",
   "name": "python3"
  },
  "language_info": {
   "codemirror_mode": {
    "name": "ipython",
    "version": 3
   },
   "file_extension": ".py",
   "mimetype": "text/x-python",
   "name": "python",
   "nbconvert_exporter": "python",
   "pygments_lexer": "ipython3",
   "version": "3.8.8"
  }
 },
 "nbformat": 4,
 "nbformat_minor": 5
}
