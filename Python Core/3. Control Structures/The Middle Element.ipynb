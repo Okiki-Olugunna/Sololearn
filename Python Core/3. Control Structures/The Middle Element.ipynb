{
 "cells": [
  {
   "cell_type": "markdown",
   "id": "f84b01e1",
   "metadata": {},
   "source": [
    "#### The Middle Element\n",
    "\n",
    "Given a list, calculate the middle element's index.\n",
    "\n",
    "items = [2, 4, 6, 8, 10, 12, 14]"
   ]
  },
  {
   "cell_type": "code",
   "execution_count": 1,
   "id": "a9614690",
   "metadata": {},
   "outputs": [
    {
     "name": "stdout",
     "output_type": "stream",
     "text": [
      "3\n"
     ]
    }
   ],
   "source": [
    "items = [2, 4, 6, 8, 10, 12, 14]\n",
    "\n",
    "calc = (len(items) // 2)\n",
    "\n",
    "print(calc)"
   ]
  }
 ],
 "metadata": {
  "kernelspec": {
   "display_name": "Python 3",
   "language": "python",
   "name": "python3"
  },
  "language_info": {
   "codemirror_mode": {
    "name": "ipython",
    "version": 3
   },
   "file_extension": ".py",
   "mimetype": "text/x-python",
   "name": "python",
   "nbconvert_exporter": "python",
   "pygments_lexer": "ipython3",
   "version": "3.8.8"
  }
 },
 "nbformat": 4,
 "nbformat_minor": 5
}
