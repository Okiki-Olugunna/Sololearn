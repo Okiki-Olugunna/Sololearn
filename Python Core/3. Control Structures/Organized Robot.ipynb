{
 "cells": [
  {
   "cell_type": "markdown",
   "id": "25abcb0e",
   "metadata": {},
   "source": [
    "#### Organized Robot\n",
    "\n",
    "Write a program that will be used in a robot that categorizes items by their color.\n",
    "Each color corresponds to a box with a specific number.\n",
    "\n",
    "For simplicity, our program will handle 3 colors:\n",
    "- red goes to box #1\n",
    "- green goes to box #2\n",
    "- black goes to box #3\n",
    "\n",
    "Your program needs to take a color as input and output the corresponding box number.\n",
    "\n",
    "Sample Input:\n",
    "green\n",
    "\n",
    "Sample Output:\n",
    "2"
   ]
  },
  {
   "cell_type": "code",
   "execution_count": null,
   "id": "7ec7cca6",
   "metadata": {},
   "outputs": [],
   "source": [
    "colour = input()\n",
    "\n",
    "if colour == \"red\":\n",
    "    print(\"1\")\n",
    "elif colour == \"green\":\n",
    "    print(\"2\")\n",
    "elif colour == \"black\":\n",
    "    print(\"3\")"
   ]
  }
 ],
 "metadata": {
  "kernelspec": {
   "display_name": "Python 3",
   "language": "python",
   "name": "python3"
  },
  "language_info": {
   "codemirror_mode": {
    "name": "ipython",
    "version": 3
   },
   "file_extension": ".py",
   "mimetype": "text/x-python",
   "name": "python",
   "nbconvert_exporter": "python",
   "pygments_lexer": "ipython3",
   "version": "3.8.8"
  }
 },
 "nbformat": 4,
 "nbformat_minor": 5
}
