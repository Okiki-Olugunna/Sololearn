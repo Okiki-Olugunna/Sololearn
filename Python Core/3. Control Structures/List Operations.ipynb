{
 "cells": [
  {
   "cell_type": "markdown",
   "id": "5a7c06e3",
   "metadata": {},
   "source": [
    "#### List Operations\n",
    "\n",
    "You are given a list of items.\n",
    "\n",
    "items = [1, 2, 3, 4, 5, 6, 7, 8, 9, 10]\n",
    "\n",
    "Write a program that takes a num number as input, reassigns the element with that index in the list to the value \"x\" and outputs the updated list.\n",
    "\n",
    "For example, for a given list [1, 2, 3, 4, 5] and input 3, the output should be:\n",
    "[1, 2, 3, \"x\", 5]"
   ]
  },
  {
   "cell_type": "code",
   "execution_count": 1,
   "id": "94948159",
   "metadata": {},
   "outputs": [
    {
     "name": "stdout",
     "output_type": "stream",
     "text": [
      "3\n",
      "[1, 2, 3, 'x', 5, 6, 7, 8, 9, 10]\n"
     ]
    }
   ],
   "source": [
    "items = [1, 2, 3, 4, 5, 6, 7, 8, 9, 10]\n",
    "\n",
    "\n",
    "num = int(input())\n",
    "\n",
    "items[num] = \"x\"\n",
    "\n",
    "print(items)"
   ]
  }
 ],
 "metadata": {
  "kernelspec": {
   "display_name": "Python 3",
   "language": "python",
   "name": "python3"
  },
  "language_info": {
   "codemirror_mode": {
    "name": "ipython",
    "version": 3
   },
   "file_extension": ".py",
   "mimetype": "text/x-python",
   "name": "python",
   "nbconvert_exporter": "python",
   "pygments_lexer": "ipython3",
   "version": "3.8.8"
  }
 },
 "nbformat": 4,
 "nbformat_minor": 5
}
