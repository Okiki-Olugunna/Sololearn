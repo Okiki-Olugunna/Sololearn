{
 "cells": [
  {
   "cell_type": "markdown",
   "id": "7a20751f",
   "metadata": {},
   "source": [
    "#### At The Boiling Point!\n",
    "\n",
    "Write a program that checks if the water is boiling.\n",
    "Take the integer temperature in Celsius as input and output \"Boiling\" if the temperature is above or equal to 100.\n",
    "\n",
    "Sample Input:\n",
    "105\n",
    "\n",
    "Sample Output:\n",
    "Boiling\n",
    "\n",
    "Do not output anything if the water is not boiling."
   ]
  },
  {
   "cell_type": "code",
   "execution_count": null,
   "id": "83478624",
   "metadata": {},
   "outputs": [],
   "source": [
    "temperature = int(input())\n",
    "\n",
    "if (temperature >= 100):\n",
    "    print(\"Boiling\")"
   ]
  }
 ],
 "metadata": {
  "kernelspec": {
   "display_name": "Python 3",
   "language": "python",
   "name": "python3"
  },
  "language_info": {
   "codemirror_mode": {
    "name": "ipython",
    "version": 3
   },
   "file_extension": ".py",
   "mimetype": "text/x-python",
   "name": "python",
   "nbconvert_exporter": "python",
   "pygments_lexer": "ipython3",
   "version": "3.8.8"
  }
 },
 "nbformat": 4,
 "nbformat_minor": 5
}
