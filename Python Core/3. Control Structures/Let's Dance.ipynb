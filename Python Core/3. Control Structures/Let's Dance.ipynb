{
 "cells": [
  {
   "cell_type": "markdown",
   "id": "b9b85faf",
   "metadata": {},
   "source": [
    "#### Let's Dance\n",
    "\n",
    "You have been asked to coordinate the dance school competition․\n",
    "The terms of the competition are as follows:\n",
    "\n",
    "- if the score is 80 or more the participant gets a certificate\n",
    "\n",
    "- if the score is 90 or more the participant gets a certificate and also is admitted to the school.\n",
    "\n",
    "The given program takes the score as input.\n",
    "\n",
    "Task:\n",
    "Complete the program that will output \"certificate\" if the score is greater than or equal to 80. On top of that, the program should also output \"admitted\" if the score is greater than or equal to 90.\n",
    "\n",
    "Sample Input:\n",
    "91\n",
    "\n",
    "Sample Output:\n",
    "\n",
    "certificate\n",
    "\n",
    "admitted\n",
    "\n",
    "Hint:\n",
    "Use nested if statements to handle all the conditions."
   ]
  },
  {
   "cell_type": "code",
   "execution_count": null,
   "id": "ec2da5d2",
   "metadata": {},
   "outputs": [],
   "source": [
    "score = int(input())\n",
    "\n",
    "if score >= 80:\n",
    "    print(\"certificate\")\n",
    "    if score >= 90:\n",
    "        print(\"admitted\")"
   ]
  }
 ],
 "metadata": {
  "kernelspec": {
   "display_name": "Python 3",
   "language": "python",
   "name": "python3"
  },
  "language_info": {
   "codemirror_mode": {
    "name": "ipython",
    "version": 3
   },
   "file_extension": ".py",
   "mimetype": "text/x-python",
   "name": "python",
   "nbconvert_exporter": "python",
   "pygments_lexer": "ipython3",
   "version": "3.8.8"
  }
 },
 "nbformat": 4,
 "nbformat_minor": 5
}
