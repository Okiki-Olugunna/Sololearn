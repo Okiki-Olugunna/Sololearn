{
 "cells": [
  {
   "cell_type": "markdown",
   "id": "af28fa77",
   "metadata": {},
   "source": [
    "#### Bingo\n",
    "\n",
    "Given a list of numbers, \n",
    "\n",
    "items = [42, 88, 721, 12, 43, 22, 908]\n",
    "\n",
    "output \"bingo\" if it contains the input number.\n",
    "\n",
    "Do not output anything if the number is not found"
   ]
  },
  {
   "cell_type": "code",
   "execution_count": 1,
   "id": "901fee3a",
   "metadata": {},
   "outputs": [
    {
     "name": "stdout",
     "output_type": "stream",
     "text": [
      "12\n",
      "bingo\n"
     ]
    }
   ],
   "source": [
    "items = [42, 88, 721, 12, 43, 22, 908]\n",
    "\n",
    "\n",
    "num = int(input())\n",
    "\n",
    "if num in items:\n",
    "    print(\"bingo\")"
   ]
  }
 ],
 "metadata": {
  "kernelspec": {
   "display_name": "Python 3",
   "language": "python",
   "name": "python3"
  },
  "language_info": {
   "codemirror_mode": {
    "name": "ipython",
    "version": 3
   },
   "file_extension": ".py",
   "mimetype": "text/x-python",
   "name": "python",
   "nbconvert_exporter": "python",
   "pygments_lexer": "ipython3",
   "version": "3.8.8"
  }
 },
 "nbformat": 4,
 "nbformat_minor": 5
}
