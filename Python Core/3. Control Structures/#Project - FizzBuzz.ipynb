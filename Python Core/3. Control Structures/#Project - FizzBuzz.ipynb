{
 "cells": [
  {
   "cell_type": "markdown",
   "id": "a5044daf",
   "metadata": {},
   "source": [
    "### Project - FizzBuzz\n",
    "\n",
    "FizzBuzz is a well known programming assignment, asked during interviews.\n",
    "\n",
    "The given code solves the FizzBuzz problem and uses the words \"Solo\" and \"Learn\" instead of \"Fizz\" and \"Buzz\".\n",
    "\n",
    "- n = int(input())\n",
    "\n",
    "- for x in range(1, n):\n",
    "    if x % 3 == 0 and x % 5 == 0:\n",
    "        print(\"SoloLearn\")\n",
    "    elif x % 3 == 0:\n",
    "        print(\"Solo\")\n",
    "    elif x % 5 == 0:\n",
    "        print(\"Learn\")\n",
    "    else:\n",
    "        print(x)\n",
    "\n",
    "It takes an input n and outputs the numbers from 1 to n.\n",
    "\n",
    "For each multiple of 3, print \"Solo\" instead of the number.\n",
    "\n",
    "For each multiple of 5, prints \"Learn\" instead of the number.\n",
    "\n",
    "For numbers which are multiples of both 3 and 5, output \"SoloLearn\".\n",
    "\n",
    "You need to change the code to skip the even numbers, so that the logic only applies to odd numbers in the range."
   ]
  },
  {
   "cell_type": "code",
   "execution_count": null,
   "id": "7fa89ecb",
   "metadata": {},
   "outputs": [],
   "source": [
    "n = int(input())\n",
    "\n",
    "for x in range(1, n):\n",
    "    if (x % 2) == 0:\n",
    "        continue\n",
    "    elif x % 3 == 0 and x % 5 == 0:\n",
    "        print(\"SoloLearn\")\n",
    "    elif x % 3 == 0:\n",
    "        print(\"Solo\")\n",
    "    elif x % 5 == 0:\n",
    "        print(\"Learn\")\n",
    "    else:\n",
    "        print(x)"
   ]
  }
 ],
 "metadata": {
  "kernelspec": {
   "display_name": "Python 3",
   "language": "python",
   "name": "python3"
  },
  "language_info": {
   "codemirror_mode": {
    "name": "ipython",
    "version": 3
   },
   "file_extension": ".py",
   "mimetype": "text/x-python",
   "name": "python",
   "nbconvert_exporter": "python",
   "pygments_lexer": "ipython3",
   "version": "3.8.8"
  }
 },
 "nbformat": 4,
 "nbformat_minor": 5
}
