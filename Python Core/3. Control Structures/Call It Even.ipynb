{
 "cells": [
  {
   "cell_type": "markdown",
   "id": "6144c0be",
   "metadata": {},
   "source": [
    "#### Call It Even\n",
    "\n",
    "You are given a program that outputs all the numbers from 0 to 10.\n",
    "\n",
    "x = 0\n",
    "while x <= 10:\n",
    "    print(x)\n",
    "    x += 1\n",
    "\n",
    "\n",
    "Change the code to make it output only the even numbers."
   ]
  },
  {
   "cell_type": "code",
   "execution_count": 1,
   "id": "06834c6c",
   "metadata": {},
   "outputs": [
    {
     "name": "stdout",
     "output_type": "stream",
     "text": [
      "0\n",
      "2\n",
      "4\n",
      "6\n",
      "8\n",
      "10\n"
     ]
    }
   ],
   "source": [
    "x = 0\n",
    "\n",
    "while x <= 10:\n",
    "    if x % 2 == 0:\n",
    "        print(x)\n",
    "    x += 1"
   ]
  }
 ],
 "metadata": {
  "kernelspec": {
   "display_name": "Python 3",
   "language": "python",
   "name": "python3"
  },
  "language_info": {
   "codemirror_mode": {
    "name": "ipython",
    "version": 3
   },
   "file_extension": ".py",
   "mimetype": "text/x-python",
   "name": "python",
   "nbconvert_exporter": "python",
   "pygments_lexer": "ipython3",
   "version": "3.8.8"
  }
 },
 "nbformat": 4,
 "nbformat_minor": 5
}
