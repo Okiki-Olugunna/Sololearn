{
 "cells": [
  {
   "cell_type": "markdown",
   "id": "c52b1905",
   "metadata": {},
   "source": [
    "#### Fun With Exponents\n",
    "\n",
    "The provided code stores the value 7 in a variable, and outputs it.\n",
    "\n",
    "x = 7\n",
    "\n",
    "print(x)\n",
    "\n",
    "Task:\n",
    "Change the code to output the value of the variable raised to the power of 3."
   ]
  },
  {
   "cell_type": "code",
   "execution_count": 1,
   "id": "4ceb5acd",
   "metadata": {},
   "outputs": [
    {
     "name": "stdout",
     "output_type": "stream",
     "text": [
      "343\n"
     ]
    }
   ],
   "source": [
    "x = 7\n",
    "\n",
    "print(x**3)"
   ]
  }
 ],
 "metadata": {
  "kernelspec": {
   "display_name": "Python 3",
   "language": "python",
   "name": "python3"
  },
  "language_info": {
   "codemirror_mode": {
    "name": "ipython",
    "version": 3
   },
   "file_extension": ".py",
   "mimetype": "text/x-python",
   "name": "python",
   "nbconvert_exporter": "python",
   "pygments_lexer": "ipython3",
   "version": "3.8.8"
  }
 },
 "nbformat": 4,
 "nbformat_minor": 5
}
