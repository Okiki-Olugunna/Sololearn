{
 "cells": [
  {
   "cell_type": "markdown",
   "id": "44b2644d",
   "metadata": {},
   "source": [
    "#### Product Of Integers\n",
    "\n",
    "Somebody wrote code to take two integer inputs and output their product.\n",
    "However, the code results in an error.\n",
    "\n",
    "print( input() * input() )\n",
    "\n",
    "Task:\n",
    "Fix the code to output the product of two integer inputs.\n",
    "\n",
    "Sample Input:\n",
    "\n",
    "3\n",
    "\n",
    "6\n",
    "\n",
    "Sample Output:\n",
    "18"
   ]
  },
  {
   "cell_type": "code",
   "execution_count": null,
   "id": "3f3a909d",
   "metadata": {},
   "outputs": [],
   "source": [
    "x = int(input())\n",
    "y = int(input())\n",
    "\n",
    "print(x * y)"
   ]
  }
 ],
 "metadata": {
  "kernelspec": {
   "display_name": "Python 3",
   "language": "python",
   "name": "python3"
  },
  "language_info": {
   "codemirror_mode": {
    "name": "ipython",
    "version": 3
   },
   "file_extension": ".py",
   "mimetype": "text/x-python",
   "name": "python",
   "nbconvert_exporter": "python",
   "pygments_lexer": "ipython3",
   "version": "3.8.8"
  }
 },
 "nbformat": 4,
 "nbformat_minor": 5
}
