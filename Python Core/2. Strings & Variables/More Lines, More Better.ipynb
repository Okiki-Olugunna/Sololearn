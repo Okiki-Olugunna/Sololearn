{
 "cells": [
  {
   "cell_type": "markdown",
   "id": "76ce07e3",
   "metadata": {},
   "source": [
    "#### More Lines, More Better\n",
    "\n",
    "Working with strings is an essential programming skill.\n",
    "\n",
    "print('A B C D')\n",
    "\n",
    "Task:\n",
    "The given code outputs A B C D (each letter is separated by a space).\n",
    "Modify the code to output each letter on a separate line, resulting in the following output:\n",
    "\n",
    "A\n",
    "\n",
    "B\n",
    "\n",
    "C\n",
    "\n",
    "D\n",
    "\n",
    "You can use either \\n or three quotes to add new lines inside the given string."
   ]
  },
  {
   "cell_type": "code",
   "execution_count": 1,
   "id": "4ee3c223",
   "metadata": {},
   "outputs": [
    {
     "name": "stdout",
     "output_type": "stream",
     "text": [
      "A\n",
      "B\n",
      "C\n",
      "D\n"
     ]
    }
   ],
   "source": [
    "print(\"\"\"A\n",
    "B\n",
    "C\n",
    "D\"\"\")"
   ]
  }
 ],
 "metadata": {
  "kernelspec": {
   "display_name": "Python 3",
   "language": "python",
   "name": "python3"
  },
  "language_info": {
   "codemirror_mode": {
    "name": "ipython",
    "version": 3
   },
   "file_extension": ".py",
   "mimetype": "text/x-python",
   "name": "python",
   "nbconvert_exporter": "python",
   "pygments_lexer": "ipython3",
   "version": "3.8.8"
  }
 },
 "nbformat": 4,
 "nbformat_minor": 5
}
