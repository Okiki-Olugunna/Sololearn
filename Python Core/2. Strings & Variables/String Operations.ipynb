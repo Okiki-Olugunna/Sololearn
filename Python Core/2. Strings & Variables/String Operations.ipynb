{
 "cells": [
  {
   "cell_type": "markdown",
   "id": "f16abed0",
   "metadata": {},
   "source": [
    "#### String Operations\n",
    "\n",
    "The provided code outputs the string \"ni\".\n",
    "\n",
    "print(\"ni\")\n",
    "\n",
    "Task:\n",
    "Modify the code to output the string repeated 3 times, and add an ! (exclamation mark) at the end of the output."
   ]
  },
  {
   "cell_type": "code",
   "execution_count": 3,
   "id": "b6e425b4",
   "metadata": {},
   "outputs": [
    {
     "name": "stdout",
     "output_type": "stream",
     "text": [
      "ninini!\n"
     ]
    }
   ],
   "source": [
    "print((\"ni\" * 3) + \"!\")"
   ]
  }
 ],
 "metadata": {
  "kernelspec": {
   "display_name": "Python 3",
   "language": "python",
   "name": "python3"
  },
  "language_info": {
   "codemirror_mode": {
    "name": "ipython",
    "version": 3
   },
   "file_extension": ".py",
   "mimetype": "text/x-python",
   "name": "python",
   "nbconvert_exporter": "python",
   "pygments_lexer": "ipython3",
   "version": "3.8.8"
  }
 },
 "nbformat": 4,
 "nbformat_minor": 5
}
