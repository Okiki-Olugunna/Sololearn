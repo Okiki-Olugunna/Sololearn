{
 "cells": [
  {
   "cell_type": "markdown",
   "id": "d902c231",
   "metadata": {},
   "source": [
    "#### Find The Bug!\n",
    "\n",
    "Strings are enclosed in double or single quotes.\n",
    "In order to include double quotes in double quoted strings, or single quotes in single quoted strings, you need to escape them.\n",
    "\n",
    "Task:\n",
    "Fix the given Python code to generate the expected output.\n",
    "\n",
    "print('I'm learning Python!')\n",
    "\n",
    "print(\"A number enclosed in double quotes: \"42\"\")"
   ]
  },
  {
   "cell_type": "code",
   "execution_count": 1,
   "id": "b82a1a3a",
   "metadata": {},
   "outputs": [
    {
     "name": "stdout",
     "output_type": "stream",
     "text": [
      "I'm learning Python!\n",
      "A number enclosed in double quotes: \"42\"\n"
     ]
    }
   ],
   "source": [
    "print('I\\'m learning Python!')\n",
    "print(\"A number enclosed in double quotes: \\\"42\\\"\")"
   ]
  }
 ],
 "metadata": {
  "kernelspec": {
   "display_name": "Python 3",
   "language": "python",
   "name": "python3"
  },
  "language_info": {
   "codemirror_mode": {
    "name": "ipython",
    "version": 3
   },
   "file_extension": ".py",
   "mimetype": "text/x-python",
   "name": "python",
   "nbconvert_exporter": "python",
   "pygments_lexer": "ipython3",
   "version": "3.8.8"
  }
 },
 "nbformat": 4,
 "nbformat_minor": 5
}
