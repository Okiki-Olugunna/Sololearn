{
 "cells": [
  {
   "cell_type": "markdown",
   "id": "3ff0bd96",
   "metadata": {},
   "source": [
    "### Project - Simple Calculator\n",
    "\n",
    "Write a program to take two integers as input and output their sum.\n",
    "\n",
    "Sample Input:\n",
    "\n",
    "2\n",
    "\n",
    "8\n",
    "\n",
    "Sample Output:\n",
    "10"
   ]
  },
  {
   "cell_type": "code",
   "execution_count": null,
   "id": "aeb665a5",
   "metadata": {},
   "outputs": [],
   "source": [
    "x = int(input())\n",
    "y = int(input())\n",
    "\n",
    "print(x + y)"
   ]
  }
 ],
 "metadata": {
  "kernelspec": {
   "display_name": "Python 3",
   "language": "python",
   "name": "python3"
  },
  "language_info": {
   "codemirror_mode": {
    "name": "ipython",
    "version": 3
   },
   "file_extension": ".py",
   "mimetype": "text/x-python",
   "name": "python",
   "nbconvert_exporter": "python",
   "pygments_lexer": "ipython3",
   "version": "3.8.8"
  }
 },
 "nbformat": 4,
 "nbformat_minor": 5
}
