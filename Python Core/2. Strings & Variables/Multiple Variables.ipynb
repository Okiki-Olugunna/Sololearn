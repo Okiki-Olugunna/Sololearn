{
 "cells": [
  {
   "cell_type": "markdown",
   "id": "67672044",
   "metadata": {},
   "source": [
    "#### Multiple Variables\n",
    "\n",
    "You can use multiple variables to take multiple inputs for your program.\n",
    "For example, the following code takes two inputs and stores them in the variables x and y:\n",
    "\n",
    "x = input()\n",
    "\n",
    "y = input()\n",
    "\n",
    "Task:\n",
    "Given the code above, output the input x repeated y times.\n",
    "\n",
    "Sample Input:\n",
    "\n",
    "awesome\n",
    "\n",
    "3\n",
    "\n",
    "Sample Output:\n",
    "awesomeawesomeawesome"
   ]
  },
  {
   "cell_type": "code",
   "execution_count": 1,
   "id": "95923fa8",
   "metadata": {},
   "outputs": [
    {
     "name": "stdout",
     "output_type": "stream",
     "text": [
      "awesome\n",
      "3\n",
      "awesomeawesomeawesome\n"
     ]
    }
   ],
   "source": [
    "x = input()\n",
    "\n",
    "y = int(input())\n",
    "\n",
    "print(x * y)"
   ]
  }
 ],
 "metadata": {
  "kernelspec": {
   "display_name": "Python 3",
   "language": "python",
   "name": "python3"
  },
  "language_info": {
   "codemirror_mode": {
    "name": "ipython",
    "version": 3
   },
   "file_extension": ".py",
   "mimetype": "text/x-python",
   "name": "python",
   "nbconvert_exporter": "python",
   "pygments_lexer": "ipython3",
   "version": "3.8.8"
  }
 },
 "nbformat": 4,
 "nbformat_minor": 5
}
