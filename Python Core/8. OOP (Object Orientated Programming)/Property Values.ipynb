{
 "cells": [
  {
   "cell_type": "markdown",
   "id": "93fc5884",
   "metadata": {},
   "source": [
    "#### Property Values\n",
    "\n",
    "Complete the provided code by creating an isEven property, which returns True if the value is even, and False if the value is odd.\n",
    "\n",
    "class Number:\n",
    "    def __init__(self, num):\n",
    "        self.value = num\n",
    "\n",
    "x = Number(int(input()))\n",
    "print(x.isEven) "
   ]
  },
  {
   "cell_type": "code",
   "execution_count": 1,
   "id": "5786c136",
   "metadata": {},
   "outputs": [
    {
     "name": "stdout",
     "output_type": "stream",
     "text": [
      "8\n",
      "True\n"
     ]
    }
   ],
   "source": [
    "class Number:\n",
    "    def __init__(self, num):\n",
    "        self.value = num\n",
    "        \n",
    "    @property\n",
    "    def isEven(self):\n",
    "        if self.value % 2 == 0:\n",
    "            return True\n",
    "        else:\n",
    "            return False\n",
    "   \n",
    " \n",
    "x = Number(int(input()))\n",
    "print(x.isEven)"
   ]
  }
 ],
 "metadata": {
  "kernelspec": {
   "display_name": "Python 3",
   "language": "python",
   "name": "python3"
  },
  "language_info": {
   "codemirror_mode": {
    "name": "ipython",
    "version": 3
   },
   "file_extension": ".py",
   "mimetype": "text/x-python",
   "name": "python",
   "nbconvert_exporter": "python",
   "pygments_lexer": "ipython3",
   "version": "3.8.8"
  }
 },
 "nbformat": 4,
 "nbformat_minor": 5
}
