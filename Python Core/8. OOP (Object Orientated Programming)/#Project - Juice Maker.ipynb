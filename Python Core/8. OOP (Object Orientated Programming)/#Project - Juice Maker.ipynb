{
 "cells": [
  {
   "cell_type": "markdown",
   "id": "19a646fc",
   "metadata": {},
   "source": [
    "### Project - Juice Maker\n",
    "\n",
    "You are given a Juice class, which has name and capacity properties.\n",
    "\n",
    "class Juice:\n",
    "    def __init__(self, name, capacity):\n",
    "        self.name = name\n",
    "        self.capacity = capacity\n",
    "\n",
    "    def __str__(self):\n",
    "        return (self.name + ' ('+str(self.capacity)+'L)')\n",
    "\n",
    "\n",
    "a = Juice('Orange', 1.5)\n",
    "b = Juice('Apple', 2.0)\n",
    "\n",
    "result = a + b\n",
    "print(result)\n",
    "\n",
    "You need to complete the code to enable and adding of two Juice objects, resulting in a new Juice object with the combined capacity and names of the two juices being added.\n",
    "\n",
    "For example, if you add an Orange juice with 1.0 capacity and an Apple juice with 2.5 capacity, the resulting juice should have:\n",
    "\n",
    "name: Orange&Apple capacity: 3.5\n",
    "\n",
    "And an output of: Orange&Apple (3.5L)\n",
    "\n",
    "The names have been combined using an & symbol."
   ]
  },
  {
   "cell_type": "code",
   "execution_count": 1,
   "id": "d4032f01",
   "metadata": {},
   "outputs": [
    {
     "name": "stdout",
     "output_type": "stream",
     "text": [
      "Orange&Apple (3.5L)\n"
     ]
    }
   ],
   "source": [
    "class Juice:\n",
    "    def __init__(self, name, capacity):\n",
    "        self.name = name\n",
    "        self.capacity = capacity\n",
    "\n",
    "    def __str__(self):\n",
    "        return (self.name + ' ('+str(self.capacity)+'L)')\n",
    "\n",
    "    def __add__(self, other):\n",
    "        return Juice(self.name + \"&\" + other.name, self.capacity + other.capacity)\n",
    "\n",
    "a = Juice('Orange', 1.5)\n",
    "b = Juice('Apple', 2.0)\n",
    "\n",
    "result = a + b\n",
    "print(result)"
   ]
  }
 ],
 "metadata": {
  "kernelspec": {
   "display_name": "Python 3",
   "language": "python",
   "name": "python3"
  },
  "language_info": {
   "codemirror_mode": {
    "name": "ipython",
    "version": 3
   },
   "file_extension": ".py",
   "mimetype": "text/x-python",
   "name": "python",
   "nbconvert_exporter": "python",
   "pygments_lexer": "ipython3",
   "version": "3.8.8"
  }
 },
 "nbformat": 4,
 "nbformat_minor": 5
}
