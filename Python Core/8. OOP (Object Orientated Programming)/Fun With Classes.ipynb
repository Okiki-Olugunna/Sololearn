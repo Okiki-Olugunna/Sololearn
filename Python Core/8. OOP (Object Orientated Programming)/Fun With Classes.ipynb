{
 "cells": [
  {
   "cell_type": "markdown",
   "id": "fc58e052",
   "metadata": {},
   "source": [
    "#### Fun With Classes\n",
    "\n",
    "Complete the provided code to inherit the Car class from the Vehicle class\n",
    "\n",
    "class Vehicle: \n",
    "    def horn(self):\n",
    "        print(\"Beep!\")\n",
    "\n",
    "class Car:\n",
    "    def __init__(self, name, color):\n",
    "        self.name = name\n",
    "        self.color = color\n",
    "\n",
    "obj = Car(\"BMW\", \"red\")\n",
    "\n",
    "\n",
    "Create a Car object and call its horn() method, which is inherited from the Vehicle superclass."
   ]
  },
  {
   "cell_type": "code",
   "execution_count": 1,
   "id": "e09bf9ff",
   "metadata": {},
   "outputs": [
    {
     "name": "stdout",
     "output_type": "stream",
     "text": [
      "Beep!\n"
     ]
    }
   ],
   "source": [
    "class Vehicle: \n",
    "    def horn(self):\n",
    "        print(\"Beep!\")\n",
    "\n",
    "class Car(Vehicle):\n",
    "    def __init__(self, name, color):\n",
    "        self.name = name\n",
    "        self.color = color\n",
    "\n",
    "\n",
    "obj = Car(\"BMW\", \"red\")\n",
    "\n",
    "obj.horn()"
   ]
  }
 ],
 "metadata": {
  "kernelspec": {
   "display_name": "Python 3",
   "language": "python",
   "name": "python3"
  },
  "language_info": {
   "codemirror_mode": {
    "name": "ipython",
    "version": 3
   },
   "file_extension": ".py",
   "mimetype": "text/x-python",
   "name": "python",
   "nbconvert_exporter": "python",
   "pygments_lexer": "ipython3",
   "version": "3.8.8"
  }
 },
 "nbformat": 4,
 "nbformat_minor": 5
}
