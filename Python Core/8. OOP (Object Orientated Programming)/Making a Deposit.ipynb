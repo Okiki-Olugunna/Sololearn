{
 "cells": [
  {
   "cell_type": "markdown",
   "id": "44df55ae",
   "metadata": {},
   "source": [
    "#### Making a Deposit\n",
    "\n",
    "\n",
    "You are given a BankAccount class and need to add a deposit() method to it, which adds the given amount to the private balance property.\n",
    "\n",
    "class BankAccount:\n",
    "    def __init__(self, balance):\n",
    "        self._balance = balance\n",
    "\n",
    "    def __repr__(self):\n",
    "         return \"Account Balance: {}\".format(self._balance)\n",
    "    \n",
    "    def deposit(self, amount):\n",
    "\n",
    "acc = BankAccount(0)\n",
    "acc.deposit(int(input()))\n",
    "print(acc)\n",
    "\n",
    "The code should declare a BankAccount object with an initial balance of 0, take a number from user input, add it to the balance using the deposit() method, and output the object.\n",
    "\n",
    "Complete the required deposit() method so the code works as expected and produces the required output."
   ]
  },
  {
   "cell_type": "code",
   "execution_count": 1,
   "id": "c2671bd2",
   "metadata": {},
   "outputs": [
    {
     "name": "stdout",
     "output_type": "stream",
     "text": [
      "100\n",
      "Account Balance: 100\n"
     ]
    }
   ],
   "source": [
    "class BankAccount: \n",
    "    def __init__(self, balance): \n",
    "        self._balance = balance \n",
    "        \n",
    "    def __repr__(self): \n",
    "        return \"Account Balance: {}\".format(self._balance) \n",
    "    \n",
    "    def deposit(self, amount): \n",
    "        self._balance+=amount \n",
    "\n",
    "acc = BankAccount(0) \n",
    "acc.deposit(int(input())) \n",
    "print(BankAccount(acc._balance))"
   ]
  }
 ],
 "metadata": {
  "kernelspec": {
   "display_name": "Python 3",
   "language": "python",
   "name": "python3"
  },
  "language_info": {
   "codemirror_mode": {
    "name": "ipython",
    "version": 3
   },
   "file_extension": ".py",
   "mimetype": "text/x-python",
   "name": "python",
   "nbconvert_exporter": "python",
   "pygments_lexer": "ipython3",
   "version": "3.8.8"
  }
 },
 "nbformat": 4,
 "nbformat_minor": 5
}
