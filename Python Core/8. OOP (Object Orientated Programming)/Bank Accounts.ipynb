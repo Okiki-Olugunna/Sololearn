{
 "cells": [
  {
   "cell_type": "markdown",
   "id": "9412c601",
   "metadata": {},
   "source": [
    "#### Bank Accounts\n",
    "\n",
    "The __add__ method allows for the definition of a custom behavior for the + operator in our class.\n",
    "\n",
    "The provided code is trying to add together two BankAccount objects, which should result in a new object with the sum of the balances of the given accounts.\n",
    "\n",
    "class BankAccount:\n",
    "    def __init__(self, balance):\n",
    "        self.balance = balance\n",
    "        \n",
    "\n",
    "a = BankAccount(1024)\n",
    "b = BankAccount(42)\n",
    "\n",
    "result = a + b\n",
    "print(result.balance)\n",
    "\n",
    "Fix the code to make it work as expected and output the resulting account balance."
   ]
  },
  {
   "cell_type": "code",
   "execution_count": 1,
   "id": "9546ef80",
   "metadata": {},
   "outputs": [
    {
     "name": "stdout",
     "output_type": "stream",
     "text": [
      "1066\n"
     ]
    }
   ],
   "source": [
    "class BankAccount:\n",
    "    def __init__(self, balance):\n",
    "        self.balance = balance\n",
    "    \n",
    "    def __add__(self, other):\n",
    "        return BankAccount(self.balance + other.balance)\n",
    "\n",
    "\n",
    "a = BankAccount(1024)\n",
    "b = BankAccount(42)\n",
    "\n",
    "result = a + b\n",
    "print(result.balance)"
   ]
  }
 ],
 "metadata": {
  "kernelspec": {
   "display_name": "Python 3",
   "language": "python",
   "name": "python3"
  },
  "language_info": {
   "codemirror_mode": {
    "name": "ipython",
    "version": 3
   },
   "file_extension": ".py",
   "mimetype": "text/x-python",
   "name": "python",
   "nbconvert_exporter": "python",
   "pygments_lexer": "ipython3",
   "version": "3.8.8"
  }
 },
 "nbformat": 4,
 "nbformat_minor": 5
}
