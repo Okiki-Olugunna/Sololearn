{
 "cells": [
  {
   "cell_type": "markdown",
   "id": "7cda50b0",
   "metadata": {},
   "source": [
    "#### Student Class\n",
    "\n",
    "The provided code defines a Student class, creates a Student object, and calls its greet() method.\n",
    "However, the code has an error and does not run.\n",
    "\n",
    "class Student:\n",
    "    def __init__(self, name):\n",
    "        self.name = name\n",
    "    \n",
    "    def greet():\n",
    "        print(self.name+\" says hi\")\n",
    "\n",
    "obj = Student(\"John\")\n",
    "obj.greet()\n",
    "\n",
    "Fix the code to produce the expected output."
   ]
  },
  {
   "cell_type": "code",
   "execution_count": 1,
   "id": "7de356d1",
   "metadata": {},
   "outputs": [
    {
     "name": "stdout",
     "output_type": "stream",
     "text": [
      "John says hi\n"
     ]
    }
   ],
   "source": [
    "class Student:\n",
    "    def __init__(self, name):\n",
    "        self.name = name\n",
    "    \n",
    "    def greet(self):\n",
    "        print(self.name+\" says hi\")\n",
    "\n",
    "obj = Student(\"John\")\n",
    "obj.greet()"
   ]
  }
 ],
 "metadata": {
  "kernelspec": {
   "display_name": "Python 3",
   "language": "python",
   "name": "python3"
  },
  "language_info": {
   "codemirror_mode": {
    "name": "ipython",
    "version": 3
   },
   "file_extension": ".py",
   "mimetype": "text/x-python",
   "name": "python",
   "nbconvert_exporter": "python",
   "pygments_lexer": "ipython3",
   "version": "3.8.8"
  }
 },
 "nbformat": 4,
 "nbformat_minor": 5
}
