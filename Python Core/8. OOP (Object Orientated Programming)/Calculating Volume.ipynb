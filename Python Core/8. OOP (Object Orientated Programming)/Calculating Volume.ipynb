{
 "cells": [
  {
   "cell_type": "markdown",
   "id": "ffd42991",
   "metadata": {},
   "source": [
    "#### Calculating Volume\n",
    "\n",
    "Given a Rectangle class, create a program to take two integer numbers as input, assign them as the width and height of a Rectangle object and output the volume of the resulting rectangle.\n",
    "\n",
    "class Rectangle:\n",
    "def __init__(self, width, height):\n",
    "     self.w = width\n",
    "      self.h = height  \n",
    "\n",
    "Sample Input:\n",
    "\n",
    "5\n",
    "\n",
    "4\n",
    "\n",
    "Sample Output:\n",
    "20\n",
    "\n",
    "The volume of a rectangle is equal to its height multiplied by its width."
   ]
  },
  {
   "cell_type": "code",
   "execution_count": 1,
   "id": "8d7561fd",
   "metadata": {},
   "outputs": [
    {
     "name": "stdout",
     "output_type": "stream",
     "text": [
      "5\n",
      "4\n",
      "20\n"
     ]
    }
   ],
   "source": [
    "class Rectangle:\n",
    "    def __init__(self, width, height):\n",
    "        self.w = width\n",
    "        self.h = height\n",
    "    \n",
    "    def vol(self):\n",
    "        print(self.w * self.h)\n",
    "       \n",
    "        \n",
    "w = int(input())\n",
    "h = int(input())\n",
    "\n",
    "obj = Rectangle(w, h)\n",
    "\n",
    "obj.vol()"
   ]
  }
 ],
 "metadata": {
  "kernelspec": {
   "display_name": "Python 3",
   "language": "python",
   "name": "python3"
  },
  "language_info": {
   "codemirror_mode": {
    "name": "ipython",
    "version": 3
   },
   "file_extension": ".py",
   "mimetype": "text/x-python",
   "name": "python",
   "nbconvert_exporter": "python",
   "pygments_lexer": "ipython3",
   "version": "3.8.8"
  }
 },
 "nbformat": 4,
 "nbformat_minor": 5
}
