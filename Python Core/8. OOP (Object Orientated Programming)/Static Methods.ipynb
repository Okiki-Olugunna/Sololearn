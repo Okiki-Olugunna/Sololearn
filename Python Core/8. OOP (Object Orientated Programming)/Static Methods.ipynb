{
 "cells": [
  {
   "cell_type": "markdown",
   "id": "e907a988",
   "metadata": {},
   "source": [
    "#### Static Methods\n",
    "\n",
    "Complete the given code to define a static add() method for the Calculator class, which returns the sum of its parameters.\n",
    "\n",
    "class Calculator:\n",
    "    #your code goes here\n",
    "\n",
    "        \n",
    "n1 = int(input())\n",
    "n2 = int(input())\n",
    "\n",
    "print(Calculator.add(n1, n2))\n",
    "\n",
    "The code takes two numbers as input, and should return their sum using the Calculator class's add() method.\n",
    "Static methods can be called without creating an object of the class."
   ]
  },
  {
   "cell_type": "code",
   "execution_count": 1,
   "id": "2d92e850",
   "metadata": {},
   "outputs": [
    {
     "name": "stdout",
     "output_type": "stream",
     "text": [
      "42\n",
      "128\n",
      "170\n"
     ]
    }
   ],
   "source": [
    "class Calculator:\n",
    "    @staticmethod\n",
    "    def add(x, y):\n",
    "        return x+y\n",
    "        \n",
    "\n",
    "n1 = int(input())\n",
    "n2 = int(input())\n",
    "\n",
    "print(Calculator.add(n1, n2))"
   ]
  }
 ],
 "metadata": {
  "kernelspec": {
   "display_name": "Python 3",
   "language": "python",
   "name": "python3"
  },
  "language_info": {
   "codemirror_mode": {
    "name": "ipython",
    "version": 3
   },
   "file_extension": ".py",
   "mimetype": "text/x-python",
   "name": "python",
   "nbconvert_exporter": "python",
   "pygments_lexer": "ipython3",
   "version": "3.8.8"
  }
 },
 "nbformat": 4,
 "nbformat_minor": 5
}
