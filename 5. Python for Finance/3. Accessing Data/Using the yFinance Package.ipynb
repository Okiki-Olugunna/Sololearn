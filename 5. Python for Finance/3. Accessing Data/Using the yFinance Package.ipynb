{
 "cells": [
  {
   "cell_type": "markdown",
   "id": "605ee4ac",
   "metadata": {},
   "source": [
    "### Using a Package - yFinance"
   ]
  },
  {
   "cell_type": "code",
   "execution_count": 21,
   "id": "803fb672",
   "metadata": {},
   "outputs": [],
   "source": [
    "import yfinance as yf\n",
    "import matplotlib.pyplot as plt"
   ]
  },
  {
   "cell_type": "code",
   "execution_count": 7,
   "id": "cd9733b7",
   "metadata": {},
   "outputs": [],
   "source": [
    "data = yf.Ticker(\"TSLA\")"
   ]
  },
  {
   "cell_type": "code",
   "execution_count": 8,
   "id": "7fb0a53a",
   "metadata": {},
   "outputs": [
    {
     "name": "stdout",
     "output_type": "stream",
     "text": [
      "0.07403\n",
      "0.15641\n"
     ]
    }
   ],
   "source": [
    "print(data.info['profitMargins'])\n",
    "print(data.info['returnOnEquity'])"
   ]
  },
  {
   "cell_type": "code",
   "execution_count": 24,
   "id": "8113d53e",
   "metadata": {},
   "outputs": [
    {
     "data": {
      "text/plain": [
       "<AxesSubplot:xlabel='Year'>"
      ]
     },
     "execution_count": 24,
     "metadata": {},
     "output_type": "execute_result"
    },
    {
     "data": {
      "image/png": "[encoded data removed]",
      "text/plain": [
       "<Figure size 432x288 with 1 Axes>"
      ]
     },
     "metadata": {
      "needs_background": "light"
     },
     "output_type": "display_data"
    }
   ],
   "source": [
    "x = data.earnings\n",
    "x.plot(kind=\"bar\")"
   ]
  },
  {
   "cell_type": "code",
   "execution_count": 25,
   "id": "9af24be6",
   "metadata": {},
   "outputs": [
    {
     "name": "stdout",
     "output_type": "stream",
     "text": [
      "        0                                      1\n",
      "0  19.96%        % of Shares Held by All Insider\n",
      "1  42.45%       % of Shares Held by Institutions\n",
      "2  53.03%        % of Float Held by Institutions\n",
      "3    2840  Number of Institutions Holding Shares\n"
     ]
    }
   ],
   "source": [
    "print(data.major_holders)"
   ]
  },
  {
   "cell_type": "code",
   "execution_count": 26,
   "id": "f5e0f62d",
   "metadata": {},
   "outputs": [
    {
     "name": "stdout",
     "output_type": "stream",
     "text": [
      "                              Holder    Shares Date Reported   % Out  \\\n",
      "0         Vanguard Group, Inc. (The)  61992012    2021-09-29  0.0617   \n",
      "1                     Blackrock Inc.  52829488    2021-09-29  0.0526   \n",
      "2            Capital World Investors  37427314    2021-09-29  0.0373   \n",
      "3           State Street Corporation  31230141    2021-09-29  0.0311   \n",
      "4        Baillie Gifford and Company  13853124    2021-09-29  0.0138   \n",
      "5      Geode Capital Management, LLC  13169939    2021-09-29  0.0131   \n",
      "6            Jennison Associates LLC  10630339    2021-09-29  0.0106   \n",
      "7                           FMR, LLC   9921292    2021-09-29  0.0099   \n",
      "8         Northern Trust Corporation   8634516    2021-09-29  0.0086   \n",
      "9  Norges Bank Investment Management   7790070    2020-12-30  0.0078   \n",
      "\n",
      "         Value  \n",
      "0  48073565465  \n",
      "1  40968211354  \n",
      "2  29024133460  \n",
      "3  24218349742  \n",
      "4  10742820599  \n",
      "5  10213024295  \n",
      "6   8243615287  \n",
      "7   7693763520  \n",
      "8   6695894467  \n",
      "9   5497218696  \n"
     ]
    }
   ],
   "source": [
    "print(data.institutional_holders)"
   ]
  },
  {
   "cell_type": "code",
   "execution_count": 29,
   "id": "6a45158c",
   "metadata": {},
   "outputs": [
    {
     "name": "stdout",
     "output_type": "stream",
     "text": [
      "                          Holder    Shares Date Reported   % Out        Value\n",
      "0     Vanguard Group, Inc. (The)  61992012    2021-09-29  0.0617  48073565465\n",
      "1                 Blackrock Inc.  52829488    2021-09-29  0.0526  40968211354\n",
      "2        Capital World Investors  37427314    2021-09-29  0.0373  29024133460\n",
      "3       State Street Corporation  31230141    2021-09-29  0.0311  24218349742\n",
      "4    Baillie Gifford and Company  13853124    2021-09-29  0.0138  10742820599\n",
      "5  Geode Capital Management, LLC  13169939    2021-09-29  0.0131  10213024295\n",
      "6        Jennison Associates LLC  10630339    2021-09-29  0.0106   8243615287\n"
     ]
    }
   ],
   "source": [
    "a = data.institutional_holders\n",
    "print(a[a['Shares']>10000000])"
   ]
  },
  {
   "cell_type": "code",
   "execution_count": 30,
   "id": "657c361b",
   "metadata": {},
   "outputs": [
    {
     "name": "stdout",
     "output_type": "stream",
     "text": [
      "                                    Firm        To Grade From Grade Action\n",
      "Date                                                                      \n",
      "2021-06-14 13:55:22    Canaccord Genuity             Buy              main\n",
      "2021-06-29 11:29:11                  UBS         Neutral              main\n",
      "2021-07-07 14:52:52            JP Morgan     Underweight              main\n",
      "2021-07-27 10:54:46               Mizuho             Buy              main\n",
      "2021-07-27 11:48:23          Wells Fargo    Equal-Weight              main\n",
      "2021-07-27 11:51:22          RBC Capital  Sector Perform              main\n",
      "2021-07-27 13:38:59        Goldman Sachs             Buy              main\n",
      "2021-07-27 14:27:49    Canaccord Genuity             Buy              main\n",
      "2021-07-29 10:14:50              DZ Bank             Buy       Sell     up\n",
      "2021-08-02 15:55:02       KGI Securities      Outperform              init\n",
      "2021-08-09 09:17:02            Jefferies             Buy       Hold     up\n",
      "2021-09-23 12:18:35      Tudor Pickering            Sell              init\n",
      "2021-10-04 10:44:57          RBC Capital  Sector Perform              main\n",
      "2021-10-08 13:28:13    Canaccord Genuity             Buy              main\n",
      "2021-10-14 10:45:16             Barclays     Underweight              main\n",
      "2021-10-15 13:26:02            Jefferies             Buy              main\n",
      "2021-10-21 10:21:59              Wedbush      Outperform              main\n",
      "2021-10-21 11:06:18        Credit Suisse         Neutral              main\n",
      "2021-10-21 11:07:12          Wells Fargo    Equal-Weight              main\n",
      "2021-10-21 11:58:01          RBC Capital  Sector Perform              main\n",
      "2021-10-21 12:42:25               Mizuho             Buy              main\n",
      "2021-10-21 14:23:55         Roth Capital         Neutral              main\n",
      "2021-10-21 14:33:04    Canaccord Genuity             Buy              main\n",
      "2021-10-27 12:15:11        Goldman Sachs             Buy              main\n",
      "2021-10-28 14:15:36        Piper Sandler      Overweight              main\n",
      "2021-11-08 12:27:21            Jefferies             Buy              main\n",
      "2021-11-19 11:55:04              Wedbush      Outperform              main\n",
      "2021-12-07 13:03:07                  UBS         Neutral              main\n",
      "2021-12-08 14:08:29  New Street Research             Buy              main\n",
      "2021-12-20 12:18:04           Guggenheim         Neutral              init\n",
      "2021-12-28 12:49:51       Argus Research             Buy              main\n",
      "2021-12-31 15:16:10        Deutsche Bank             Buy              main\n",
      "2022-01-03 14:17:31          RBC Capital  Sector Perform              main\n",
      "2022-01-03 16:33:41            JP Morgan     Underweight              main\n",
      "2022-01-03 17:54:18        Deutsche Bank             Buy              main\n",
      "2022-01-05 14:03:16               Mizuho             Buy              main\n",
      "2022-01-05 14:17:09             Barclays     Underweight              main\n"
     ]
    }
   ],
   "source": [
    "b = data.recommendations\n",
    "b = b[b.index > '2021-06-01']\n",
    "print(b)"
   ]
  },
  {
   "cell_type": "code",
   "execution_count": 9,
   "id": "8da37b77",
   "metadata": {},
   "outputs": [
    {
     "data": {
      "text/plain": [
       "dict_keys(['zip', 'sector', 'fullTimeEmployees', 'longBusinessSummary', 'city', 'phone', 'state', 'country', 'companyOfficers', 'website', 'maxAge', 'address1', 'industry', 'ebitdaMargins', 'profitMargins', 'grossMargins', 'operatingCashflow', 'revenueGrowth', 'operatingMargins', 'ebitda', 'targetLowPrice', 'recommendationKey', 'grossProfits', 'freeCashflow', 'targetMedianPrice', 'currentPrice', 'earningsGrowth', 'currentRatio', 'returnOnAssets', 'numberOfAnalystOpinions', 'targetMeanPrice', 'debtToEquity', 'returnOnEquity', 'targetHighPrice', 'totalCash', 'totalDebt', 'totalRevenue', 'totalCashPerShare', 'financialCurrency', 'revenuePerShare', 'quickRatio', 'recommendationMean', 'exchange', 'shortName', 'longName', 'exchangeTimezoneName', 'exchangeTimezoneShortName', 'isEsgPopulated', 'gmtOffSetMilliseconds', 'quoteType', 'symbol', 'messageBoardId', 'market', 'annualHoldingsTurnover', 'enterpriseToRevenue', 'beta3Year', 'enterpriseToEbitda', '52WeekChange', 'morningStarRiskRating', 'forwardEps', 'revenueQuarterlyGrowth', 'sharesOutstanding', 'fundInceptionDate', 'annualReportExpenseRatio', 'totalAssets', 'bookValue', 'sharesShort', 'sharesPercentSharesOut', 'fundFamily', 'lastFiscalYearEnd', 'heldPercentInstitutions', 'netIncomeToCommon', 'trailingEps', 'lastDividendValue', 'SandP52WeekChange', 'priceToBook', 'heldPercentInsiders', 'nextFiscalYearEnd', 'yield', 'mostRecentQuarter', 'shortRatio', 'sharesShortPreviousMonthDate', 'floatShares', 'beta', 'enterpriseValue', 'priceHint', 'threeYearAverageReturn', 'lastSplitDate', 'lastSplitFactor', 'legalType', 'lastDividendDate', 'morningStarOverallRating', 'earningsQuarterlyGrowth', 'priceToSalesTrailing12Months', 'dateShortInterest', 'pegRatio', 'ytdReturn', 'forwardPE', 'lastCapGain', 'shortPercentOfFloat', 'sharesShortPriorMonth', 'impliedSharesOutstanding', 'category', 'fiveYearAverageReturn', 'previousClose', 'regularMarketOpen', 'twoHundredDayAverage', 'trailingAnnualDividendYield', 'payoutRatio', 'volume24Hr', 'regularMarketDayHigh', 'navPrice', 'averageDailyVolume10Day', 'regularMarketPreviousClose', 'fiftyDayAverage', 'trailingAnnualDividendRate', 'open', 'toCurrency', 'averageVolume10days', 'expireDate', 'algorithm', 'dividendRate', 'exDividendDate', 'circulatingSupply', 'startDate', 'regularMarketDayLow', 'currency', 'trailingPE', 'regularMarketVolume', 'lastMarket', 'maxSupply', 'openInterest', 'marketCap', 'volumeAllCurrencies', 'strikePrice', 'averageVolume', 'dayLow', 'ask', 'askSize', 'volume', 'fiftyTwoWeekHigh', 'fromCurrency', 'fiveYearAvgDividendYield', 'fiftyTwoWeekLow', 'bid', 'tradeable', 'dividendYield', 'bidSize', 'dayHigh', 'regularMarketPrice', 'preMarketPrice', 'logo_url', 'trailingPegRatio'])"
      ]
     },
     "execution_count": 9,
     "metadata": {},
     "output_type": "execute_result"
    }
   ],
   "source": [
    "data.info.keys()"
   ]
  },
  {
   "cell_type": "code",
   "execution_count": 13,
   "id": "44d518c2",
   "metadata": {},
   "outputs": [
    {
     "name": "stdout",
     "output_type": "stream",
     "text": [
      "0.25832\n"
     ]
    }
   ],
   "source": [
    "amazon = yf.Ticker(\"AMZN\")\n",
    "print(amazon.info['returnOnEquity'])"
   ]
  },
  {
   "cell_type": "code",
   "execution_count": 16,
   "id": "94d26a9d",
   "metadata": {},
   "outputs": [
    {
     "name": "stdout",
     "output_type": "stream",
     "text": [
      "Dividends: Series([], Name: Dividends, dtype: int64)\n"
     ]
    }
   ],
   "source": [
    "#dividends\n",
    "print(f\"Dividends: {amazon.dividends}\")"
   ]
  },
  {
   "cell_type": "code",
   "execution_count": 17,
   "id": "d16ea59e",
   "metadata": {},
   "outputs": [
    {
     "name": "stdout",
     "output_type": "stream",
     "text": [
      "Splits: Date\n",
      "1998-06-02    2.0\n",
      "1999-01-05    3.0\n",
      "1999-09-02    2.0\n",
      "Name: Stock Splits, dtype: float64\n"
     ]
    }
   ],
   "source": [
    "#splits\n",
    "print(f\"Splits: {amazon.splits}\")"
   ]
  },
  {
   "cell_type": "code",
   "execution_count": 18,
   "id": "29dbcf00",
   "metadata": {},
   "outputs": [
    {
     "name": "stdout",
     "output_type": "stream",
     "text": [
      "Balance Sheet:                              2020-12-31    2019-12-31    2018-12-31  \\\n",
      "Intangible Assets          4.981000e+09  4.049000e+09  4.110000e+09   \n",
      "Capital Surplus            4.286500e+10  3.365800e+10  2.679100e+10   \n",
      "Total Liab                 2.277910e+11  1.631880e+11  1.190990e+11   \n",
      "Total Stockholder Equity   9.340400e+10  6.206000e+10  4.354900e+10   \n",
      "Other Current Liab         1.526700e+10  1.220200e+10  9.959000e+09   \n",
      "Total Assets               3.211950e+11  2.252480e+11  1.626480e+11   \n",
      "Common Stock               5.000000e+06  5.000000e+06  5.000000e+06   \n",
      "Other Current Assets       2.330000e+08  2.760000e+08  4.180000e+08   \n",
      "Retained Earnings          5.255100e+10  3.122000e+10  1.962500e+10   \n",
      "Other Liab                 1.701700e+10  1.217100e+10  1.756300e+10   \n",
      "Good Will                  1.501700e+10  1.475400e+10  1.454800e+10   \n",
      "Treasury Stock            -2.017000e+09 -2.823000e+09 -2.872000e+09   \n",
      "Other Assets               1.209700e+10  1.009600e+10  6.370000e+09   \n",
      "Cash                       4.212200e+10  3.609200e+10  3.175000e+10   \n",
      "Total Current Liabilities  1.263850e+11  8.781200e+10  6.839100e+10   \n",
      "Short Long Term Debt       1.155000e+09  1.305000e+09  1.371000e+09   \n",
      "Other Stockholder Equity  -1.800000e+08 -9.860000e+08 -1.035000e+09   \n",
      "Property Plant Equipment   1.506670e+11  9.784600e+10  6.179700e+10   \n",
      "Total Current Assets       1.327330e+11  9.633400e+10  7.510100e+10   \n",
      "Long Term Investments      5.700000e+09  2.169000e+09  7.220000e+08   \n",
      "Net Tangible Assets        7.340600e+10  4.325700e+10  2.489100e+10   \n",
      "Short Term Investments     4.227400e+10  1.892900e+10  9.500000e+09   \n",
      "Net Receivables            2.430900e+10  2.054000e+10  1.625900e+10   \n",
      "Long Term Debt             3.181600e+10  2.341400e+10  2.349500e+10   \n",
      "Inventory                  2.379500e+10  2.049700e+10  1.717400e+10   \n",
      "Accounts Payable           7.253900e+10  4.718300e+10  3.819200e+10   \n",
      "\n",
      "                             2017-12-31  \n",
      "Intangible Assets          3.371000e+09  \n",
      "Capital Surplus            2.138900e+10  \n",
      "Total Liab                 1.036010e+11  \n",
      "Total Stockholder Equity   2.770900e+10  \n",
      "Other Current Liab         8.565000e+09  \n",
      "Total Assets               1.313100e+11  \n",
      "Common Stock               5.000000e+06  \n",
      "Other Current Assets       1.329000e+09  \n",
      "Retained Earnings          8.636000e+09  \n",
      "Other Liab                 7.792000e+09  \n",
      "Good Will                  1.335000e+10  \n",
      "Treasury Stock            -2.321000e+09  \n",
      "Other Assets               5.085000e+09  \n",
      "Cash                       2.052200e+10  \n",
      "Total Current Liabilities  5.788300e+10  \n",
      "Short Long Term Debt       1.000000e+08  \n",
      "Other Stockholder Equity  -4.840000e+08  \n",
      "Property Plant Equipment   4.886600e+10  \n",
      "Total Current Assets       6.019700e+10  \n",
      "Long Term Investments      4.410000e+08  \n",
      "Net Tangible Assets        1.098800e+10  \n",
      "Short Term Investments     1.046400e+10  \n",
      "Net Receivables            1.183500e+10  \n",
      "Long Term Debt             2.474300e+10  \n",
      "Inventory                  1.604700e+10  \n",
      "Accounts Payable           3.461600e+10  \n"
     ]
    }
   ],
   "source": [
    "#balance sheet\n",
    "print(f\"Balance Sheet: {amazon.balance_sheet}\")"
   ]
  },
  {
   "cell_type": "code",
   "execution_count": 19,
   "id": "014ef94c",
   "metadata": {},
   "outputs": [
    {
     "name": "stdout",
     "output_type": "stream",
     "text": [
      "Cashflow:                                              2020-12-31    2019-12-31  \\\n",
      "Investments                               -2.224200e+10 -9.131000e+09   \n",
      "Change To Liabilities                      1.874500e+10  9.904000e+09   \n",
      "Total Cashflows From Investing Activities -5.961100e+10 -2.428100e+10   \n",
      "Net Borrowings                            -1.104000e+09 -1.006600e+10   \n",
      "Total Cash From Financing Activities      -1.104000e+09 -1.006600e+10   \n",
      "Change To Operating Activities             5.754000e+09 -1.383000e+09   \n",
      "Net Income                                 2.133100e+10  1.158800e+10   \n",
      "Change In Cash                             5.967000e+09  4.237000e+09   \n",
      "Effect Of Exchange Rate                    6.180000e+08  7.000000e+07   \n",
      "Total Cash From Operating Activities       6.606400e+10  3.851400e+10   \n",
      "Depreciation                               2.525100e+10  2.178900e+10   \n",
      "Change To Inventory                       -2.849000e+09 -3.278000e+09   \n",
      "Change To Account Receivables             -8.169000e+09 -7.681000e+09   \n",
      "Change To Netincome                        6.001000e+09  7.575000e+09   \n",
      "Capital Expenditures                      -4.014000e+10 -1.686100e+10   \n",
      "Other Cashflows From Investing Activities           NaN           NaN   \n",
      "\n",
      "                                             2018-12-31    2017-12-31  \n",
      "Investments                                1.140000e+09 -3.054000e+09  \n",
      "Change To Liabilities                      4.414000e+09  7.838000e+09  \n",
      "Total Cashflows From Investing Activities -1.236900e+10 -2.708400e+10  \n",
      "Net Borrowings                            -7.686000e+09  9.928000e+09  \n",
      "Total Cash From Financing Activities      -7.686000e+09  9.928000e+09  \n",
      "Change To Operating Activities             4.720000e+08  2.830000e+08  \n",
      "Net Income                                 1.007300e+10  3.033000e+09  \n",
      "Change In Cash                             1.031700e+10  1.922000e+09  \n",
      "Effect Of Exchange Rate                   -3.510000e+08  7.130000e+08  \n",
      "Total Cash From Operating Activities       3.072300e+10  1.836500e+10  \n",
      "Depreciation                               1.534100e+10  1.147800e+10  \n",
      "Change To Inventory                       -1.314000e+09 -3.583000e+09  \n",
      "Change To Account Receivables             -4.615000e+09 -4.780000e+09  \n",
      "Change To Netincome                        6.352000e+09  4.096000e+09  \n",
      "Capital Expenditures                      -1.342700e+10 -1.195500e+10  \n",
      "Other Cashflows From Investing Activities  2.104000e+09  1.897000e+09  \n"
     ]
    }
   ],
   "source": [
    "#cashflow\n",
    "print(f\"Cashflow: {amazon.cashflow}\")"
   ]
  },
  {
   "cell_type": "code",
   "execution_count": 20,
   "id": "d271a353",
   "metadata": {},
   "outputs": [
    {
     "name": "stdout",
     "output_type": "stream",
     "text": [
      "Earnings:            Revenue     Earnings\n",
      "Year                           \n",
      "2017  177866000000   3033000000\n",
      "2018  232887000000  10073000000\n",
      "2019  280522000000  11588000000\n",
      "2020  386064000000  21331000000\n"
     ]
    }
   ],
   "source": [
    "#earnings\n",
    "print(f\"Earnings: {amazon.earnings}\")"
   ]
  }
 ],
 "metadata": {
  "kernelspec": {
   "display_name": "Python 3",
   "language": "python",
   "name": "python3"
  },
  "language_info": {
   "codemirror_mode": {
    "name": "ipython",
    "version": 3
   },
   "file_extension": ".py",
   "mimetype": "text/x-python",
   "name": "python",
   "nbconvert_exporter": "python",
   "pygments_lexer": "ipython3",
   "version": "3.8.8"
  }
 },
 "nbformat": 4,
 "nbformat_minor": 5
}
