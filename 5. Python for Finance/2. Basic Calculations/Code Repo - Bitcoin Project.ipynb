{
 "cells": [
  {
   "cell_type": "markdown",
   "id": "743d6efa",
   "metadata": {},
   "source": [
    "### Code Repo - Bitcoin Project\n",
    "\n",
    "#### IRR\n",
    "\n",
    "\n",
    "Let's continue with our Bitcoin project!\n",
    "\n",
    "You decide to start a Bitcoin mining business in January of 2017. You make an initial investment of $500K to buy the required mining hardware.\n",
    "Each year the hardware can mine 10 bitcoins, so your first return will come on January 1, 2018.\n",
    "\n",
    "Task:\n",
    "Calculate the return for each year and output the IRR of the project.\n",
    "\n",
    "Hint:\n",
    "Create an array with the initial investment as the first element (with a negative value), followed by the cost of 10 bitcoins per year -- multiply the values of the given array by 10 and accordingly add them to the list you created, placing them after the investment value.\n",
    "\n",
    "Expected result:\n",
    "0.07297215919675315 "
   ]
  },
  {
   "cell_type": "code",
   "execution_count": 1,
   "id": "77c9a2f9",
   "metadata": {},
   "outputs": [
    {
     "name": "stdout",
     "output_type": "stream",
     "text": [
      "The standard deviation of the price of bitcoin between 2018-2021 is: 10513.803224771947\n",
      "[-500000.    38694.7   71884.6  222033.1  293917.8]\n",
      "The IRR of my investment is: 0.07297215919675293\n"
     ]
    }
   ],
   "source": [
    "import numpy as np\n",
    "import numpy_financial as npf\n",
    "\n",
    "#price for 2018-2021\n",
    "bitcoin = np.array([3869.47, 7188.46, 22203.31, 29391.78])\n",
    "\n",
    "# the standard deviation of the price of bitcoin:\n",
    "print(f\"The standard deviation of the price of bitcoin between 2018-2021 is: {np.std(bitcoin)}\")\n",
    "\n",
    "\n",
    "# hypothetically started a btc mining business in 2017\n",
    "# initial investment of $500k\n",
    "# hardware mines 10 btc every year\n",
    "\n",
    "my_investment = bitcoin.copy()\n",
    "my_investment *= 10\n",
    "\n",
    "#initial investment\n",
    "my_investment = np.insert(my_investment, 0, -500000)\n",
    "print(my_investment)\n",
    "\n",
    "print(f\"The IRR of my investment is: {npf.irr(my_investment)}\")"
   ]
  }
 ],
 "metadata": {
  "kernelspec": {
   "display_name": "Python 3",
   "language": "python",
   "name": "python3"
  },
  "language_info": {
   "codemirror_mode": {
    "name": "ipython",
    "version": 3
   },
   "file_extension": ".py",
   "mimetype": "text/x-python",
   "name": "python",
   "nbconvert_exporter": "python",
   "pygments_lexer": "ipython3",
   "version": "3.8.8"
  }
 },
 "nbformat": 4,
 "nbformat_minor": 5
}
