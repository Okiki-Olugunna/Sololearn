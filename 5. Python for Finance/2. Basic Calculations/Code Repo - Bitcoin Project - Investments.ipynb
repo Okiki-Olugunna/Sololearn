{
 "cells": [
  {
   "cell_type": "markdown",
   "id": "a9fdbd56",
   "metadata": {},
   "source": [
    "### Code Repo - Bitcoin Project - Investments\n",
    "\n",
    "#### Plotting\n",
    "\n",
    "Let's continue with our Bitcoin calculations.\n",
    "\n",
    "You decide to invest $1000 in Bitcoin in 2018, at the price in the declared array: $3869.47.\n",
    "\n",
    "Tasks\n",
    "1. Calculate how much your investment is worth at the end of each year using the prices denoted in the code.\n",
    "2. Draw a chart to showcase how much your $1000 investment changes in value each year.\n",
    "\n",
    "Hint:\n",
    "First, calculate how many Bitcoins you will have at the start by dividing your investment by the cost of Bitcoin in the first year (the first element of the given array). Then multiply the entire array of the prices by that number to get the value for each year. Use np.multiply(array, number) to multiply an array with a number."
   ]
  },
  {
   "cell_type": "code",
   "execution_count": 1,
   "id": "4a709d65",
   "metadata": {},
   "outputs": [
    {
     "name": "stdout",
     "output_type": "stream",
     "text": [
      "The standard deviation of the price of bitcoin between 2018-2021 is: 10513.803224771947\n",
      "The IRR of my investment is: 0.07297215919675293\n"
     ]
    },
    {
     "data": {
      "image/png": "[encoded data removed]",
      "text/plain": [
       "<Figure size 432x288 with 1 Axes>"
      ]
     },
     "metadata": {
      "needs_background": "light"
     },
     "output_type": "display_data"
    }
   ],
   "source": [
    "import numpy as np\n",
    "import numpy_financial as npf\n",
    "\n",
    "#price for 2018-2021\n",
    "bitcoin = np.array([3869.47, 7188.46, 22203.31, 29391.78])\n",
    "\n",
    "# the standard deviation of the price of bitcoin:\n",
    "print(f\"The standard deviation of the price of bitcoin between 2018-2021 is: {np.std(bitcoin)}\")\n",
    "\n",
    "\n",
    "\n",
    "# hypothetically started a btc mining business in 2017\n",
    "# initial investment of $500k\n",
    "# hardware mines 10 btc every year\n",
    "\n",
    "my_investment = bitcoin.copy()\n",
    "my_investment *= 10\n",
    "\n",
    "#initial investment\n",
    "my_investment = np.insert(my_investment, 0, -500000)\n",
    "# print(my_investment)\n",
    "\n",
    "print(f\"The IRR of my investment is: {npf.irr(my_investment)}\")\n",
    "\n",
    "\n",
    "\n",
    "# made an investment of $1000 at the start of 2018 \n",
    "num_of_btc_bought_2018 = 1000 / bitcoin[0]\n",
    "\n",
    "my_btc_value = num_of_btc_bought_2018 * bitcoin\n",
    "\n",
    "\n",
    "#plotting a visualisation of the value of my investment in bitcoin \n",
    "\n",
    "import matplotlib.pyplot as plt\n",
    "\n",
    "year = ['2018', '2019', '2020', '2021']\n",
    "\n",
    "plt.plot(year, my_btc_value)\n",
    "plt.savefig(\"My Bitcoin Investment\")"
   ]
  }
 ],
 "metadata": {
  "kernelspec": {
   "display_name": "Python 3",
   "language": "python",
   "name": "python3"
  },
  "language_info": {
   "codemirror_mode": {
    "name": "ipython",
    "version": 3
   },
   "file_extension": ".py",
   "mimetype": "text/x-python",
   "name": "python",
   "nbconvert_exporter": "python",
   "pygments_lexer": "ipython3",
   "version": "3.8.8"
  }
 },
 "nbformat": 4,
 "nbformat_minor": 5
}
