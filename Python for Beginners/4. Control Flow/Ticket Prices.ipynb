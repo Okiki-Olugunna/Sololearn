{
 "cells": [
  {
   "cell_type": "markdown",
   "id": "8e9d7cef",
   "metadata": {},
   "source": [
    "#### Ticket Prices\n",
    "\n",
    "You are making a ticketing system.\n",
    "The price of a single ticket is $100.\n",
    "For children under 3 years of age, the ticket is free.\n",
    "\n",
    "Your program needs to take the ages of 5 passengers as input and output the total price for their tickets.\n",
    "\n",
    "Sample Input\n",
    "18\n",
    "24\n",
    "2\n",
    "5\n",
    "42\n",
    "\n",
    "Sample Output\n",
    "400\n",
    "\n",
    "There is one child under 3 among the passengers, so the total price of 5 tickets is $400."
   ]
  },
  {
   "cell_type": "code",
   "execution_count": null,
   "id": "d0c6b75f",
   "metadata": {},
   "outputs": [],
   "source": [
    "ticket = 100\n",
    "\n",
    "passengers = 5\n",
    "\n",
    "total = 0\n",
    "\n",
    "\n",
    "while passengers > 0:\n",
    "    age = int(input())\n",
    "    if (age >= 3):\n",
    "        total += ticket\n",
    "        passengers -= 1\n",
    "    elif (age < 3):\n",
    "        passengers -= 1\n",
    "        continue\n",
    "print(total)"
   ]
  }
 ],
 "metadata": {
  "kernelspec": {
   "display_name": "Python 3",
   "language": "python",
   "name": "python3"
  },
  "language_info": {
   "codemirror_mode": {
    "name": "ipython",
    "version": 3
   },
   "file_extension": ".py",
   "mimetype": "text/x-python",
   "name": "python",
   "nbconvert_exporter": "python",
   "pygments_lexer": "ipython3",
   "version": "3.8.8"
  }
 },
 "nbformat": 4,
 "nbformat_minor": 5
}
