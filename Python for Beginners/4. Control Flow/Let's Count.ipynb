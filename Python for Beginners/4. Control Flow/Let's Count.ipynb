{
 "cells": [
  {
   "cell_type": "markdown",
   "id": "f2c9777c",
   "metadata": {},
   "source": [
    "#### Let's Count\n",
    "\n",
    "You’re making a calculator that should add multiple numbers taken from input and output the result.\n",
    "\n",
    "The number of inputs is variable and should stop when the user enters \"stop\".\n",
    "\n",
    "Sample Input\n",
    "4\n",
    "32\n",
    "6\n",
    "stop\n",
    "\n",
    "Sample Output\n",
    "42\n",
    "\n",
    "Use an infinite loop to take user input and break it if the input equals \"stop\".\n",
    "\n",
    "Remember, the input is a string by default. You need to convert it to int to be able to use it as a number."
   ]
  },
  {
   "cell_type": "code",
   "execution_count": null,
   "id": "426e5900",
   "metadata": {},
   "outputs": [],
   "source": [
    "sum = 0\n",
    "\n",
    "while True:\n",
    "   x = input()\n",
    "   if (x == \"stop\"):\n",
    "      break\n",
    "   else: \n",
    "      sum += int(x)\n",
    "      continue\n",
    "print(sum)"
   ]
  }
 ],
 "metadata": {
  "kernelspec": {
   "display_name": "Python 3",
   "language": "python",
   "name": "python3"
  },
  "language_info": {
   "codemirror_mode": {
    "name": "ipython",
    "version": 3
   },
   "file_extension": ".py",
   "mimetype": "text/x-python",
   "name": "python",
   "nbconvert_exporter": "python",
   "pygments_lexer": "ipython3",
   "version": "3.8.8"
  }
 },
 "nbformat": 4,
 "nbformat_minor": 5
}
