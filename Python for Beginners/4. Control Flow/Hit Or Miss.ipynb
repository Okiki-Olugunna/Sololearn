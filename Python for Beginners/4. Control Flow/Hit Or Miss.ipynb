{
 "cells": [
  {
   "cell_type": "markdown",
   "id": "b00ce042",
   "metadata": {},
   "source": [
    "#### Hit Or Miss\n",
    "\n",
    "You are making a game! The player tries to shoot an object and can either hit or miss it.\n",
    "The player starts with 100 points, with a hit adding 10 points to the player’s score, and a miss deducting 20 points.\n",
    "\n",
    "Your program needs to take 4 action results as input (\"hit\" or \"miss\"), calculate and output the player’s remaining points.\n",
    "\n",
    "Sample Input\n",
    "hit\n",
    "hit\n",
    "miss\n",
    "hit\n",
    "\n",
    "Sample Output\n",
    "110\n",
    "\n",
    "Explanation: 3 hits add 30 points, one miss deducts 20, making the total points equal to 110.\n",
    "\n",
    "Use a while loop to take input during each iteration and calculate the points."
   ]
  },
  {
   "cell_type": "code",
   "execution_count": null,
   "id": "ff43f0b7",
   "metadata": {},
   "outputs": [],
   "source": [
    "points = 100\n",
    "hit = 10\n",
    "miss = -20\n",
    "chances = 4\n",
    "\n",
    "\n",
    "while chances > 0:\n",
    "    shot = input()\n",
    "    if (shot == \"hit\"):\n",
    "        points += hit\n",
    "    if (shot == \"miss\"):\n",
    "        points += miss\n",
    "    chances += -1\n",
    "print(points)"
   ]
  }
 ],
 "metadata": {
  "kernelspec": {
   "display_name": "Python 3",
   "language": "python",
   "name": "python3"
  },
  "language_info": {
   "codemirror_mode": {
    "name": "ipython",
    "version": 3
   },
   "file_extension": ".py",
   "mimetype": "text/x-python",
   "name": "python",
   "nbconvert_exporter": "python",
   "pygments_lexer": "ipython3",
   "version": "3.8.8"
  }
 },
 "nbformat": 4,
 "nbformat_minor": 5
}
