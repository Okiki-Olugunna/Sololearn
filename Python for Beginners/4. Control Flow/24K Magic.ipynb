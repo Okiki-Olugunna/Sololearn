{
 "cells": [
  {
   "cell_type": "markdown",
   "id": "f64cbf81",
   "metadata": {},
   "source": [
    "#### 24K Magic\n",
    "\n",
    "Now that we know how to combine multiple conditions, let’s improve our gold purity checker program and output the corresponding purity level in Karats!\n",
    "\n",
    "Here is the purity chart we’ll be using:\n",
    "24K – 99.9%\n",
    "22K – 91.7%\n",
    "20K – 83.3%\n",
    "18K – 75.0%\n",
    "\n",
    "If the percentage is between 75 and 83.3, the gold is considered to be 18K.\n",
    "If it's between 83.3 and 91.7, then it’s 20K, and so on.\n",
    "\n",
    "Given the percentage as input, output the corresponding Karat value, including the letter K.\n",
    "\n",
    "Sample Input:\n",
    "92.4\n",
    "\n",
    "Sample Output:\n",
    "22K\n",
    "\n",
    "Do not output anything if the percentage is lower than 75%."
   ]
  },
  {
   "cell_type": "code",
   "execution_count": null,
   "id": "ceaf17a8",
   "metadata": {},
   "outputs": [],
   "source": [
    "purity = float(input())\n",
    "\n",
    "if (purity >= 75 and purity < 83.3):\n",
    "    print(\"18K\")\n",
    "elif (purity >= 83.3 and purity < 91.7):\n",
    "    print(\"20K\")\n",
    "elif (purity >= 91.7 and purity < 99.9):\n",
    "    print(\"22K\")\n",
    "elif (purity >= 99.9):\n",
    "    print(\"24K\")"
   ]
  }
 ],
 "metadata": {
  "kernelspec": {
   "display_name": "Python 3",
   "language": "python",
   "name": "python3"
  },
  "language_info": {
   "codemirror_mode": {
    "name": "ipython",
    "version": 3
   },
   "file_extension": ".py",
   "mimetype": "text/x-python",
   "name": "python",
   "nbconvert_exporter": "python",
   "pygments_lexer": "ipython3",
   "version": "3.8.8"
  }
 },
 "nbformat": 4,
 "nbformat_minor": 5
}
