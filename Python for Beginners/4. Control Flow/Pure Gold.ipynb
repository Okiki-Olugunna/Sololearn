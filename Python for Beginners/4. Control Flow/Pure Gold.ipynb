{
 "cells": [
  {
   "cell_type": "markdown",
   "id": "7451906b",
   "metadata": {},
   "source": [
    "#### Pure Gold \n",
    "\n",
    "You’re making a gold purity checker that should accept only 22K or 24K gold. Only the good stuff!\n",
    "\n",
    "22K gold has 91.7% or more gold in it, while 24K corresponds to 99.9% and above purity.\n",
    "\n",
    "Given the % of gold purity as input, you should output \"Accepted\" only if it corresponds to 22 or 24K.\n",
    "\n",
    "Sample Input:\n",
    "93.4\n",
    "\n",
    "Sample Output:\n",
    "Accepted\n",
    "\n",
    "##### Do not output anything if the water is not boiling."
   ]
  },
  {
   "cell_type": "code",
   "execution_count": null,
   "id": "4a2c4a91",
   "metadata": {},
   "outputs": [],
   "source": [
    "purity = float(input())\n",
    "\n",
    "if purity >= 91.7:\n",
    "    print(\"Accepted\")"
   ]
  }
 ],
 "metadata": {
  "kernelspec": {
   "display_name": "Python 3",
   "language": "python",
   "name": "python3"
  },
  "language_info": {
   "codemirror_mode": {
    "name": "ipython",
    "version": 3
   },
   "file_extension": ".py",
   "mimetype": "text/x-python",
   "name": "python",
   "nbconvert_exporter": "python",
   "pygments_lexer": "ipython3",
   "version": "3.8.8"
  }
 },
 "nbformat": 4,
 "nbformat_minor": 5
}
