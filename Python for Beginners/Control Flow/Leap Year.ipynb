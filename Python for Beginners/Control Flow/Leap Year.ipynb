{
 "cells": [
  {
   "cell_type": "markdown",
   "id": "ce4bf61f",
   "metadata": {},
   "source": [
    "#### Leap Year\n",
    "\n",
    "You need to make a program to take a year as input and output \"Leap year\" if it’s a leap year, and \"Not a leap year\", if it’s not.\n",
    "\n",
    "To check whether a year is a leap year or not, you need to check the following:\n",
    "1) If the year is evenly divisible by 4, go to step 2. Otherwise, the year is NOT a leap year.\n",
    "2) If the year is evenly divisible by 100, go to step 3. Otherwise, the year is a leap year.\n",
    "3) If the year is evenly divisible by 400, the year is a leap year. Otherwise, it is not a leap year.\n",
    "\n",
    "Sample Input\n",
    "2000\n",
    "\n",
    "Sample Output\n",
    "Leap year\n",
    "\n",
    "Use the modulo operator % to check if the year is evenly divisible by a number.\n",
    "A year is called a leap year if it contains an additional day which makes the number of the days in that year is 366. This additional day is added in February which makes it 29 days long.\n",
    "\n",
    "##### A year is called a leap year if it contains an additional day which makes the number of the days in that year is 366. This additional day is added in February which makes it 29 days long."
   ]
  },
  {
   "cell_type": "code",
   "execution_count": null,
   "id": "8e3fef46",
   "metadata": {},
   "outputs": [],
   "source": [
    "year = int(input())\n",
    "\n",
    "if (year % 4) == 0:\n",
    "    if (year % 100) == 0:\n",
    "        if (year % 400) == 0:\n",
    "            print(\"Leap year\")\n",
    "        else:\n",
    "            print(\"Not a leap year\")\n",
    "    else:\n",
    "        print(\"Leap year\")\n",
    "else:\n",
    "    print(\"Not a leap year\")"
   ]
  }
 ],
 "metadata": {
  "kernelspec": {
   "display_name": "Python 3",
   "language": "python",
   "name": "python3"
  },
  "language_info": {
   "codemirror_mode": {
    "name": "ipython",
    "version": 3
   },
   "file_extension": ".py",
   "mimetype": "text/x-python",
   "name": "python",
   "nbconvert_exporter": "python",
   "pygments_lexer": "ipython3",
   "version": "3.8.8"
  }
 },
 "nbformat": 4,
 "nbformat_minor": 5
}
