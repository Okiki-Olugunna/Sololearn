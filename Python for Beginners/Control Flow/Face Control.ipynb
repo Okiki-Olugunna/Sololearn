{
 "cells": [
  {
   "cell_type": "markdown",
   "id": "50e5c7d1",
   "metadata": {},
   "source": [
    "#### Face Control \n",
    "\n",
    "Write a program to control entrance to a club.\n",
    "Only people who are 18 or older are allowed to enter the club.\n",
    "Your program takes the age of the person who tries to enter, and outputs \"Allowed\" if they are allowed to enter the club, and \"Sorry\" if they are younger than the allowed age.\n",
    "\n",
    "Sample Input\n",
    "24\n",
    "\n",
    "Sample Output\n",
    "Allowed"
   ]
  },
  {
   "cell_type": "code",
   "execution_count": null,
   "id": "fa0cf9dd",
   "metadata": {},
   "outputs": [],
   "source": [
    "age = int(input())\n",
    "\n",
    "if age >= 18:\n",
    "    print(\"Allowed\")\n",
    "else:\n",
    "    print(\"Sorry\")"
   ]
  }
 ],
 "metadata": {
  "kernelspec": {
   "display_name": "Python 3",
   "language": "python",
   "name": "python3"
  },
  "language_info": {
   "codemirror_mode": {
    "name": "ipython",
    "version": 3
   },
   "file_extension": ".py",
   "mimetype": "text/x-python",
   "name": "python",
   "nbconvert_exporter": "python",
   "pygments_lexer": "ipython3",
   "version": "3.8.8"
  }
 },
 "nbformat": 4,
 "nbformat_minor": 5
}
