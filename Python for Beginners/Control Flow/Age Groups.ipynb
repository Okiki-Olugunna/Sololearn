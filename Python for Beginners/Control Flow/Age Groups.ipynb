{
 "cells": [
  {
   "cell_type": "markdown",
   "id": "b32a7dc8",
   "metadata": {},
   "source": [
    "#### Age Groups \n",
    "\n",
    "Given the age of a person as an input, output their age group.\n",
    "\n",
    "Here are the age groups you need to handle:\n",
    "Child: 0 to 11\n",
    "Teen: 12 to 17\n",
    "Adult: 18 to 64\n",
    "\n",
    "Sample Input\n",
    "42\n",
    "\n",
    "Sample Output\n",
    "Adult"
   ]
  },
  {
   "cell_type": "code",
   "execution_count": null,
   "id": "c68c18f3",
   "metadata": {},
   "outputs": [],
   "source": [
    "age = int(input())\n",
    "\n",
    "if (age >= 0) and (age <= 11):\n",
    "    print(\"Child\")\n",
    "elif (age >= 12 and age <= 17):\n",
    "    print(\"Teen\")\n",
    "elif (age >= 18 and age <= 64):\n",
    "    print(\"Adult\")"
   ]
  }
 ],
 "metadata": {
  "kernelspec": {
   "display_name": "Python 3",
   "language": "python",
   "name": "python3"
  },
  "language_info": {
   "codemirror_mode": {
    "name": "ipython",
    "version": 3
   },
   "file_extension": ".py",
   "mimetype": "text/x-python",
   "name": "python",
   "nbconvert_exporter": "python",
   "pygments_lexer": "ipython3",
   "version": "3.8.8"
  }
 },
 "nbformat": 4,
 "nbformat_minor": 5
}
