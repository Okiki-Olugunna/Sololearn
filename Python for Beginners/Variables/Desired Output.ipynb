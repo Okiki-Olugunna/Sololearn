{
 "cells": [
  {
   "cell_type": "markdown",
   "id": "da4e373e",
   "metadata": {},
   "source": [
    "Somebody wrote code to take a string input and output it, repeated 10 times.\n",
    "However, the code results in an error.\n",
    "Fix the code to output the desired output.\n",
    "\n",
    "x = input()\n",
    "\n",
    "print(x+10)"
   ]
  },
  {
   "cell_type": "code",
   "execution_count": 1,
   "id": "489aae1a",
   "metadata": {},
   "outputs": [
    {
     "name": "stdout",
     "output_type": "stream",
     "text": [
      "\n",
      "\n"
     ]
    }
   ],
   "source": [
    "# The print statement needs to be changed from a plus sign to an asterisk\n",
    "x = input()\n",
    "print(x * 10)"
   ]
  },
  {
   "cell_type": "code",
   "execution_count": null,
   "id": "f3a5cac5",
   "metadata": {},
   "outputs": [],
   "source": []
  }
 ],
 "metadata": {
  "kernelspec": {
   "display_name": "Python 3",
   "language": "python",
   "name": "python3"
  },
  "language_info": {
   "codemirror_mode": {
    "name": "ipython",
    "version": 3
   },
   "file_extension": ".py",
   "mimetype": "text/x-python",
   "name": "python",
   "nbconvert_exporter": "python",
   "pygments_lexer": "ipython3",
   "version": "3.8.8"
  }
 },
 "nbformat": 4,
 "nbformat_minor": 5
}
