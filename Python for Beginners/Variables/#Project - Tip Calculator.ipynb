{
 "cells": [
  {
   "cell_type": "markdown",
   "id": "7355d121",
   "metadata": {},
   "source": [
    "#### Tip Calculator\n",
    "\n",
    "When you go out to eat, you always tip 20% of the bill amount. But who’s got the time to calculate the right tip amount every time? Not you that’s for sure! You’re making a program to calculate tips and save some time.\n",
    "\n",
    "Your program needs to take the bill amount as input and output the tip as a float.\n",
    "\n",
    "Sample Input\n",
    "50\n",
    "\n",
    "Sample Output\n",
    "10.0"
   ]
  },
  {
   "cell_type": "code",
   "execution_count": null,
   "id": "0171e077",
   "metadata": {},
   "outputs": [],
   "source": [
    "bill = int(input())\n",
    "\n",
    "print(bill * 0.2)"
   ]
  }
 ],
 "metadata": {
  "kernelspec": {
   "display_name": "Python 3",
   "language": "python",
   "name": "python3"
  },
  "language_info": {
   "codemirror_mode": {
    "name": "ipython",
    "version": 3
   },
   "file_extension": ".py",
   "mimetype": "text/x-python",
   "name": "python",
   "nbconvert_exporter": "python",
   "pygments_lexer": "ipython3",
   "version": "3.8.8"
  }
 },
 "nbformat": 4,
 "nbformat_minor": 5
}
