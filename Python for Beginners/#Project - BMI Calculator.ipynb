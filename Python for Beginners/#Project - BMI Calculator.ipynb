{
 "cells": [
  {
   "cell_type": "markdown",
   "id": "41660158",
   "metadata": {},
   "source": [
    "### BMI Calculator\n",
    "\n",
    "\n",
    "Tracking your BMI is a useful way of checking if you’re maintaining a healthy weight. It’s calculated using a person's weight and height, using this formula: weight / height²\n",
    "\n",
    "The resulting number indicates one of the following categories:\n",
    "Underweight = less than 18.5\n",
    "Normal = more or equal to 18.5 and less than 25\n",
    "Overweight = more or equal to 25 and less than 30\n",
    "Obesity = 30 or more\n",
    "\n",
    "Let’s make finding out your BMI quicker and easier, by creating a program that takes a person's weight and height as input and outputs the corresponding BMI category.\n",
    "\n",
    "Sample Input\n",
    "85\n",
    "1.9\n",
    "\n",
    "Sample Output\n",
    "Normal\n",
    "\n",
    "Weight is in kg, height is in meters.\n",
    "Note, that height is a float."
   ]
  },
  {
   "cell_type": "code",
   "execution_count": null,
   "id": "f5d799fc",
   "metadata": {},
   "outputs": [],
   "source": [
    "weight = int(input(\"What is your weight in kg? \"))\n",
    "height = float(input(\"What is your height in meters? \"))\n",
    "\n",
    "BMI = (weight / (height**2))\n",
    "\n",
    "if BMI <= 18.5:\n",
    "    print(\"Underweight\")\n",
    "elif BMI > 18.5 and BMI < 25.0:\n",
    "    print(\"Normal\")\n",
    "elif BMI >= 25.0 and BMI < 30:\n",
    "    print(\"Overweight\")\n",
    "elif BMI >= 30:\n",
    "    print(\"Obesity\")"
   ]
  }
 ],
 "metadata": {
  "kernelspec": {
   "display_name": "Python 3",
   "language": "python",
   "name": "python3"
  },
  "language_info": {
   "codemirror_mode": {
    "name": "ipython",
    "version": 3
   },
   "file_extension": ".py",
   "mimetype": "text/x-python",
   "name": "python",
   "nbconvert_exporter": "python",
   "pygments_lexer": "ipython3",
   "version": "3.8.8"
  }
 },
 "nbformat": 4,
 "nbformat_minor": 5
}
