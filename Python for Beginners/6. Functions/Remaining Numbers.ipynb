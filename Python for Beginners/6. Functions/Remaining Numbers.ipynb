{
 "cells": [
  {
   "cell_type": "markdown",
   "id": "4d6df840",
   "metadata": {},
   "source": [
    "#### Remaining Numbers\n",
    "\n",
    "You’re analyzing a data set and need to remove the outliers (the smallest and largest values;\n",
    "the data is stored in a list).\n",
    "\n",
    "Complete the code to remove the smallest and largest elements from the list and output the sum of the remaining numbers.\n",
    "\n",
    "data = [7, 5, 6.9, 1, 8, 42, 33, 128, 1024, 2, 8, 11, 0.4, 1024, 66, 809, 11, 8.9, 1.1, 3.42, 9, 100, 444, 78]"
   ]
  },
  {
   "cell_type": "code",
   "execution_count": null,
   "id": "92711a9e",
   "metadata": {},
   "outputs": [],
   "source": [
    "data = [7, 5, 6.9, 1, 8, 42, 33, 128, 1024, 2, 8, 11, 0.4, 1024, 66, 809, 11, 8.9, 1.1, 3.42, 9, 100, 444, 78]\n",
    "\n",
    "data.remove(min(data))\n",
    "data.remove(max(data))\n",
    "\n",
    "print(sum(data))"
   ]
  }
 ],
 "metadata": {
  "kernelspec": {
   "display_name": "Python 3",
   "language": "python",
   "name": "python3"
  },
  "language_info": {
   "codemirror_mode": {
    "name": "ipython",
    "version": 3
   },
   "file_extension": ".py",
   "mimetype": "text/x-python",
   "name": "python",
   "nbconvert_exporter": "python",
   "pygments_lexer": "ipython3",
   "version": "3.8.8"
  }
 },
 "nbformat": 4,
 "nbformat_minor": 5
}
