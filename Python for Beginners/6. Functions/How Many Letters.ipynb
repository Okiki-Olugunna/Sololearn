{
 "cells": [
  {
   "cell_type": "markdown",
   "id": "daa86a89",
   "metadata": {},
   "source": [
    "#### How Many Letters?\n",
    "\n",
    "Write a function that takes a string and a letter as its arguments and returns the count of the letter in the string.\n",
    "\n",
    "Sample Input:\n",
    "\n",
    "hello, how are you?\n",
    "\n",
    "o\n",
    "\n",
    "Sample Output:\n",
    "3\n",
    "\n",
    "Explanation:\n",
    "The letter o appears 3 times in the given text."
   ]
  },
  {
   "cell_type": "code",
   "execution_count": null,
   "id": "ef8b0de8",
   "metadata": {},
   "outputs": [],
   "source": [
    "def lettercount(x, y):\n",
    "    return x.count(y)\n",
    "\n",
    "x = input()\n",
    "y = input()\n",
    "\n",
    "print(lettercount(x,y))"
   ]
  }
 ],
 "metadata": {
  "kernelspec": {
   "display_name": "Python 3",
   "language": "python",
   "name": "python3"
  },
  "language_info": {
   "codemirror_mode": {
    "name": "ipython",
    "version": 3
   },
   "file_extension": ".py",
   "mimetype": "text/x-python",
   "name": "python",
   "nbconvert_exporter": "python",
   "pygments_lexer": "ipython3",
   "version": "3.8.8"
  }
 },
 "nbformat": 4,
 "nbformat_minor": 5
}
