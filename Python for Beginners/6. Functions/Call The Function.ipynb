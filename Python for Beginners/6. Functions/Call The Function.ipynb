{
 "cells": [
  {
   "cell_type": "markdown",
   "id": "cb6d6ac6",
   "metadata": {},
   "source": [
    "#### Call The Function\n",
    "\n",
    "The given program defines a function printBill(), which takes one string argument and outputs formatted text.\n",
    "\n",
    "def printBill(text):\n",
    "  print(\"======\")\n",
    "  print(text)\n",
    "  print(\"======\")\n",
    "\n",
    "You need to take the user input and call the function by passing the input as its argument."
   ]
  },
  {
   "cell_type": "code",
   "execution_count": null,
   "id": "86da321c",
   "metadata": {},
   "outputs": [],
   "source": [
    "def printBill(text):\n",
    "  print(\"======\")\n",
    "  print(text)\n",
    "  print(\"======\")\n",
    "\n",
    "\n",
    "x = input()\n",
    "printBill(x)"
   ]
  }
 ],
 "metadata": {
  "kernelspec": {
   "display_name": "Python 3",
   "language": "python",
   "name": "python3"
  },
  "language_info": {
   "codemirror_mode": {
    "name": "ipython",
    "version": 3
   },
   "file_extension": ".py",
   "mimetype": "text/x-python",
   "name": "python",
   "nbconvert_exporter": "python",
   "pygments_lexer": "ipython3",
   "version": "3.8.8"
  }
 },
 "nbformat": 4,
 "nbformat_minor": 5
}
