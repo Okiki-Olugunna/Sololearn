{
 "cells": [
  {
   "cell_type": "markdown",
   "id": "8fad00f5",
   "metadata": {},
   "source": [
    "#### Broken Keyboard \n",
    "\n",
    "Your friend sent you a message, however his keyboard is broken and types a # instead of a space.\n",
    "\n",
    "Replace all of the # characters in the given input with spaces and output the result."
   ]
  },
  {
   "cell_type": "code",
   "execution_count": null,
   "id": "f1ae036f",
   "metadata": {},
   "outputs": [],
   "source": [
    "message = input()\n",
    "\n",
    "print(message.replace(\"#\", \" \"))"
   ]
  }
 ],
 "metadata": {
  "kernelspec": {
   "display_name": "Python 3",
   "language": "python",
   "name": "python3"
  },
  "language_info": {
   "codemirror_mode": {
    "name": "ipython",
    "version": 3
   },
   "file_extension": ".py",
   "mimetype": "text/x-python",
   "name": "python",
   "nbconvert_exporter": "python",
   "pygments_lexer": "ipython3",
   "version": "3.8.8"
  }
 },
 "nbformat": 4,
 "nbformat_minor": 5
}
