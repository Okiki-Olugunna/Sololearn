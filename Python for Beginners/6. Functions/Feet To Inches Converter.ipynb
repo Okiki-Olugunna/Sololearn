{
 "cells": [
  {
   "cell_type": "markdown",
   "id": "d7f50c28",
   "metadata": {},
   "source": [
    "#### Feet To Inches Converter\n",
    "\n",
    "You need to make a function that converts a foot value to inches.\n",
    "\n",
    "1 foot has 12 inches.\n",
    "\n",
    "Define a convert() function that takes the foot value as an argument and outputs the inches value."
   ]
  },
  {
   "cell_type": "code",
   "execution_count": null,
   "id": "c1e64a85",
   "metadata": {},
   "outputs": [],
   "source": [
    "feet = int(input())\n",
    "\n",
    "def convert(feet):\n",
    "    print(feet*12)\n",
    "\n",
    "convert(feet)"
   ]
  }
 ],
 "metadata": {
  "kernelspec": {
   "display_name": "Python 3",
   "language": "python",
   "name": "python3"
  },
  "language_info": {
   "codemirror_mode": {
    "name": "ipython",
    "version": 3
   },
   "file_extension": ".py",
   "mimetype": "text/x-python",
   "name": "python",
   "nbconvert_exporter": "python",
   "pygments_lexer": "ipython3",
   "version": "3.8.8"
  }
 },
 "nbformat": 4,
 "nbformat_minor": 5
}
