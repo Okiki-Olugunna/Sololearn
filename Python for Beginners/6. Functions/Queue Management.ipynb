{
 "cells": [
  {
   "cell_type": "markdown",
   "id": "6a40dbd7",
   "metadata": {},
   "source": [
    "#### Queue Management\n",
    "\n",
    "You are working on a queue management program.\n",
    "The queue is represented by a list.\n",
    "\n",
    "Write a program to take an input, add it to the end of the queue, and output the resulting list.\n",
    "\n",
    "queue = ['John', 'Amy', 'Bob', 'Adam']"
   ]
  },
  {
   "cell_type": "code",
   "execution_count": null,
   "id": "e56be057",
   "metadata": {},
   "outputs": [],
   "source": [
    "queue = ['John', 'Amy', 'Bob', 'Adam']\n",
    "\n",
    "\n",
    "x = input()\n",
    "\n",
    "queue.append(x)\n",
    "\n",
    "print(queue)"
   ]
  }
 ],
 "metadata": {
  "kernelspec": {
   "display_name": "Python 3",
   "language": "python",
   "name": "python3"
  },
  "language_info": {
   "codemirror_mode": {
    "name": "ipython",
    "version": 3
   },
   "file_extension": ".py",
   "mimetype": "text/x-python",
   "name": "python",
   "nbconvert_exporter": "python",
   "pygments_lexer": "ipython3",
   "version": "3.8.8"
  }
 },
 "nbformat": 4,
 "nbformat_minor": 5
}
