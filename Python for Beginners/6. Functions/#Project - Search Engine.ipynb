{
 "cells": [
  {
   "cell_type": "markdown",
   "id": "766106ba",
   "metadata": {},
   "source": [
    "### Project - Search Engine\n",
    "\n",
    "You’re working on a search engine. Watch your back Google!\n",
    "\n",
    "text = input()\n",
    "\n",
    "word = input()\n",
    "\n",
    "print(search(text, word))\n",
    "\n",
    "The given code takes a text and a word as input and passes them to a function called search().\n",
    "\n",
    "The search() function should return \"Word found\" if the word is present in the text, or \"Word not found\", if it’s not.\n",
    "\n",
    "Sample Input:\n",
    "\n",
    "\"This is awesome\"\n",
    "\n",
    "\"awesome\"\n",
    "\n",
    "Sample Output:\n",
    "\n",
    "Word found\n",
    "\n",
    "Define the search() function, so that the given code works as expected."
   ]
  },
  {
   "cell_type": "code",
   "execution_count": null,
   "id": "9e15d542",
   "metadata": {},
   "outputs": [],
   "source": [
    "text = input()\n",
    "word = input()\n",
    "\n",
    "def search(x, y):\n",
    "    if y in x:\n",
    "        return \"Word found\"\n",
    "    else:\n",
    "        return \"Word not found\"\n",
    "\n",
    "print(search(text, word))"
   ]
  }
 ],
 "metadata": {
  "kernelspec": {
   "display_name": "Python 3",
   "language": "python",
   "name": "python3"
  },
  "language_info": {
   "codemirror_mode": {
    "name": "ipython",
    "version": 3
   },
   "file_extension": ".py",
   "mimetype": "text/x-python",
   "name": "python",
   "nbconvert_exporter": "python",
   "pygments_lexer": "ipython3",
   "version": "3.8.8"
  }
 },
 "nbformat": 4,
 "nbformat_minor": 5
}
