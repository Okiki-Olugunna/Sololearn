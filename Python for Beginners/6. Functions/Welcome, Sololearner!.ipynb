{
 "cells": [
  {
   "cell_type": "markdown",
   "id": "73e9866e",
   "metadata": {},
   "source": [
    "#### Welcome, Sololearner!\n",
    "\n",
    "We have a function that outputs \"Welcome, user\" as it is called. \n",
    "\n",
    "def welcome():\n",
    "   print(\"Welcome, user\")\n",
    "\n",
    "welcome()\n",
    "\n",
    "We want to make it more personalized, so redesign the given function so that it will take the name of the user as input and output the welcome message with it.\n",
    "\n",
    "Sample Input:\n",
    "Tommy\n",
    "\n",
    "Sample Output:\n",
    "Welcome, Tommy"
   ]
  },
  {
   "cell_type": "code",
   "execution_count": null,
   "id": "f8522bb6",
   "metadata": {},
   "outputs": [],
   "source": [
    "name = input()\n",
    "\n",
    "def welcome():\n",
    "   print(f\"Welcome, {name}\")\n",
    "\n",
    "welcome()"
   ]
  }
 ],
 "metadata": {
  "kernelspec": {
   "display_name": "Python 3",
   "language": "python",
   "name": "python3"
  },
  "language_info": {
   "codemirror_mode": {
    "name": "ipython",
    "version": 3
   },
   "file_extension": ".py",
   "mimetype": "text/x-python",
   "name": "python",
   "nbconvert_exporter": "python",
   "pygments_lexer": "ipython3",
   "version": "3.8.8"
  }
 },
 "nbformat": 4,
 "nbformat_minor": 5
}
