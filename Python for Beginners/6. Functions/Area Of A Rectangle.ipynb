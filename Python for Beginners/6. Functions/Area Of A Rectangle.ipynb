{
 "cells": [
  {
   "cell_type": "markdown",
   "id": "f3121544",
   "metadata": {},
   "source": [
    "#### Area Of A Rectangle\n",
    "\n",
    "We need to calculate the area of a given rectangle.\n",
    "Your program needs to take the width and length as input and output the area of the rectangle.\n",
    "\n",
    "Complete the area function, which takes the length and width as arguments, to calculate and return the area.\n",
    "Then call the function for the given inputs.\n",
    "\n",
    "Sample Input 1:\n",
    "\n",
    "7\n",
    "\n",
    "4\n",
    "\n",
    "Sample Output 1:\n",
    "\n",
    "28"
   ]
  },
  {
   "cell_type": "code",
   "execution_count": null,
   "id": "812f74e0",
   "metadata": {},
   "outputs": [],
   "source": [
    "def area(x, y):\n",
    "   return x*y\n",
    "   \n",
    "\n",
    "width = int(input())\n",
    "length = int(input())\n",
    "\n",
    "print(area(width, length))"
   ]
  }
 ],
 "metadata": {
  "kernelspec": {
   "display_name": "Python 3",
   "language": "python",
   "name": "python3"
  },
  "language_info": {
   "codemirror_mode": {
    "name": "ipython",
    "version": 3
   },
   "file_extension": ".py",
   "mimetype": "text/x-python",
   "name": "python",
   "nbconvert_exporter": "python",
   "pygments_lexer": "ipython3",
   "version": "3.8.8"
  }
 },
 "nbformat": 4,
 "nbformat_minor": 5
}
