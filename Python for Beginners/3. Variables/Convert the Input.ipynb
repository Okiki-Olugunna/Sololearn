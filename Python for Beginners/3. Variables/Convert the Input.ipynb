{
 "cells": [
  {
   "cell_type": "markdown",
   "id": "56a28ad8",
   "metadata": {},
   "source": [
    "#### Convert the Input\n",
    "\n",
    "Write a program to take x and y as input and output the string x, repeated y times.\n",
    "\n",
    "Sample Input\n",
    "hi\n",
    "3\n",
    "\n",
    "Sample Output\n",
    "hihihi"
   ]
  },
  {
   "cell_type": "code",
   "execution_count": null,
   "id": "fd86051a",
   "metadata": {},
   "outputs": [],
   "source": [
    "x = input()\n",
    "y = int(input())\n",
    "\n",
    "print(x * y)"
   ]
  }
 ],
 "metadata": {
  "kernelspec": {
   "display_name": "Python 3",
   "language": "python",
   "name": "python3"
  },
  "language_info": {
   "codemirror_mode": {
    "name": "ipython",
    "version": 3
   },
   "file_extension": ".py",
   "mimetype": "text/x-python",
   "name": "python",
   "nbconvert_exporter": "python",
   "pygments_lexer": "ipython3",
   "version": "3.8.8"
  }
 },
 "nbformat": 4,
 "nbformat_minor": 5
}
