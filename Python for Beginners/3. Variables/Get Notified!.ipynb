{
 "cells": [
  {
   "cell_type": "markdown",
   "id": "52d18ff6",
   "metadata": {},
   "source": [
    "#### Get Notified!\n",
    "\n",
    "\n",
    "You’re working on a notification system and need to make the notification text eye-catching.\n",
    "\n",
    "Write a program that takes the text as input and outputs it by adding 3 stars at the beginning and the end.\n",
    "\n",
    "Sample Input\n",
    "this is awesome\n",
    "\n",
    "Sample Output\n",
    "*** this is awesome ***"
   ]
  },
  {
   "cell_type": "code",
   "execution_count": null,
   "id": "69e8047a",
   "metadata": {},
   "outputs": [],
   "source": [
    "x = input()\n",
    "print(\"***\", x, \"***\")"
   ]
  }
 ],
 "metadata": {
  "kernelspec": {
   "display_name": "Python 3",
   "language": "python",
   "name": "python3"
  },
  "language_info": {
   "codemirror_mode": {
    "name": "ipython",
    "version": 3
   },
   "file_extension": ".py",
   "mimetype": "text/x-python",
   "name": "python",
   "nbconvert_exporter": "python",
   "pygments_lexer": "ipython3",
   "version": "3.8.8"
  }
 },
 "nbformat": 4,
 "nbformat_minor": 5
}
