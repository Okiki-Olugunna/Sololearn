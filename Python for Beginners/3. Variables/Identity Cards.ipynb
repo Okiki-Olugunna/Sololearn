{
 "cells": [
  {
   "cell_type": "markdown",
   "id": "33556e3a",
   "metadata": {},
   "source": [
    "#### Identity Cards\n",
    "\n",
    "Now that we know how to take user input, let's improve our contact card program that we previously made using variables.\n",
    "\n",
    "Change the given code to take the name and age from user input and use them in the output.\n",
    "\n",
    "name = \"James\"\n",
    "\n",
    "age = \"42\"\n",
    "\n",
    "print(name + \" is \"+age+\" years old\")"
   ]
  },
  {
   "cell_type": "code",
   "execution_count": null,
   "id": "0690a3f2",
   "metadata": {},
   "outputs": [],
   "source": [
    "name = input()\n",
    "age = int(input())\n",
    "\n",
    "print(f\"{name} is {age} years old\")"
   ]
  }
 ],
 "metadata": {
  "kernelspec": {
   "display_name": "Python 3",
   "language": "python",
   "name": "python3"
  },
  "language_info": {
   "codemirror_mode": {
    "name": "ipython",
    "version": 3
   },
   "file_extension": ".py",
   "mimetype": "text/x-python",
   "name": "python",
   "nbconvert_exporter": "python",
   "pygments_lexer": "ipython3",
   "version": "3.8.8"
  }
 },
 "nbformat": 4,
 "nbformat_minor": 5
}
