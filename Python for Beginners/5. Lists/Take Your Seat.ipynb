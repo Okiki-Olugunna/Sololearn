{
 "cells": [
  {
   "cell_type": "markdown",
   "id": "23095784",
   "metadata": {},
   "source": [
    "#### Take Your Seat \n",
    "\n",
    "The seats in your ticketing program are stored in a 2D list. Each seat is assigned a letter code.\n",
    "\n",
    "Complete the program to take the seat row and column as input and output the corresponding code from the list (row and column indices start from 0).\n",
    "\n",
    "seats = [\n",
    "['a', 'b', 'c'],\n",
    "['d', 'e', 'f'],\n",
    "['g', 'h', 'i'],\n",
    "['j', 'k', 'l']\n",
    "]\n",
    "\n",
    "\n",
    "Sample Input:\n",
    "\n",
    "3\n",
    "\n",
    "2\n",
    "\n",
    "Sample Output:\n",
    "k"
   ]
  },
  {
   "cell_type": "code",
   "execution_count": null,
   "id": "d87dc0b2",
   "metadata": {},
   "outputs": [],
   "source": [
    "seats = [\n",
    "['a', 'b', 'c'],\n",
    "['d', 'e', 'f'],\n",
    "['g', 'h', 'i'],\n",
    "['j', 'k', 'l']\n",
    "]\n",
    "\n",
    "seat_index = 2\n",
    "\n",
    "while (seat_index > 0):\n",
    "    row = int(input())\n",
    "    seat_index -= 1\n",
    "    column = int(input())\n",
    "    seat_index -= 1\n",
    "print(seats[row][column])"
   ]
  }
 ],
 "metadata": {
  "kernelspec": {
   "display_name": "Python 3",
   "language": "python",
   "name": "python3"
  },
  "language_info": {
   "codemirror_mode": {
    "name": "ipython",
    "version": 3
   },
   "file_extension": ".py",
   "mimetype": "text/x-python",
   "name": "python",
   "nbconvert_exporter": "python",
   "pygments_lexer": "ipython3",
   "version": "3.8.8"
  }
 },
 "nbformat": 4,
 "nbformat_minor": 5
}
