{
 "cells": [
  {
   "cell_type": "markdown",
   "id": "7a7efdf2",
   "metadata": {},
   "source": [
    "#### Date Picker\n",
    "\n",
    "You are creating a date picker for a website and need to output all of the years in a given period.\n",
    "Write a program that takes two integers as input and outputs the range of numbers between the two inputs as a list.\n",
    "The output sequence should start with the first input number and end with the second input number, without including it.\n",
    "\n",
    "Sample Input:\n",
    "\n",
    "2005\n",
    "\n",
    "2011\n",
    "\n",
    "Sample Output:\n",
    "\n",
    "[2005, 2006, 2007, 2008, 2009, 2010]"
   ]
  },
  {
   "cell_type": "code",
   "execution_count": null,
   "id": "8c691ddb",
   "metadata": {},
   "outputs": [],
   "source": [
    "first_int = int(input())\n",
    "second_int = int(input())\n",
    "\n",
    "output = list(range(first_int, second_int))\n",
    "\n",
    "print(output)"
   ]
  }
 ],
 "metadata": {
  "kernelspec": {
   "display_name": "Python 3",
   "language": "python",
   "name": "python3"
  },
  "language_info": {
   "codemirror_mode": {
    "name": "ipython",
    "version": 3
   },
   "file_extension": ".py",
   "mimetype": "text/x-python",
   "name": "python",
   "nbconvert_exporter": "python",
   "pygments_lexer": "ipython3",
   "version": "3.8.8"
  }
 },
 "nbformat": 4,
 "nbformat_minor": 5
}
