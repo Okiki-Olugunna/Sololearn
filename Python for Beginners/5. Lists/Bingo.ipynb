{
 "cells": [
  {
   "cell_type": "markdown",
   "id": "8a64c849",
   "metadata": {},
   "source": [
    "#### Bingo\n",
    "\n",
    "Given a list of numbers\n",
    "\n",
    "42, 8, 7, 1, 0, 124, 8897, 555, 3, 67, 99\n",
    "\n",
    "Output \"bingo\" if it contains the input number.\n",
    "\n",
    "Do not output anything if the number is not found."
   ]
  },
  {
   "cell_type": "code",
   "execution_count": null,
   "id": "21358751",
   "metadata": {},
   "outputs": [],
   "source": [
    "x = [42, 8, 7, 1, 0, 124, 8897, 555, 3, 67, 99]\n",
    "\n",
    "\n",
    "input_number = int(input())\n",
    "\n",
    "if (input_number in x):\n",
    "    print(\"bingo\")"
   ]
  }
 ],
 "metadata": {
  "kernelspec": {
   "display_name": "Python 3",
   "language": "python",
   "name": "python3"
  },
  "language_info": {
   "codemirror_mode": {
    "name": "ipython",
    "version": 3
   },
   "file_extension": ".py",
   "mimetype": "text/x-python",
   "name": "python",
   "nbconvert_exporter": "python",
   "pygments_lexer": "ipython3",
   "version": "3.8.8"
  }
 },
 "nbformat": 4,
 "nbformat_minor": 5
}
