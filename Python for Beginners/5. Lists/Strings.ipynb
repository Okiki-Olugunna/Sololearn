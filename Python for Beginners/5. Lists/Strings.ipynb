{
 "cells": [
  {
   "cell_type": "markdown",
   "id": "c7c13783",
   "metadata": {},
   "source": [
    "#### Strings\n",
    "\n",
    "Write a program that takes an input string and outputs the 3rd character of the string."
   ]
  },
  {
   "cell_type": "code",
   "execution_count": null,
   "id": "9dd97943",
   "metadata": {},
   "outputs": [],
   "source": [
    "x = input()\n",
    "\n",
    "print(x[2])"
   ]
  }
 ],
 "metadata": {
  "kernelspec": {
   "display_name": "Python 3",
   "language": "python",
   "name": "python3"
  },
  "language_info": {
   "codemirror_mode": {
    "name": "ipython",
    "version": 3
   },
   "file_extension": ".py",
   "mimetype": "text/x-python",
   "name": "python",
   "nbconvert_exporter": "python",
   "pygments_lexer": "ipython3",
   "version": "3.8.8"
  }
 },
 "nbformat": 4,
 "nbformat_minor": 5
}
