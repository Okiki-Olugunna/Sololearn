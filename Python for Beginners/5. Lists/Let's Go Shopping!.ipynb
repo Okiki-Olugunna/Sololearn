{
 "cells": [
  {
   "cell_type": "markdown",
   "id": "aef165b0",
   "metadata": {},
   "source": [
    "#### Let's Go Shopping!\n",
    "\n",
    "You’re making a shopping cart program.\n",
    "\n",
    "The shopping cart is declared as a list of prices and you need to add functionality to take a discount percentage as an input, calculate the discount, and output the total price for the shopping cart.\n",
    "\n",
    "Use a for loop to iterate over the list.\n",
    "\n",
    "Use the following formula to calculate the result of X% discount on $Y price: Y - (Y*X/100)\n",
    "\n",
    "\n",
    "cart = [15, 42, 120, 9, 5, 380]\n",
    "\n",
    "discount = int(input())\n",
    "\n",
    "total = 0"
   ]
  },
  {
   "cell_type": "code",
   "execution_count": null,
   "id": "54fde575",
   "metadata": {},
   "outputs": [],
   "source": [
    "cart = [15, 42, 120, 9, 5, 380]\n",
    "\n",
    "discount = int(input())\n",
    "total = 0\n",
    "\n",
    "\n",
    "for item in cart:\n",
    "    total += (item - (item * discount/100))\n",
    "print(total)"
   ]
  }
 ],
 "metadata": {
  "kernelspec": {
   "display_name": "Python 3",
   "language": "python",
   "name": "python3"
  },
  "language_info": {
   "codemirror_mode": {
    "name": "ipython",
    "version": 3
   },
   "file_extension": ".py",
   "mimetype": "text/x-python",
   "name": "python",
   "nbconvert_exporter": "python",
   "pygments_lexer": "ipython3",
   "version": "3.8.8"
  }
 },
 "nbformat": 4,
 "nbformat_minor": 5
}
