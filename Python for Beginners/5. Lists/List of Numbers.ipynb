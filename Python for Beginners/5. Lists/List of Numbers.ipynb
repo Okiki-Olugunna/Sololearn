{
 "cells": [
  {
   "cell_type": "markdown",
   "id": "56b91d56",
   "metadata": {},
   "source": [
    "#### List of Numbers \n",
    "\n",
    "for loops allow you to easily iterate through lists.\n",
    "\n",
    "Given a list of numbers, calculate their sum using a for loop.\n",
    "\n",
    "x = [42, 8, 7, 1, 0, 124, 8897, 555, 3, 67, 99]"
   ]
  },
  {
   "cell_type": "code",
   "execution_count": null,
   "id": "b2b8c641",
   "metadata": {},
   "outputs": [],
   "source": [
    "x = [42, 8, 7, 1, 0, 124, 8897, 555, 3, 67, 99]\n",
    "\n",
    "\n",
    "total = 0\n",
    "\n",
    "for num in x:\n",
    "    total += num\n",
    "print(total)"
   ]
  }
 ],
 "metadata": {
  "kernelspec": {
   "display_name": "Python 3",
   "language": "python",
   "name": "python3"
  },
  "language_info": {
   "codemirror_mode": {
    "name": "ipython",
    "version": 3
   },
   "file_extension": ".py",
   "mimetype": "text/x-python",
   "name": "python",
   "nbconvert_exporter": "python",
   "pygments_lexer": "ipython3",
   "version": "3.8.8"
  }
 },
 "nbformat": 4,
 "nbformat_minor": 5
}
