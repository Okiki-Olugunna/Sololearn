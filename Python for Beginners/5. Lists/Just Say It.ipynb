{
 "cells": [
  {
   "cell_type": "markdown",
   "id": "b29b6211",
   "metadata": {},
   "source": [
    "#### Just Say It\n",
    "\n",
    "You’re making a voice recognition system.\n",
    "The supported commands are stored in a list.\n",
    "\n",
    "commands = [\"Lights Off\", \"Lock the door\", \"Open the door\", \"Make Coffee\", \"Shut down\"]\n",
    "\n",
    "Complete the program to take a command as input, check if it’s supported, and output \"OK\", if it is and \"Not supported\" if it's not.\n",
    "\n",
    "Sample Input:\n",
    "Lights Off\n",
    "\n",
    "Sample Output:\n",
    "OK"
   ]
  },
  {
   "cell_type": "code",
   "execution_count": null,
   "id": "6520c831",
   "metadata": {},
   "outputs": [],
   "source": [
    "commands = [\"Lights Off\", \"Lock the door\", \"Open the door\", \"Make Coffee\", \"Shut down\"]\n",
    "\n",
    "\n",
    "speech = input()\n",
    "\n",
    "if (speech in commands):\n",
    "    print(\"OK\")\n",
    "else:\n",
    "    print(\"Not supported\")"
   ]
  }
 ],
 "metadata": {
  "kernelspec": {
   "display_name": "Python 3",
   "language": "python",
   "name": "python3"
  },
  "language_info": {
   "codemirror_mode": {
    "name": "ipython",
    "version": 3
   },
   "file_extension": ".py",
   "mimetype": "text/x-python",
   "name": "python",
   "nbconvert_exporter": "python",
   "pygments_lexer": "ipython3",
   "version": "3.8.8"
  }
 },
 "nbformat": 4,
 "nbformat_minor": 5
}
