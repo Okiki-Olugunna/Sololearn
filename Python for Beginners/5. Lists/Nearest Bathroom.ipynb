{
 "cells": [
  {
   "cell_type": "markdown",
   "id": "507e4aed",
   "metadata": {},
   "source": [
    "#### Nearest Bathroom\n",
    "\n",
    "A group of buildings have restrooms every 5th floor.\n",
    "In other words, a building with 12 floors has restrooms on the 5th and 10th floors.\n",
    "\n",
    "Create a program that takes the total number of floors as input and outputs the floors that have restrooms.\n",
    "\n",
    "Sample Input: \n",
    "23\n",
    "\n",
    "Sample Output:\n",
    "\n",
    "5\n",
    "\n",
    "10\n",
    "\n",
    "15\n",
    "\n",
    "20"
   ]
  },
  {
   "cell_type": "code",
   "execution_count": null,
   "id": "ddec84c3",
   "metadata": {},
   "outputs": [],
   "source": [
    "floors = int(input())\n",
    "\n",
    "for i in range(5, floors+1, 5):\n",
    "    print(i)"
   ]
  }
 ],
 "metadata": {
  "kernelspec": {
   "display_name": "Python 3",
   "language": "python",
   "name": "python3"
  },
  "language_info": {
   "codemirror_mode": {
    "name": "ipython",
    "version": 3
   },
   "file_extension": ".py",
   "mimetype": "text/x-python",
   "name": "python",
   "nbconvert_exporter": "python",
   "pygments_lexer": "ipython3",
   "version": "3.8.8"
  }
 },
 "nbformat": 4,
 "nbformat_minor": 5
}
