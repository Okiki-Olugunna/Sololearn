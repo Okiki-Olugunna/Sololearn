{
 "cells": [
  {
   "cell_type": "markdown",
   "id": "2655a98c",
   "metadata": {},
   "source": [
    "#### Name, Please?\n",
    "\n",
    "You need to take the first and last name of a person as input and output the initials (first letters of the first and last name).\n",
    "\n",
    "Sample Input\n",
    "\n",
    "James\n",
    "\n",
    "Smith\n",
    "\n",
    "\n",
    "Sample Output\n",
    "J.S."
   ]
  },
  {
   "cell_type": "code",
   "execution_count": null,
   "id": "75f22ff8",
   "metadata": {},
   "outputs": [],
   "source": [
    "firstname = input()\n",
    "lastname = input()\n",
    "\n",
    "print(firstname[0] + \".\" + lastname[0] + \".\")"
   ]
  }
 ],
 "metadata": {
  "kernelspec": {
   "display_name": "Python 3",
   "language": "python",
   "name": "python3"
  },
  "language_info": {
   "codemirror_mode": {
    "name": "ipython",
    "version": 3
   },
   "file_extension": ".py",
   "mimetype": "text/x-python",
   "name": "python",
   "nbconvert_exporter": "python",
   "pygments_lexer": "ipython3",
   "version": "3.8.8"
  }
 },
 "nbformat": 4,
 "nbformat_minor": 5
}
