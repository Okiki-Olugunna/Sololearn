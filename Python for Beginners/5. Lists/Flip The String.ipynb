{
 "cells": [
  {
   "cell_type": "markdown",
   "id": "edd4c200",
   "metadata": {},
   "source": [
    "#### Flip The String\n",
    "\n",
    "Reversing a string is a common task during coding interviews.\n",
    "\n",
    "Given a string as input, output its reverse.\n",
    "\n",
    "Sample Input: \n",
    "hello world\n",
    "\n",
    "Sample Output:\n",
    "dlrow olleh"
   ]
  },
  {
   "cell_type": "code",
   "execution_count": null,
   "id": "d74ae50c",
   "metadata": {},
   "outputs": [],
   "source": [
    "word = input()\n",
    "\n",
    "print(word[::-1])"
   ]
  }
 ],
 "metadata": {
  "kernelspec": {
   "display_name": "Python 3",
   "language": "python",
   "name": "python3"
  },
  "language_info": {
   "codemirror_mode": {
    "name": "ipython",
    "version": 3
   },
   "file_extension": ".py",
   "mimetype": "text/x-python",
   "name": "python",
   "nbconvert_exporter": "python",
   "pygments_lexer": "ipython3",
   "version": "3.8.8"
  }
 },
 "nbformat": 4,
 "nbformat_minor": 5
}
