{
 "cells": [
  {
   "cell_type": "markdown",
   "id": "362095f1",
   "metadata": {},
   "source": [
    "#### The Last Character\n",
    "\n",
    "Write a program that takes a string as input and outputs the last character of that string."
   ]
  },
  {
   "cell_type": "code",
   "execution_count": null,
   "id": "0a953c92",
   "metadata": {},
   "outputs": [],
   "source": [
    "your_word = input()\n",
    "\n",
    "print(your_word[-1])"
   ]
  }
 ],
 "metadata": {
  "kernelspec": {
   "display_name": "Python 3",
   "language": "python",
   "name": "python3"
  },
  "language_info": {
   "codemirror_mode": {
    "name": "ipython",
    "version": 3
   },
   "file_extension": ".py",
   "mimetype": "text/x-python",
   "name": "python",
   "nbconvert_exporter": "python",
   "pygments_lexer": "ipython3",
   "version": "3.8.8"
  }
 },
 "nbformat": 4,
 "nbformat_minor": 5
}
