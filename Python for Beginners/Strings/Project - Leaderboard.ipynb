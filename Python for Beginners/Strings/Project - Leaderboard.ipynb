{
 "cells": [
  {
   "cell_type": "markdown",
   "id": "9801c490",
   "metadata": {},
   "source": [
    "#### Project - Leaderboard"
   ]
  },
  {
   "cell_type": "markdown",
   "id": "e62321f0",
   "metadata": {},
   "source": [
    "###### You need to make a program for a leaderboard.\n",
    "The program needs to output the numbers 1 to 9, \n",
    "each on a separate line, followed by a dot:\n",
    "1.\n",
    "2.\n",
    "3.\n",
    "..."
   ]
  },
  {
   "cell_type": "code",
   "execution_count": 1,
   "id": "c116ac45",
   "metadata": {
    "scrolled": true
   },
   "outputs": [
    {
     "name": "stdout",
     "output_type": "stream",
     "text": [
      "1.\n",
      "2.\n",
      "3.\n",
      "4.\n",
      "5.\n",
      "6.\n",
      "7.\n",
      "8.\n",
      "9.\n"
     ]
    }
   ],
   "source": [
    "number = 1\n",
    "dot = \".\"\n",
    "\n",
    "while number <= 9:\n",
    "    print(str(number) + dot)\n",
    "    number +=1"
   ]
  }
 ],
 "metadata": {
  "kernelspec": {
   "display_name": "Python 3",
   "language": "python",
   "name": "python3"
  },
  "language_info": {
   "codemirror_mode": {
    "name": "ipython",
    "version": 3
   },
   "file_extension": ".py",
   "mimetype": "text/x-python",
   "name": "python",
   "nbconvert_exporter": "python",
   "pygments_lexer": "ipython3",
   "version": "3.8.8"
  }
 },
 "nbformat": 4,
 "nbformat_minor": 5
}
