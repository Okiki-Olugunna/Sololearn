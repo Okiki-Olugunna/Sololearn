{
 "cells": [
  {
   "cell_type": "markdown",
   "id": "138bdd74",
   "metadata": {},
   "source": [
    "#### Grade Analysis\n",
    "\n",
    "You have a dataframe that includes grades of students.\n",
    "\n",
    "data <- data.frame(\n",
    "    \"id\" = c(1:10),\n",
    "    \"grade\" = c(75, 26, 54, 90, 86, 93, 48, 71, 66, 99)\n",
    "\n",
    "Your program needs to take a number as input, and output the number of students who have a grade greater than the given input.\n",
    "\n",
    "For example, for the input 89, the output should be:\n",
    "[1] 3\n",
    "\n",
    "as 3 students have grades greater than 89."
   ]
  },
  {
   "cell_type": "code",
   "execution_count": null,
   "id": "bf62b023",
   "metadata": {},
   "outputs": [],
   "source": [
    "input <- readLines('stdin')\n",
    "x <- as.integer(input[1])\n",
    "\n",
    "data <- data.frame(\n",
    "    \"id\" = c(1:10),\n",
    "    \"grade\" = c(75, 26, 54, 90, 86, 93, 48, 71, 66, 99)\n",
    ")\n",
    "\n",
    "num_of_students <- length(data[data$grade > x, 2])\n",
    "\n",
    "print(num_of_students)"
   ]
  }
 ],
 "metadata": {
  "kernelspec": {
   "display_name": "R",
   "language": "R",
   "name": "ir"
  },
  "language_info": {
   "codemirror_mode": "r",
   "file_extension": ".r",
   "mimetype": "text/x-r-source",
   "name": "R",
   "pygments_lexer": "r",
   "version": "3.6.1"
  }
 },
 "nbformat": 4,
 "nbformat_minor": 5
}
