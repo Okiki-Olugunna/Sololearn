{
 "cells": [
  {
   "cell_type": "markdown",
   "id": "4c4ddb72",
   "metadata": {},
   "source": [
    "#### Cash Out\n",
    "\n",
    "An ATM machine takes the amount to be withdrawn as input and calls the corresponding withdrawal method.\n",
    "\n",
    "def withdraw(amount):\n",
    "   print(str(amount) + \" withdrawn!\")\n",
    "\n",
    "\n",
    "In case the input is not a number, the machine should output \"Please enter a number\".\n",
    "\n",
    "Use exception handling to take a number as input, call the withdraw() method with the input as its argument, and output \"Please enter a number\", in case the input is not a number.\n",
    "\n",
    "A ValueError is raised when you try to convert a non-integer to an integer using int()."
   ]
  },
  {
   "cell_type": "code",
   "execution_count": 2,
   "id": "0a2fc476",
   "metadata": {},
   "outputs": [
    {
     "name": "stdout",
     "output_type": "stream",
     "text": [
      "test\n",
      "Please enter a number\n"
     ]
    }
   ],
   "source": [
    "def withdraw(amount):\n",
    "   print(f\"{amount} withdrawn!\")\n",
    "\n",
    "\n",
    "try:\n",
    "   mymoney = int(input())\n",
    "   withdraw(mymoney)\n",
    "\n",
    "except ValueError:\n",
    "   print(\"Please enter a number\")"
   ]
  },
  {
   "cell_type": "code",
   "execution_count": 4,
   "id": "b433adaa",
   "metadata": {},
   "outputs": [
    {
     "name": "stdout",
     "output_type": "stream",
     "text": [
      "55\n",
      "£55 withdrawn!\n"
     ]
    }
   ],
   "source": [
    "def withdraw(amount):\n",
    "   print(f\"£{amount} withdrawn!\")\n",
    "\n",
    "\n",
    "try:\n",
    "   mymoney = int(input())\n",
    "   withdraw(mymoney)\n",
    "\n",
    "except ValueError:\n",
    "   print(\"Please enter a number\")"
   ]
  }
 ],
 "metadata": {
  "kernelspec": {
   "display_name": "Python 3",
   "language": "python",
   "name": "python3"
  },
  "language_info": {
   "codemirror_mode": {
    "name": "ipython",
    "version": 3
   },
   "file_extension": ".py",
   "mimetype": "text/x-python",
   "name": "python",
   "nbconvert_exporter": "python",
   "pygments_lexer": "ipython3",
   "version": "3.8.8"
  }
 },
 "nbformat": 4,
 "nbformat_minor": 5
}
