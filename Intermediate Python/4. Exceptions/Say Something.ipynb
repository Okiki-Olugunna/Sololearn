{
 "cells": [
  {
   "cell_type": "markdown",
   "id": "a49a9b71",
   "metadata": {},
   "source": [
    "#### Say Something\n",
    "\n",
    "You are making a program to post tweets. Each tweet must not exceed 42 characters.\n",
    "\n",
    "tweet = input()\n",
    "\n",
    "try:\n",
    "    #your code goes here\n",
    "    \n",
    "except:\n",
    "    print(\"Error\")\n",
    "else:\n",
    "    print(\"Posted\")\n",
    "\n",
    "Complete the program to raise an exception, in case the length of the tweet is more than 42 characters."
   ]
  },
  {
   "cell_type": "code",
   "execution_count": 1,
   "id": "b32e37b6",
   "metadata": {},
   "outputs": [
    {
     "name": "stdout",
     "output_type": "stream",
     "text": [
      "this is a random tweet\n",
      "Posted\n"
     ]
    }
   ],
   "source": [
    "tweet = input()\n",
    "\n",
    "\n",
    "try:\n",
    "    len(tweet) <= 42\n",
    "\n",
    "    if len(tweet) > 42:\n",
    "        raise Error \n",
    "\n",
    "except:\n",
    "    print(\"Error\")\n",
    "\n",
    "else:\n",
    "    print(\"Posted\")"
   ]
  }
 ],
 "metadata": {
  "kernelspec": {
   "display_name": "Python 3",
   "language": "python",
   "name": "python3"
  },
  "language_info": {
   "codemirror_mode": {
    "name": "ipython",
    "version": 3
   },
   "file_extension": ".py",
   "mimetype": "text/x-python",
   "name": "python",
   "nbconvert_exporter": "python",
   "pygments_lexer": "ipython3",
   "version": "3.8.8"
  }
 },
 "nbformat": 4,
 "nbformat_minor": 5
}
