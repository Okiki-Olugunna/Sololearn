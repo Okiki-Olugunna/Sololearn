{
 "cells": [
  {
   "cell_type": "markdown",
   "id": "51d1870f",
   "metadata": {},
   "source": [
    "#### Chef's Kiss\n",
    "\n",
    "You are making a digital menu to order food.\n",
    "The menu is stored as a list of items.\n",
    "\n",
    "menu = ['Fries', 'Sandwich', 'Cheeseburger', 'Coffee', 'Soda']\n",
    "\n",
    "Your program needs to take the index of the item as input and output the item name.\n",
    "In case the index is not valid, you should output \"Item not found\".\n",
    "In case the index is valid and the item name is output successfully, you should output \"Thanks for your order\".\n",
    "\n",
    "Sample Input:\n",
    "2\n",
    "\n",
    "Sample Output:\n",
    "\n",
    "Cheeseburger\n",
    "\n",
    "Thanks for your order\n",
    "\n",
    "\n",
    "_Handle the cases when the input is out of range, as well as when it is not a number._"
   ]
  },
  {
   "cell_type": "code",
   "execution_count": 1,
   "id": "c0b6cb1e",
   "metadata": {},
   "outputs": [
    {
     "name": "stdout",
     "output_type": "stream",
     "text": [
      "2\n",
      "Cheeseburger\n",
      "Thanks for your order\n"
     ]
    }
   ],
   "source": [
    "menu = ['Fries', 'Sandwich', 'Cheeseburger', 'Coffee', 'Soda']\n",
    "\n",
    "\n",
    "try:\n",
    "    hungryhuman = int(input())\n",
    "    print(menu[hungryhuman])\n",
    "\n",
    "except (IndexError, TypeError):\n",
    "    print(\"Item not found\")\n",
    " \n",
    "else:\n",
    "    print(\"Thanks for your order\")"
   ]
  },
  {
   "cell_type": "code",
   "execution_count": null,
   "id": "e3f4656c",
   "metadata": {},
   "outputs": [],
   "source": [
    "# to handle every exception:\n",
    "\n",
    "menu = ['Fries', 'Sandwich', 'Cheeseburger', 'Coffee', 'Soda']\n",
    "\n",
    "\n",
    "try:\n",
    "    hungryhuman = int(input())\n",
    "    print(menu[hungryhuman])\n",
    "\n",
    "except:\n",
    "    print(\"Item not found\")\n",
    " \n",
    "else:\n",
    "    print(\"Thanks for your order\")"
   ]
  }
 ],
 "metadata": {
  "kernelspec": {
   "display_name": "Python 3",
   "language": "python",
   "name": "python3"
  },
  "language_info": {
   "codemirror_mode": {
    "name": "ipython",
    "version": 3
   },
   "file_extension": ".py",
   "mimetype": "text/x-python",
   "name": "python",
   "nbconvert_exporter": "python",
   "pygments_lexer": "ipython3",
   "version": "3.8.8"
  }
 },
 "nbformat": 4,
 "nbformat_minor": 5
}
