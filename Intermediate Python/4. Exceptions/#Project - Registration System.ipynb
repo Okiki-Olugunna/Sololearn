{
 "cells": [
  {
   "cell_type": "markdown",
   "id": "296c1ebc",
   "metadata": {},
   "source": [
    "### Project - Registration System\n",
    "\n",
    "You are making a registration form for a website.\n",
    "The form has a name field, which should be more than 3 characters long.\n",
    "Any name that has less than 4 characters is invalid.\n",
    "\n",
    "try:\n",
    "    name = input()\n",
    "    #your code goes here\n",
    "    \n",
    "except:\n",
    "    print(\"Invalid Name\")\n",
    "\n",
    "Complete the code to take the name as input, and raise an exception if the name is invalid, outputting \"Invalid Name\". Output \"Account Created\" if the name is valid.\n",
    "\n",
    "Sample Input:\n",
    "abc\n",
    "\n",
    "Sample Output:\n",
    "Invalid Name"
   ]
  },
  {
   "cell_type": "code",
   "execution_count": 1,
   "id": "9987deb8",
   "metadata": {},
   "outputs": [
    {
     "name": "stdout",
     "output_type": "stream",
     "text": [
      "demoaccount\n",
      "Account Created\n"
     ]
    }
   ],
   "source": [
    "try:\n",
    "    name = input()\n",
    "    \n",
    "    if len(name) <= 3:\n",
    "        raise Error \n",
    "    \n",
    "except:\n",
    "    print(\"Invalid Name\")\n",
    "\n",
    "else:\n",
    "    print(\"Account Created\")"
   ]
  }
 ],
 "metadata": {
  "kernelspec": {
   "display_name": "Python 3",
   "language": "python",
   "name": "python3"
  },
  "language_info": {
   "codemirror_mode": {
    "name": "ipython",
    "version": 3
   },
   "file_extension": ".py",
   "mimetype": "text/x-python",
   "name": "python",
   "nbconvert_exporter": "python",
   "pygments_lexer": "ipython3",
   "version": "3.8.8"
  }
 },
 "nbformat": 4,
 "nbformat_minor": 5
}
