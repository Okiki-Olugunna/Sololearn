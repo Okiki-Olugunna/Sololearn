{
 "cells": [
  {
   "cell_type": "markdown",
   "id": "7625e946",
   "metadata": {},
   "source": [
    "#### Reading Through\n",
    "\n",
    "You need to make a program to read the given number of characters of a file.\n",
    "\n",
    "Take a number N as input and output the first N characters of the books.txt file.\n",
    "\n",
    "file = open(\"/usercode/files/books.txt\")\n",
    "\n",
    "The given code opens the books.txt file. Use the file object to read the content of the file."
   ]
  },
  {
   "cell_type": "code",
   "execution_count": null,
   "id": "1e2db38a",
   "metadata": {},
   "outputs": [],
   "source": [
    "file = open(\"/usercode/files/books.txt\")\n",
    "\n",
    "N = int(input())\n",
    "\n",
    "print(file.read(N))"
   ]
  }
 ],
 "metadata": {
  "kernelspec": {
   "display_name": "Python 3",
   "language": "python",
   "name": "python3"
  },
  "language_info": {
   "codemirror_mode": {
    "name": "ipython",
    "version": 3
   },
   "file_extension": ".py",
   "mimetype": "text/x-python",
   "name": "python",
   "nbconvert_exporter": "python",
   "pygments_lexer": "ipython3",
   "version": "3.8.8"
  }
 },
 "nbformat": 4,
 "nbformat_minor": 5
}
