{
 "cells": [
  {
   "cell_type": "markdown",
   "id": "2f60114e",
   "metadata": {},
   "source": [
    "### Project - Title Encoder\n",
    "\n",
    "You are given a file named \"books.txt\" with book titles, each on a separate line.\n",
    "\n",
    "file = open(\"/usercode/files/books.txt\", \"r\")\n",
    "\n",
    "#your code goes here\n",
    "\n",
    "file.close()\n",
    "\n",
    "\n",
    "To encode the book titles you need to take the first letters of each word in the title and combine them.\n",
    "\n",
    "For example, for the book title \"Game of Thrones\" the encoded version should be \"GoT\".\n",
    "\n",
    "Complete the program to read the book title from the file and output the encoded versions, each on a new line.\n",
    "\n",
    "You can use the .split() method to get a list of words in a string."
   ]
  },
  {
   "cell_type": "code",
   "execution_count": null,
   "id": "047cfb4e",
   "metadata": {},
   "outputs": [],
   "source": [
    "file = open(\"/usercode/files/books.txt\", \"r\")\n",
    "\n",
    "\n",
    "encoded = \"\" #created an empty string\n",
    "\n",
    "for i in file:\n",
    "    x = i.split() #split the words\n",
    "    for ch in x:\n",
    "        encoded += ch[0] #using the first character of each word\n",
    "    print(encoded)\n",
    "    encoded = \"\" # reset for the next book\n",
    "\n",
    "file.close()"
   ]
  }
 ],
 "metadata": {
  "kernelspec": {
   "display_name": "Python 3",
   "language": "python",
   "name": "python3"
  },
  "language_info": {
   "codemirror_mode": {
    "name": "ipython",
    "version": 3
   },
   "file_extension": ".py",
   "mimetype": "text/x-python",
   "name": "python",
   "nbconvert_exporter": "python",
   "pygments_lexer": "ipython3",
   "version": "3.8.8"
  }
 },
 "nbformat": 4,
 "nbformat_minor": 5
}
