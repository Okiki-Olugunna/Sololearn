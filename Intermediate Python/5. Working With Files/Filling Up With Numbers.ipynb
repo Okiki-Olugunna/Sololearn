{
 "cells": [
  {
   "cell_type": "markdown",
   "id": "1171c31f",
   "metadata": {},
   "source": [
    "#### Filling Up With Numbers\n",
    "\n",
    "Take a number N as input and write the numbers 1 to N to the file \"numbers.txt\", each number on a separate line.\n",
    "\n",
    "n = int(input())\n",
    "\n",
    "file = open(\"numbers.txt\", \"w+\")\n",
    "#your code goes here\n",
    "\n",
    "\n",
    "f = open(\"numbers.txt\", \"r\")\n",
    "print(f.read())\n",
    "f.close()\n",
    "\n",
    "Sample Input:\n",
    "4\n",
    "\n",
    "Sample Output:\n",
    "\n",
    "1\n",
    "\n",
    "2\n",
    "\n",
    "3\n",
    "\n",
    "4\n",
    "\n",
    "The given code reads the content of the file and outputs it."
   ]
  },
  {
   "cell_type": "code",
   "execution_count": null,
   "id": "4ea46725",
   "metadata": {},
   "outputs": [],
   "source": [
    "n = int(input())\n",
    "\n",
    "file = open(\"numbers.txt\", \"w+\")\n",
    "\n",
    "mynum = 1\n",
    "\n",
    "while mynum <= n:\n",
    "    file.write(str(mynum) + \"\\n\")\n",
    "    mynum += 1\n",
    "    \n",
    "file.close()\n",
    "\n",
    "\n",
    "f = open(\"numbers.txt\", \"r\")\n",
    "print(f.read())\n",
    "f.close()"
   ]
  }
 ],
 "metadata": {
  "kernelspec": {
   "display_name": "Python 3",
   "language": "python",
   "name": "python3"
  },
  "language_info": {
   "codemirror_mode": {
    "name": "ipython",
    "version": 3
   },
   "file_extension": ".py",
   "mimetype": "text/x-python",
   "name": "python",
   "nbconvert_exporter": "python",
   "pygments_lexer": "ipython3",
   "version": "3.8.8"
  }
 },
 "nbformat": 4,
 "nbformat_minor": 5
}
