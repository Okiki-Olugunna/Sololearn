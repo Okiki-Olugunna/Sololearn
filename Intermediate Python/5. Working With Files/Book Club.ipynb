{
 "cells": [
  {
   "cell_type": "markdown",
   "id": "260be3f3",
   "metadata": {},
   "source": [
    "#### Book Club\n",
    "\n",
    "You are given a books.txt file, which includes book titles, each on a separate line.\n",
    "\n",
    "with open(\"/usercode/files/books.txt\") as f:\n",
    "\n",
    "\n",
    "Create a program to output how many words each title contains, in the following format:\n",
    "\n",
    "Line 1: 3 words\n",
    "\n",
    "Line 2: 5 words\n",
    "\n",
    "...\n",
    "\n",
    "Make sure to match the above mentioned format in the output."
   ]
  },
  {
   "cell_type": "code",
   "execution_count": null,
   "id": "6e0123ff",
   "metadata": {},
   "outputs": [],
   "source": [
    "with open(\"/usercode/files/books.txt\") as f:\n",
    "   line = 1\n",
    "\n",
    "   for i in f:\n",
    "      print(\"Line \" + str(line) + \": \" + str(len(i.split())) + \" words\")\n",
    "      line += 1"
   ]
  }
 ],
 "metadata": {
  "kernelspec": {
   "display_name": "Python 3",
   "language": "python",
   "name": "python3"
  },
  "language_info": {
   "codemirror_mode": {
    "name": "ipython",
    "version": 3
   },
   "file_extension": ".py",
   "mimetype": "text/x-python",
   "name": "python",
   "nbconvert_exporter": "python",
   "pygments_lexer": "ipython3",
   "version": "3.8.8"
  }
 },
 "nbformat": 4,
 "nbformat_minor": 5
}
