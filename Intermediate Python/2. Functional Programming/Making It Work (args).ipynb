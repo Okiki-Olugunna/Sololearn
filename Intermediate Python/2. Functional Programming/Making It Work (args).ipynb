{
 "cells": [
  {
   "cell_type": "markdown",
   "id": "9bfb796e",
   "metadata": {},
   "source": [
    "#### Making It Work\n",
    "\n",
    "The given code defined a function called my_min(), which takes two arguments and returns the smaller one.\n",
    "\n",
    "def my_min(x, y):\n",
    "    if x < y:\n",
    "        return x\n",
    "    else:\n",
    "        return y\n",
    "\n",
    "print(my_min(8, 13, 4, 42, 120, 7))\n",
    "\n",
    "You need to improve the function, so that it can take any number of variables, so that the function call works.\n",
    "\n",
    "Remember, *args can be accessed inside the function as a tuple."
   ]
  },
  {
   "cell_type": "code",
   "execution_count": 1,
   "id": "5f5d05b5",
   "metadata": {},
   "outputs": [
    {
     "name": "stdout",
     "output_type": "stream",
     "text": [
      "4\n"
     ]
    }
   ],
   "source": [
    "def my_min(x, *args):\n",
    "    for i in args:\n",
    "        if x < i:\n",
    "            new_min = x\n",
    "        else:\n",
    "            new_min = x = i\n",
    "    return new_min\n",
    "\n",
    "print(my_min(8, 13, 4, 42, 120, 7))"
   ]
  }
 ],
 "metadata": {
  "kernelspec": {
   "display_name": "Python 3",
   "language": "python",
   "name": "python3"
  },
  "language_info": {
   "codemirror_mode": {
    "name": "ipython",
    "version": 3
   },
   "file_extension": ".py",
   "mimetype": "text/x-python",
   "name": "python",
   "nbconvert_exporter": "python",
   "pygments_lexer": "ipython3",
   "version": "3.8.8"
  }
 },
 "nbformat": 4,
 "nbformat_minor": 5
}
