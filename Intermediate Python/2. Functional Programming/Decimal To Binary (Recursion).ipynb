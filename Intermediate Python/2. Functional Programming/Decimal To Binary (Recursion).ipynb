{
 "cells": [
  {
   "cell_type": "markdown",
   "id": "3c9b1534",
   "metadata": {},
   "source": [
    "#### Decimal To Binary\n",
    "\n",
    "The given code defines a recursive function convert(), which needs to convert its argument from decimal to binary.\n",
    "However, the code has an error.\n",
    "\n",
    "def convert(num): \n",
    "   return (num % 2 + 10 * convert(num // 2))\n",
    "\n",
    "Fix the code by adding the base case for the recursion, then take a number from user input and call the convert() function, to output the result.\n",
    "\n",
    "Sample Input:\n",
    "8\n",
    "\n",
    "Sample Output:\n",
    "1000\n",
    "\n",
    "The binary representation of 8 is 1000."
   ]
  },
  {
   "cell_type": "code",
   "execution_count": 1,
   "id": "410908e9",
   "metadata": {},
   "outputs": [
    {
     "name": "stdout",
     "output_type": "stream",
     "text": [
      "8\n",
      "1000\n"
     ]
    }
   ],
   "source": [
    "def convert(num): \n",
    "   if num == 0:\n",
    "      return 0\n",
    "   elif num < 2:\n",
    "      return num\n",
    "   else:\n",
    "      return (num % 2 + 10 * convert(num // 2)) \n",
    "\n",
    "\n",
    "number = int(input())\n",
    "\n",
    "print(convert(number))"
   ]
  }
 ],
 "metadata": {
  "kernelspec": {
   "display_name": "Python 3",
   "language": "python",
   "name": "python3"
  },
  "language_info": {
   "codemirror_mode": {
    "name": "ipython",
    "version": 3
   },
   "file_extension": ".py",
   "mimetype": "text/x-python",
   "name": "python",
   "nbconvert_exporter": "python",
   "pygments_lexer": "ipython3",
   "version": "3.8.8"
  }
 },
 "nbformat": 4,
 "nbformat_minor": 5
}
