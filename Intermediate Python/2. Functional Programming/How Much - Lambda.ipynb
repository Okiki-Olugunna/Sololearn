{
 "cells": [
  {
   "cell_type": "markdown",
   "id": "aa64ed43",
   "metadata": {},
   "source": [
    "#### How Much?\n",
    "\n",
    "You are given code that should calculate the corresponding percentage of a price.\n",
    "Somebody wrote a lambda function to accomplish that, however the lambda is wrong.\n",
    "\n",
    "price = int(input())\n",
    "perc = int(input())\n",
    "\n",
    "res = (lambda x,y:x-y)(price, perc)\n",
    "\n",
    "print(res)\n",
    "\n",
    "Fix the code to output the given percentage of the price.\n",
    "\n",
    "Sample Input:\n",
    "\n",
    "50\n",
    "\n",
    "10\n",
    "\n",
    "Sample Output:\n",
    "5.0"
   ]
  },
  {
   "cell_type": "code",
   "execution_count": 1,
   "id": "c9a0863d",
   "metadata": {},
   "outputs": [
    {
     "name": "stdout",
     "output_type": "stream",
     "text": [
      "50\n",
      "10\n",
      "5.0\n"
     ]
    }
   ],
   "source": [
    "price = int(input())\n",
    "perc = int(input())\n",
    "\n",
    "res = (lambda x,y : x*y/100)(price, perc)\n",
    "\n",
    "print(res)"
   ]
  }
 ],
 "metadata": {
  "kernelspec": {
   "display_name": "Python 3",
   "language": "python",
   "name": "python3"
  },
  "language_info": {
   "codemirror_mode": {
    "name": "ipython",
    "version": 3
   },
   "file_extension": ".py",
   "mimetype": "text/x-python",
   "name": "python",
   "nbconvert_exporter": "python",
   "pygments_lexer": "ipython3",
   "version": "3.8.8"
  }
 },
 "nbformat": 4,
 "nbformat_minor": 5
}
