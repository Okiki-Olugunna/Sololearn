{
 "cells": [
  {
   "cell_type": "markdown",
   "id": "3df5c273",
   "metadata": {},
   "source": [
    "#### Animal Lifetimes\n",
    "\n",
    "You are analyzing a data set of animals. The data is a list of numbers, which represent the ages of animals.\n",
    "\n",
    "ages = [3, 1, 9, 0.4, 7, 12, 2, 1.7, 5.7, 42, 6.7, 14.5, 21]\n",
    "\n",
    "You need to take a number as input and output how many of the animals are older than the given number."
   ]
  },
  {
   "cell_type": "code",
   "execution_count": 1,
   "id": "6b985307",
   "metadata": {},
   "outputs": [
    {
     "name": "stdout",
     "output_type": "stream",
     "text": [
      "4\n",
      "8\n"
     ]
    }
   ],
   "source": [
    "ages = [3, 1, 9, 0.4, 7, 12, 2, 1.7, 5.7, 42, 6.7, 14.5, 21]\n",
    "\n",
    "number = int(input())\n",
    "\n",
    "animals = list(filter(lambda x: x>number, ages))\n",
    "\n",
    "print(len(animals))"
   ]
  }
 ],
 "metadata": {
  "kernelspec": {
   "display_name": "Python 3",
   "language": "python",
   "name": "python3"
  },
  "language_info": {
   "codemirror_mode": {
    "name": "ipython",
    "version": 3
   },
   "file_extension": ".py",
   "mimetype": "text/x-python",
   "name": "python",
   "nbconvert_exporter": "python",
   "pygments_lexer": "ipython3",
   "version": "3.8.8"
  }
 },
 "nbformat": 4,
 "nbformat_minor": 5
}
