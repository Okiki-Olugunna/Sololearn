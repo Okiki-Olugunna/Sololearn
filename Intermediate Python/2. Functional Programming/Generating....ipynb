{
 "cells": [
  {
   "cell_type": "markdown",
   "id": "ee240079",
   "metadata": {},
   "source": [
    "#### Generating...\n",
    "\n",
    "Finding prime numbers is a common coding interview task.\n",
    "The given code defines a function isPrime(x), which returns True if x is prime.\n",
    "\n",
    "def isPrime(x):\n",
    "    if x < 2:\n",
    "        return False\n",
    "    elif x == 2:\n",
    "        return True  \n",
    "    for n in range(2, x):\n",
    "        if x % n ==0:\n",
    "            return False\n",
    "    return True\n",
    "\n",
    "def primeGenerator(a, b):\n",
    "\n",
    "    \n",
    "f = int(input())\n",
    "t = int(input())\n",
    "\n",
    "print(list(primeGenerator(f, t)))\n",
    "\n",
    "\n",
    "You need to create a generator function primeGenerator(), that will take two numbers as arguments, and use the isPrime() function to output the prime numbers in the given range (between the two arguments).\n",
    "\n",
    "Sample Input:\n",
    "\n",
    "10\n",
    "\n",
    "20\n",
    "\n",
    "Sample Output:\n",
    "[11, 13, 17, 19]"
   ]
  },
  {
   "cell_type": "code",
   "execution_count": 1,
   "id": "583d37f2",
   "metadata": {},
   "outputs": [
    {
     "name": "stdout",
     "output_type": "stream",
     "text": [
      "10\n",
      "20\n",
      "[11, 13, 17, 19]\n"
     ]
    }
   ],
   "source": [
    "def isPrime(x):\n",
    "    if x < 2:\n",
    "        return False\n",
    "    elif x == 2:\n",
    "        return True  \n",
    "    for n in range(2, x):\n",
    "        if x % n ==0:\n",
    "            return False\n",
    "    return True\n",
    "\n",
    "def primeGenerator(a, b):\n",
    "    for i in range(a, b):\n",
    "        if isPrime(i) == True:\n",
    "            yield i\n",
    "    \n",
    "f = int(input())\n",
    "t = int(input())\n",
    "\n",
    "print(list(primeGenerator(f, t)))"
   ]
  }
 ],
 "metadata": {
  "kernelspec": {
   "display_name": "Python 3",
   "language": "python",
   "name": "python3"
  },
  "language_info": {
   "codemirror_mode": {
    "name": "ipython",
    "version": 3
   },
   "file_extension": ".py",
   "mimetype": "text/x-python",
   "name": "python",
   "nbconvert_exporter": "python",
   "pygments_lexer": "ipython3",
   "version": "3.8.8"
  }
 },
 "nbformat": 4,
 "nbformat_minor": 5
}
