{
 "cells": [
  {
   "cell_type": "markdown",
   "id": "9929597f",
   "metadata": {},
   "source": [
    "#### Getting A Raise!\n",
    "\n",
    "You work on a payroll program.\n",
    "\n",
    "Given a list of salaries, \n",
    "\n",
    "salaries = [2000, 1800, 3100, 4400, 1500]\n",
    "\n",
    "you need to take the bonus everybody is getting as input and increase all the salaries by that amount.\n",
    "\n",
    "Output the resulting list."
   ]
  },
  {
   "cell_type": "code",
   "execution_count": 2,
   "id": "dfd57673",
   "metadata": {},
   "outputs": [
    {
     "name": "stdout",
     "output_type": "stream",
     "text": [
      "420\n",
      "[2420, 2220, 3520, 4820, 1920]\n"
     ]
    }
   ],
   "source": [
    "salaries = [2000, 1800, 3100, 4400, 1500]\n",
    "\n",
    "bonus = int(input())\n",
    "\n",
    "new_salary = list(map(lambda x: x+bonus, salaries))\n",
    "\n",
    "print(new_salary)"
   ]
  }
 ],
 "metadata": {
  "kernelspec": {
   "display_name": "Python 3",
   "language": "python",
   "name": "python3"
  },
  "language_info": {
   "codemirror_mode": {
    "name": "ipython",
    "version": 3
   },
   "file_extension": ".py",
   "mimetype": "text/x-python",
   "name": "python",
   "nbconvert_exporter": "python",
   "pygments_lexer": "ipython3",
   "version": "3.8.8"
  }
 },
 "nbformat": 4,
 "nbformat_minor": 5
}
