{
 "cells": [
  {
   "cell_type": "markdown",
   "id": "360ee327",
   "metadata": {},
   "source": [
    "#### Collecting Reports\n",
    "\n",
    "You are working on an invoicing system.\n",
    "The system has an already defined invoice() function, which takes the invoice number as argument and outputs it.\n",
    "You need to add a decorator for the invoice() function, that will print the invoice in the following format:\n",
    "\n",
    "Sample Input:\n",
    "42"
   ]
  },
  {
   "cell_type": "code",
   "execution_count": null,
   "id": "0bfe7b40",
   "metadata": {},
   "outputs": [],
   "source": [
    "Sample Output:\n",
    "\n",
    "\" *** \"\n",
    "INVOICE #42\n",
    "\" *** \"\n",
    "END OF PAGE"
   ]
  },
  {
   "cell_type": "code",
   "execution_count": 2,
   "id": "6d58732a",
   "metadata": {},
   "outputs": [
    {
     "name": "stdout",
     "output_type": "stream",
     "text": [
      "42\n",
      "***\n",
      "INVOICE #42\n",
      "***\n",
      "END OF PAGE\n"
     ]
    }
   ],
   "source": [
    "def decor(func):\n",
    "    def style(arg):\n",
    "        print(\"***\")\n",
    "        func(arg)\n",
    "        print(\"***\")\n",
    "        print(\"END OF PAGE\")\n",
    "    return style\n",
    "\n",
    "@decor\n",
    "def invoice(num):\n",
    "    print(\"INVOICE #\" +num)\n",
    "\n",
    "invoice(input())"
   ]
  }
 ],
 "metadata": {
  "kernelspec": {
   "display_name": "Python 3",
   "language": "python",
   "name": "python3"
  },
  "language_info": {
   "codemirror_mode": {
    "name": "ipython",
    "version": 3
   },
   "file_extension": ".py",
   "mimetype": "text/x-python",
   "name": "python",
   "nbconvert_exporter": "python",
   "pygments_lexer": "ipython3",
   "version": "3.8.8"
  }
 },
 "nbformat": 4,
 "nbformat_minor": 5
}
