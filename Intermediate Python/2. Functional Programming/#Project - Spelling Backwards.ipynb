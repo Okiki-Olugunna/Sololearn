{
 "cells": [
  {
   "cell_type": "markdown",
   "id": "d6e33b17",
   "metadata": {},
   "source": [
    "### Project - Spelling Backwards\n",
    "\n",
    "Given a string as input, use recursion to output each letter of the strings in reverse order, on a new line.\n",
    "\n",
    "Sample Input:\n",
    "HELLO\n",
    "\n",
    "Sample Output:\n",
    "\n",
    "O\n",
    "\n",
    "L\n",
    "\n",
    "L\n",
    "\n",
    "E\n",
    "\n",
    "H\n",
    "\n",
    "Complete the recursive spell() function to produce the expected result.\n",
    "\n",
    "def spell(txt):\n",
    "    \n",
    "\n",
    "txt = input()\n",
    "spell(txt)"
   ]
  },
  {
   "cell_type": "code",
   "execution_count": 1,
   "id": "7eee1247",
   "metadata": {},
   "outputs": [
    {
     "name": "stdout",
     "output_type": "stream",
     "text": [
      "HELLO\n",
      "O\n",
      "L\n",
      "L\n",
      "E\n",
      "H\n"
     ]
    }
   ],
   "source": [
    "def spell(txt):\n",
    "    new_text = txt[::-1]\n",
    "    for i in new_text:\n",
    "        letter = i\n",
    "        print(letter)\n",
    "    \n",
    "\n",
    "txt = input()\n",
    "spell(txt)"
   ]
  }
 ],
 "metadata": {
  "kernelspec": {
   "display_name": "Python 3",
   "language": "python",
   "name": "python3"
  },
  "language_info": {
   "codemirror_mode": {
    "name": "ipython",
    "version": 3
   },
   "file_extension": ".py",
   "mimetype": "text/x-python",
   "name": "python",
   "nbconvert_exporter": "python",
   "pygments_lexer": "ipython3",
   "version": "3.8.8"
  }
 },
 "nbformat": 4,
 "nbformat_minor": 5
}
