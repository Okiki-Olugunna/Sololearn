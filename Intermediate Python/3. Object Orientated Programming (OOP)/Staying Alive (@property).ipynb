{
 "cells": [
  {
   "cell_type": "markdown",
   "id": "c4c5e7a0",
   "metadata": {},
   "source": [
    "#### Staying Alive\n",
    "\n",
    "We are improving our game and need to add an isAlive property, which returns True if the lives count is greater than 0.\n",
    "\n",
    "\n",
    "class Player:\n",
    "    def __init__(self, name, lives):\n",
    "        self.name = name\n",
    "        self._lives = lives\n",
    "\n",
    "    def hit(self):\n",
    "        self._lives -= 1\n",
    "    \n",
    "    #your code goes here\n",
    "    \n",
    "\n",
    "p = Player(\"Cyberpunk77\", int(input()))\n",
    "i = 1\n",
    "while True:\n",
    "    p.hit()\n",
    "    print(\"Hit # \" + str(i))\n",
    "    i += 1\n",
    "    if not p.isAlive:\n",
    "        print(\"Game Over\")\n",
    "        break\n",
    "\n",
    "\n",
    "Complete the code by adding the isAlive property."
   ]
  },
  {
   "cell_type": "code",
   "execution_count": 1,
   "id": "fd928b76",
   "metadata": {},
   "outputs": [
    {
     "name": "stdout",
     "output_type": "stream",
     "text": [
      "7\n",
      "Hit # 1\n",
      "Hit # 2\n",
      "Hit # 3\n",
      "Hit # 4\n",
      "Hit # 5\n",
      "Hit # 6\n",
      "Hit # 7\n",
      "Game Over\n"
     ]
    }
   ],
   "source": [
    "class Player:\n",
    "    def __init__(self, name, lives):\n",
    "        self.name = name\n",
    "        self._lives = lives\n",
    "\n",
    "    def hit(self):\n",
    "        self._lives -= 1\n",
    "    \n",
    "    @property\n",
    "    def isAlive(self):\n",
    "        if self._lives > 0:\n",
    "            return True\n",
    "    \n",
    "\n",
    "p = Player(\"Cyberpunk77\", int(input()))\n",
    "i = 1\n",
    "while True:\n",
    "    p.hit()\n",
    "    print(\"Hit # \" + str(i))\n",
    "    i += 1\n",
    "    if not p.isAlive:\n",
    "        print(\"Game Over\")\n",
    "        break"
   ]
  }
 ],
 "metadata": {
  "kernelspec": {
   "display_name": "Python 3",
   "language": "python",
   "name": "python3"
  },
  "language_info": {
   "codemirror_mode": {
    "name": "ipython",
    "version": 3
   },
   "file_extension": ".py",
   "mimetype": "text/x-python",
   "name": "python",
   "nbconvert_exporter": "python",
   "pygments_lexer": "ipython3",
   "version": "3.8.8"
  }
 },
 "nbformat": 4,
 "nbformat_minor": 5
}
