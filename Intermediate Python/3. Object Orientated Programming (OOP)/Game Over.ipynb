{
 "cells": [
  {
   "cell_type": "markdown",
   "id": "1da4d2c1",
   "metadata": {},
   "source": [
    "#### Game Over\n",
    "\n",
    "You are making a video game! The given code declares a Player class, with its attributes and an intro() method."
   ]
  },
  {
   "cell_type": "code",
   "execution_count": null,
   "id": "6f02fb87",
   "metadata": {},
   "outputs": [],
   "source": [
    "\"\"\"\n",
    "class Player:\n",
    "    def __init__(self, name, level):\n",
    "        self.name = name\n",
    "        self.level = level\n",
    "\n",
    "    def intro(self):\n",
    "        print(self.name + \" (Level \" + self.level + \")\")\n",
    "\n",
    "\"\"\""
   ]
  },
  {
   "cell_type": "markdown",
   "id": "548c1504",
   "metadata": {},
   "source": [
    "Complete the code to take the name and level from user input, create a Player object with the corresponding values and call the intro() method of that object.\n",
    "\n",
    "Sample Input:\n",
    "\n",
    "Tony\n",
    "\n",
    "12\n",
    "\n",
    "Sample Output:\n",
    "Tony (Level 12)"
   ]
  },
  {
   "cell_type": "code",
   "execution_count": 3,
   "id": "cf781424",
   "metadata": {},
   "outputs": [
    {
     "name": "stdout",
     "output_type": "stream",
     "text": [
      "Tony\n",
      "12\n",
      "Tony (Level 12)\n"
     ]
    }
   ],
   "source": [
    "class Player:\n",
    "    def __init__(self, name, level):\n",
    "        self.name = name\n",
    "        self.level = level\n",
    "\n",
    "    def intro(self):\n",
    "        print(self.name + \" (Level \" + self.level + \")\")\n",
    "\n",
    "\n",
    "username = Player(input(), input())\n",
    "\n",
    "username.intro()"
   ]
  }
 ],
 "metadata": {
  "kernelspec": {
   "display_name": "Python 3",
   "language": "python",
   "name": "python3"
  },
  "language_info": {
   "codemirror_mode": {
    "name": "ipython",
    "version": 3
   },
   "file_extension": ".py",
   "mimetype": "text/x-python",
   "name": "python",
   "nbconvert_exporter": "python",
   "pygments_lexer": "ipython3",
   "version": "3.8.8"
  }
 },
 "nbformat": 4,
 "nbformat_minor": 5
}
