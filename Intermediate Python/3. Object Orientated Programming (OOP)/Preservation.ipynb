{
 "cells": [
  {
   "cell_type": "markdown",
   "id": "be11950f",
   "metadata": {},
   "source": [
    "#### Preservation\n",
    "\n",
    "We are working on a game. \n",
    "\n",
    "Our Player class has name and private _lives attributes.\n",
    "\n",
    "The hit() method should decrease the lives of the player by 1. In case the lives equal to 0, it should output \"Game Over\".\n",
    "\n",
    "class Player:\n",
    "    def __init__(self, name, lives):\n",
    "        self.name = name\n",
    "        self._lives = lives\n",
    "\n",
    "    def hit(self):\n",
    "        #your code goes here\n",
    "        \n",
    "\n",
    "p = Player(\"Cyberpunk77\", 3)\n",
    "p.hit()\n",
    "p.hit()\n",
    "p.hit()\n",
    "\n",
    "\n",
    "Complete the hit() method to make the program work as expected.\n",
    "\n",
    "The code creates a Player object and calls its hit() method multiple times."
   ]
  },
  {
   "cell_type": "code",
   "execution_count": 1,
   "id": "b4b1bd0f",
   "metadata": {},
   "outputs": [
    {
     "name": "stdout",
     "output_type": "stream",
     "text": [
      "Game Over\n"
     ]
    }
   ],
   "source": [
    "class Player:\n",
    "    def __init__(self, name, lives):\n",
    "        self.name = name\n",
    "        self._lives = lives\n",
    "\n",
    "    def hit(self):\n",
    "        self._lives -= 1\n",
    "        if self._lives == 0:\n",
    "            print(\"Game Over\")\n",
    "        \n",
    "        \n",
    "p = Player(\"Cyberpunk77\", 3)\n",
    "p.hit()\n",
    "p.hit()\n",
    "p.hit()"
   ]
  },
  {
   "cell_type": "code",
   "execution_count": 2,
   "id": "c3238e97",
   "metadata": {},
   "outputs": [
    {
     "name": "stdout",
     "output_type": "stream",
     "text": [
      "Game Over\n"
     ]
    }
   ],
   "source": [
    "class Player:\n",
    "    def __init__(self, name, lives):\n",
    "        self.name = name\n",
    "        self._lives = lives\n",
    "\n",
    "    def hit(self):\n",
    "        self._lives -= 1\n",
    "        if self._lives > 0:\n",
    "            return self._lives #added a return statement to make it more realistic for a game, as\n",
    "                                # may want to use the value later \n",
    "        else:\n",
    "            print(\"Game Over\")\n",
    "        \n",
    "        \n",
    "\n",
    "p = Player(\"Cyberpunk77\", 3)\n",
    "p.hit()\n",
    "p.hit()\n",
    "p.hit()"
   ]
  }
 ],
 "metadata": {
  "kernelspec": {
   "display_name": "Python 3",
   "language": "python",
   "name": "python3"
  },
  "language_info": {
   "codemirror_mode": {
    "name": "ipython",
    "version": 3
   },
   "file_extension": ".py",
   "mimetype": "text/x-python",
   "name": "python",
   "nbconvert_exporter": "python",
   "pygments_lexer": "ipython3",
   "version": "3.8.8"
  }
 },
 "nbformat": 4,
 "nbformat_minor": 5
}
