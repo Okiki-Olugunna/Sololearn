{
 "cells": [
  {
   "cell_type": "markdown",
   "id": "990dcbd3",
   "metadata": {},
   "source": [
    "#### Shape Factory\n",
    "\n",
    "We are improving our drawing application.\n",
    "\n",
    "Our application needs to support adding and comparing two Shape objects.\n",
    "Add the corresponding methods to enable addition + and comparison using the greater than > operator for the Shape class.\n",
    "\n",
    "class Shape: \n",
    "    def __init__(self, w, h):\n",
    "        self.width = w\n",
    "        self.height = h\n",
    "\n",
    "    def area(self):\n",
    "        return self.width*self.height\n",
    "\n",
    "    #your code goes here\n",
    "    \n",
    "\n",
    "w1 = int(input())\n",
    "h1 = int(input())\n",
    "w2 = int(input())\n",
    "h2 = int(input())\n",
    "\n",
    "s1 = Shape(w1, h1)\n",
    "s2 = Shape(w2, h2)\n",
    "result = s1 + s2\n",
    "\n",
    "print(result.area())\n",
    "print(s1 > s2)\n",
    "\n",
    "\n",
    "\n",
    "The addition should return a new object with the sum of the widths and heights of the operands, while the comparison should return the result of comparing the areas of the objects."
   ]
  },
  {
   "cell_type": "code",
   "execution_count": null,
   "id": "811b4a66",
   "metadata": {},
   "outputs": [],
   "source": [
    "class Shape: \n",
    "    def __init__(self, w, h):\n",
    "        self.width = w\n",
    "        self.height = h\n",
    "\n",
    "    def area(self):\n",
    "        return self.width*self.height\n",
    "\n",
    "    def __add__(self, other):\n",
    "        return Shape(self.width + other.width, self.height + other.height)\n",
    "    \n",
    "    def __lt__(self, other):\n",
    "        return self.area() < other.area()\n",
    "    \n",
    "\n",
    "w1 = int(input())\n",
    "h1 = int(input())\n",
    "w2 = int(input())\n",
    "h2 = int(input())\n",
    "\n",
    "s1 = Shape(w1, h1)\n",
    "s2 = Shape(w2, h2)\n",
    "result = s1 + s2\n",
    "\n",
    "print(result.area())\n",
    "print(s1 > s2)"
   ]
  }
 ],
 "metadata": {
  "kernelspec": {
   "display_name": "Python 3",
   "language": "python",
   "name": "python3"
  },
  "language_info": {
   "codemirror_mode": {
    "name": "ipython",
    "version": 3
   },
   "file_extension": ".py",
   "mimetype": "text/x-python",
   "name": "python",
   "nbconvert_exporter": "python",
   "pygments_lexer": "ipython3",
   "version": "3.8.8"
  }
 },
 "nbformat": 4,
 "nbformat_minor": 5
}
