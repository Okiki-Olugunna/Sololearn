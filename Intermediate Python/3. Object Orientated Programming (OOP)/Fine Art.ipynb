{
 "cells": [
  {
   "cell_type": "markdown",
   "id": "aa50b65a",
   "metadata": {},
   "source": [
    "#### Fine Art\n",
    "\n",
    "You are making a drawing application, which has a Shape base class.\n",
    "The given code defines a Rectangle class, creates a Rectangle object and calls its area() and perimeter() methods."
   ]
  },
  {
   "cell_type": "code",
   "execution_count": null,
   "id": "dc7bd634",
   "metadata": {},
   "outputs": [],
   "source": [
    "\"\"\"\n",
    "class Shape: \n",
    "    def __init__(self, w, h):\n",
    "        self.width = w\n",
    "        self.height = h\n",
    "\n",
    "    def area(self):\n",
    "        print(self.width*self.height)\n",
    "\n",
    "class Rectangle:\n",
    "\n",
    "    \n",
    "\n",
    "w = int(input())\n",
    "h = int(input())\n",
    "\n",
    "r = Rectangle(w, h)\n",
    "r.area()\n",
    "r.perimeter()\n",
    "\"\"\""
   ]
  },
  {
   "cell_type": "markdown",
   "id": "d54faff0",
   "metadata": {},
   "source": [
    "Do the following to complete the program:\n",
    "1. Inherit the Rectangle class from Shape.\n",
    "\n",
    "2. Define the perimeter() method in the Rectangle class, printing the perimeter of the rectangle.\n",
    "\n",
    "The perimeter is equal to 2*(width+height)"
   ]
  },
  {
   "cell_type": "code",
   "execution_count": null,
   "id": "2d8abf9e",
   "metadata": {},
   "outputs": [],
   "source": [
    "class Shape: \n",
    "    def __init__(self, w, h):\n",
    "        self.width = w\n",
    "        self.height = h\n",
    "\n",
    "    def area(self):\n",
    "        print(self.width*self.height)\n",
    "\n",
    "class Rectangle(Shape):\n",
    "    def perimeter(self):\n",
    "        print(2 * (w+h))    \n",
    "\n",
    "w = int(input())\n",
    "h = int(input())\n",
    "\n",
    "r = Rectangle(w, h)\n",
    "r.area()\n",
    "r.perimeter()"
   ]
  }
 ],
 "metadata": {
  "kernelspec": {
   "display_name": "Python 3",
   "language": "python",
   "name": "python3"
  },
  "language_info": {
   "codemirror_mode": {
    "name": "ipython",
    "version": 3
   },
   "file_extension": ".py",
   "mimetype": "text/x-python",
   "name": "python",
   "nbconvert_exporter": "python",
   "pygments_lexer": "ipython3",
   "version": "3.8.8"
  }
 },
 "nbformat": 4,
 "nbformat_minor": 5
}
