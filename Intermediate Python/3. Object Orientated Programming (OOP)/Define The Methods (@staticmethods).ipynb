{
 "cells": [
  {
   "cell_type": "markdown",
   "id": "1cb79a21",
   "metadata": {},
   "source": [
    "#### Define The Methods\n",
    "\n",
    "The given code takes 2 numbers as input and calls the static area() method of the Shape class, to output the area of the shape, which is equal to the height multiplied by the width.\n",
    "\n",
    "\n",
    "#your code goes here\n",
    "\n",
    "\n",
    "w = int(input())\n",
    "h = int(input())\n",
    "\n",
    "print(Shape.area(w, h))\n",
    "\n",
    "\n",
    "To make the code work, you need to define the Shape class, and the static area() method, which should return the multiplication of its two arguments."
   ]
  },
  {
   "cell_type": "code",
   "execution_count": 1,
   "id": "f764282d",
   "metadata": {},
   "outputs": [
    {
     "name": "stdout",
     "output_type": "stream",
     "text": [
      "4\n",
      "5\n",
      "20\n"
     ]
    }
   ],
   "source": [
    "class Shape:\n",
    "    def __init__(self, height, width):\n",
    "        self.height = height\n",
    "        self.width = width\n",
    "\n",
    "    @staticmethod\n",
    "    def area(height, width):\n",
    "        return height * width\n",
    "\n",
    "\n",
    "w = int(input())\n",
    "h = int(input())\n",
    "\n",
    "print(Shape.area(w, h))"
   ]
  }
 ],
 "metadata": {
  "kernelspec": {
   "display_name": "Python 3",
   "language": "python",
   "name": "python3"
  },
  "language_info": {
   "codemirror_mode": {
    "name": "ipython",
    "version": 3
   },
   "file_extension": ".py",
   "mimetype": "text/x-python",
   "name": "python",
   "nbconvert_exporter": "python",
   "pygments_lexer": "ipython3",
   "version": "3.8.8"
  }
 },
 "nbformat": 4,
 "nbformat_minor": 5
}
