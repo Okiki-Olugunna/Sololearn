{
 "cells": [
  {
   "cell_type": "markdown",
   "id": "4f62ecad",
   "metadata": {},
   "source": [
    "### Project - Letter Counter \n",
    "\n",
    "Given a string as input, you need to output how many times each letter appears in the string.\n",
    "You decide to store the data in a dictionary, with the letters as the keys, and the corresponding counts as the values.\n",
    "Create a program to take a string as input and output a dictionary, which represents the letter count.\n",
    "\n",
    "Sample Input:\n",
    "hello\n",
    "\n",
    "Sample Output:\n",
    "{'h': 1, 'e': 1, 'l': 2, 'o': 1}"
   ]
  },
  {
   "cell_type": "code",
   "execution_count": 1,
   "id": "81390990",
   "metadata": {},
   "outputs": [
    {
     "name": "stdout",
     "output_type": "stream",
     "text": [
      "hello\n",
      "{'h': 1, 'e': 1, 'l': 2, 'o': 1}\n"
     ]
    }
   ],
   "source": [
    "text = input()\n",
    "my_dict = {}\n",
    "\n",
    "for i in text:\n",
    "    my_dict[i] = text.count(i)\n",
    "\n",
    "print(my_dict)"
   ]
  }
 ],
 "metadata": {
  "kernelspec": {
   "display_name": "Python 3",
   "language": "python",
   "name": "python3"
  },
  "language_info": {
   "codemirror_mode": {
    "name": "ipython",
    "version": 3
   },
   "file_extension": ".py",
   "mimetype": "text/x-python",
   "name": "python",
   "nbconvert_exporter": "python",
   "pygments_lexer": "ipython3",
   "version": "3.8.8"
  }
 },
 "nbformat": 4,
 "nbformat_minor": 5
}
