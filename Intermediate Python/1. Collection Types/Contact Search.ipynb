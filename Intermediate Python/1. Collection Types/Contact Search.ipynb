{
 "cells": [
  {
   "cell_type": "markdown",
   "id": "f9953028",
   "metadata": {},
   "source": [
    "#### Contact Search\n",
    "\n",
    "You are given a list of contacts, where each contact is represented by a tuple, with the name and age of the contact.\n",
    "\n",
    "contacts = [\n",
    "    ('James', 42),\n",
    "    ('Amy', 24),\n",
    "    ('John', 31),\n",
    "    ('Amanda', 63),\n",
    "    ('Bob', 18)\n",
    "]\n",
    "\n",
    "Complete the program to get a string as input, search for the name in the list of contacts and output the age of the contact in the format presented below:\n",
    "\n",
    "Sample Input:\n",
    "John\n",
    "\n",
    "Sample Output:\n",
    "\n",
    "John is 31\n",
    "\n",
    "If the contact is not found, the program should output \"Not found\"."
   ]
  },
  {
   "cell_type": "code",
   "execution_count": 1,
   "id": "16de87aa",
   "metadata": {},
   "outputs": [
    {
     "name": "stdout",
     "output_type": "stream",
     "text": [
      "John\n",
      "John is 31\n"
     ]
    }
   ],
   "source": [
    "contacts = [\n",
    "    ('James', 42),\n",
    "    ('Amy', 24),\n",
    "    ('John', 31),\n",
    "    ('Amanda', 63),\n",
    "    ('Bob', 18)\n",
    "]\n",
    "\n",
    "\n",
    "name = input()\n",
    "\n",
    "for i in contacts:\n",
    "    for x in i:\n",
    "        if name == x:\n",
    "            print(name, \"is\", i[1])\n",
    "        break\n",
    "    else:\n",
    "        if name != x:\n",
    "            print(\"Not found\")"
   ]
  }
 ],
 "metadata": {
  "kernelspec": {
   "display_name": "Python 3",
   "language": "python",
   "name": "python3"
  },
  "language_info": {
   "codemirror_mode": {
    "name": "ipython",
    "version": 3
   },
   "file_extension": ".py",
   "mimetype": "text/x-python",
   "name": "python",
   "nbconvert_exporter": "python",
   "pygments_lexer": "ipython3",
   "version": "3.8.8"
  }
 },
 "nbformat": 4,
 "nbformat_minor": 5
}
