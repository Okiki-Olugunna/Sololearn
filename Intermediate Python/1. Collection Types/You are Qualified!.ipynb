{
 "cells": [
  {
   "cell_type": "markdown",
   "id": "01018c58",
   "metadata": {},
   "source": [
    "#### You are Qualified! \n",
    "\n",
    "You are working on a recruitment platform, which should match the available jobs and the candidates based on their skills.\n",
    "The skills required for the job, and the candidate's skills are stored in sets.\n",
    "\n",
    "skills = {'Python', 'HTML', 'SQL', 'C++', 'Java', 'Scala'}\n",
    "\n",
    "job_skills = {'HTML', 'CSS', 'JS', 'C#', 'NodeJS'}\n",
    "\n",
    "Complete the program to output the matched skill."
   ]
  },
  {
   "cell_type": "code",
   "execution_count": 1,
   "id": "11c8e484",
   "metadata": {},
   "outputs": [
    {
     "name": "stdout",
     "output_type": "stream",
     "text": [
      "{'HTML'}\n"
     ]
    }
   ],
   "source": [
    "skills = {'Python', 'HTML', 'SQL', 'C++', 'Java', 'Scala'}\n",
    "\n",
    "job_skills = {'HTML', 'CSS', 'JS', 'C#', 'NodeJS'}\n",
    "\n",
    "\n",
    "print(skills & job_skills)"
   ]
  },
  {
   "cell_type": "code",
   "execution_count": 2,
   "id": "62324775",
   "metadata": {},
   "outputs": [
    {
     "name": "stdout",
     "output_type": "stream",
     "text": [
      "HTML\n"
     ]
    }
   ],
   "source": [
    "# to make the output come out as a string:\n",
    "\n",
    "skills = {'Python', 'HTML', 'SQL', 'C++', 'Java', 'Scala'}\n",
    "job_skills = {'HTML', 'CSS', 'JS', 'C#', 'NodeJS'}\n",
    "\n",
    "\n",
    "match = skills & job_skills\n",
    "\n",
    "print(\"\".join(match))"
   ]
  }
 ],
 "metadata": {
  "kernelspec": {
   "display_name": "Python 3",
   "language": "python",
   "name": "python3"
  },
  "language_info": {
   "codemirror_mode": {
    "name": "ipython",
    "version": 3
   },
   "file_extension": ".py",
   "mimetype": "text/x-python",
   "name": "python",
   "nbconvert_exporter": "python",
   "pygments_lexer": "ipython3",
   "version": "3.8.8"
  }
 },
 "nbformat": 4,
 "nbformat_minor": 5
}
