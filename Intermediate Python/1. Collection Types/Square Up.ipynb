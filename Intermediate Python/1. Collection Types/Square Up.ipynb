{
 "cells": [
  {
   "cell_type": "markdown",
   "id": "c76063fe",
   "metadata": {},
   "source": [
    "#### Square Up\n",
    "\n",
    "Tuples can be used to output multiple values from a function.\n",
    "You need to make a function called calc(), that will take the side length of a square as its argument and return the perimeter and area using a tuple.\n",
    "The perimeter is the sum of all sides, while the area is the square of the side length.\n",
    "\n",
    "Sample Input:\n",
    "3\n",
    "\n",
    "Sample Output:\n",
    "\n",
    "Perimeter: 12\n",
    "\n",
    "Area: 9"
   ]
  },
  {
   "cell_type": "code",
   "execution_count": 1,
   "id": "2480d3e8",
   "metadata": {},
   "outputs": [
    {
     "name": "stdout",
     "output_type": "stream",
     "text": [
      "3\n",
      "Perimeter: 12\n",
      "Area: 9\n"
     ]
    }
   ],
   "source": [
    "def calc(x):\n",
    "    return x*4, x*x\n",
    "    \n",
    "\n",
    "side = int(input())\n",
    "\n",
    "p, a = calc(side)\n",
    "\n",
    "print(\"Perimeter: \" + str(p))\n",
    "print(\"Area: \" + str(a))"
   ]
  },
  {
   "cell_type": "code",
   "execution_count": 2,
   "id": "66b551d7",
   "metadata": {},
   "outputs": [
    {
     "name": "stdout",
     "output_type": "stream",
     "text": [
      "3\n",
      "Perimeter: 12\n",
      "Area: 9\n"
     ]
    }
   ],
   "source": [
    "# using format to concatenate instead:\n",
    "\n",
    "def calc(x):\n",
    "    return x*4, x*x\n",
    "    \n",
    "\n",
    "side = int(input())\n",
    "\n",
    "p, a = calc(side)\n",
    "\n",
    "print(f\"Perimeter: {p}\")\n",
    "print(f\"Area: {a}\")"
   ]
  }
 ],
 "metadata": {
  "kernelspec": {
   "display_name": "Python 3",
   "language": "python",
   "name": "python3"
  },
  "language_info": {
   "codemirror_mode": {
    "name": "ipython",
    "version": 3
   },
   "file_extension": ".py",
   "mimetype": "text/x-python",
   "name": "python",
   "nbconvert_exporter": "python",
   "pygments_lexer": "ipython3",
   "version": "3.8.8"
  }
 },
 "nbformat": 4,
 "nbformat_minor": 5
}
