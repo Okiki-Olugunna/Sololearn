{
 "cells": [
  {
   "cell_type": "markdown",
   "id": "5f12e38b",
   "metadata": {},
   "source": [
    "#### Car Data\n",
    "\n",
    "You are working at a car dealership and store the car data in a dictionary:\n",
    "\n",
    "car = {\n",
    "    'brand': 'BMW',\n",
    "    'year': 2018,\n",
    "    'color': 'red'\n",
    "} \n",
    "\n",
    "\n",
    "Your program needs to take the key as input and output the corresponding value.\n",
    "\n",
    "Sample Input:\n",
    "year\n",
    "\n",
    "Sample Output:\n",
    "2018"
   ]
  },
  {
   "cell_type": "code",
   "execution_count": 1,
   "id": "1a2f6fae",
   "metadata": {},
   "outputs": [
    {
     "name": "stdout",
     "output_type": "stream",
     "text": [
      "year\n",
      "2018\n"
     ]
    }
   ],
   "source": [
    "car = {\n",
    "    'brand':'BMW',\n",
    "    'year': 2018,\n",
    "    'color': 'red',\n",
    "    'mileage': 15000\n",
    "}\n",
    "\n",
    "\n",
    "text = input()\n",
    "\n",
    "print(car[text])"
   ]
  }
 ],
 "metadata": {
  "kernelspec": {
   "display_name": "Python 3",
   "language": "python",
   "name": "python3"
  },
  "language_info": {
   "codemirror_mode": {
    "name": "ipython",
    "version": 3
   },
   "file_extension": ".py",
   "mimetype": "text/x-python",
   "name": "python",
   "nbconvert_exporter": "python",
   "pygments_lexer": "ipython3",
   "version": "3.8.8"
  }
 },
 "nbformat": 4,
 "nbformat_minor": 5
}
