{
 "cells": [
  {
   "cell_type": "markdown",
   "id": "5c4c1a03",
   "metadata": {},
   "source": [
    "#### National Economic Freedom\n",
    "\n",
    "You are working on data that represents the economic freedom rank by country.\n",
    "Each country name and rank are stored in a dictionary, with the key being the country name.\n",
    "\n",
    "data = {\n",
    "    'Singapore': 1,\n",
    "    'Ireland': 6,\n",
    "    'United Kingdom': 7,\n",
    "    'Germany': 27,\n",
    "    'Armenia': 34,\n",
    "    'United States': 17,\n",
    "    'Canada': 9,\n",
    "    'Italy': 74\n",
    "}\n",
    "\n",
    "\n",
    "Complete the program to take the country name as input and output its corresponding economic freedom rank.\n",
    "\n",
    "In case the provided country name is not present in the data, output \"Not found\"."
   ]
  },
  {
   "cell_type": "code",
   "execution_count": null,
   "id": "fad08492",
   "metadata": {},
   "outputs": [],
   "source": [
    "data = {\n",
    "    'Singapore': 1,\n",
    "    'Ireland': 6,\n",
    "    'United Kingdom': 7,\n",
    "    'Germany': 27,\n",
    "    'Armenia': 34,\n",
    "    'United States': 17,\n",
    "    'Canada': 9,\n",
    "    'Italy': 74\n",
    "}\n",
    "\n",
    "\n",
    "country = input()\n",
    "\n",
    "if country in data:\n",
    "    print(data[country])\n",
    "else:\n",
    "    print(\"Not found\")"
   ]
  },
  {
   "cell_type": "code",
   "execution_count": null,
   "id": "664e1e26",
   "metadata": {},
   "outputs": [],
   "source": [
    "# could alternatively use the .get() function\n",
    "\n",
    "data = {\n",
    "    'Singapore': 1,\n",
    "    'Ireland': 6,\n",
    "    'United Kingdom': 7,\n",
    "    'Germany': 27,\n",
    "    'Armenia': 34,\n",
    "    'United States': 17,\n",
    "    'Canada': 9,\n",
    "    'Italy': 74\n",
    "}\n",
    "\n",
    "country = input()\n",
    "\n",
    "print(data.get(country, \"Not found\"))"
   ]
  }
 ],
 "metadata": {
  "kernelspec": {
   "display_name": "Python 3",
   "language": "python",
   "name": "python3"
  },
  "language_info": {
   "codemirror_mode": {
    "name": "ipython",
    "version": 3
   },
   "file_extension": ".py",
   "mimetype": "text/x-python",
   "name": "python",
   "nbconvert_exporter": "python",
   "pygments_lexer": "ipython3",
   "version": "3.8.8"
  }
 },
 "nbformat": 4,
 "nbformat_minor": 5
}
