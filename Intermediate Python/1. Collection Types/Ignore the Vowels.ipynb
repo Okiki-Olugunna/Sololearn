{
 "cells": [
  {
   "cell_type": "markdown",
   "id": "380c973f",
   "metadata": {},
   "source": [
    "#### Ignore the Vowels\n",
    "\n",
    "Given a word as input, output a list, containing only the letters of the word that are not vowels.\n",
    "The vowels are a, e, i, o, u.\n",
    "\n",
    "Sample Input:\n",
    "awesome\n",
    "\n",
    "Sample Output:\n",
    "['w', 's', 'm']"
   ]
  },
  {
   "cell_type": "code",
   "execution_count": 1,
   "id": "473bb34f",
   "metadata": {},
   "outputs": [
    {
     "name": "stdout",
     "output_type": "stream",
     "text": [
      "awesome\n",
      "['w', 's', 'm']\n"
     ]
    }
   ],
   "source": [
    "word = input()\n",
    "\n",
    "print([i for i in word if i not in 'aeiou'])"
   ]
  }
 ],
 "metadata": {
  "kernelspec": {
   "display_name": "Python 3",
   "language": "python",
   "name": "python3"
  },
  "language_info": {
   "codemirror_mode": {
    "name": "ipython",
    "version": 3
   },
   "file_extension": ".py",
   "mimetype": "text/x-python",
   "name": "python",
   "nbconvert_exporter": "python",
   "pygments_lexer": "ipython3",
   "version": "3.8.8"
  }
 },
 "nbformat": 4,
 "nbformat_minor": 5
}
